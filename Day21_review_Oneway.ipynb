{
 "cells": [
  {
   "cell_type": "code",
   "execution_count": 34,
   "id": "8b76017d",
   "metadata": {},
   "outputs": [],
   "source": [
    "import pandas as pd\n",
    "import numpy as np\n",
    "import matplotlib.pyplot as plt\n",
    "\n",
    "\n",
    "url = 'https://www.data.go.kr/download/15028199/standard.do?dataType=csv'\n",
    "raw_df = pd.read_csv(url, encoding= 'cp949')\n",
    "column_selection = ['시도명', '지정사유', '지정연도', '도로폭', '도로차로수', '보차분리여부']\n",
    "select_df = raw_df[column_selection] "
   ]
  },
  {
   "cell_type": "code",
   "execution_count": 35,
   "id": "12f58629",
   "metadata": {},
   "outputs": [
    {
     "name": "stdout",
     "output_type": "stream",
     "text": [
      "(2159, 6)\n",
      "시도명        object\n",
      "지정사유       object\n",
      "지정연도      float64\n",
      "도로폭       float64\n",
      "도로차로수     float64\n",
      "보차분리여부     object\n",
      "dtype: object\n",
      "시도명 \t False\n",
      "지정사유 \t True\n",
      "지정연도 \t True\n",
      "도로폭 \t False\n",
      "도로차로수 \t True\n",
      "보차분리여부 \t False\n"
     ]
    }
   ],
   "source": [
    "print(select_df.shape)\n",
    "print(select_df.dtypes)\n",
    "for e in select_df:\n",
    "    print(e, '\\t', select_df[e].hasnans)"
   ]
  },
  {
   "cell_type": "markdown",
   "id": "cf6e07fa",
   "metadata": {},
   "source": [
    "## 시도명"
   ]
  },
  {
   "cell_type": "code",
   "execution_count": 36,
   "id": "426bc25b",
   "metadata": {},
   "outputs": [
    {
     "name": "stdout",
     "output_type": "stream",
     "text": [
      "['경기도' '경상북도' '제주특별자치도' '인천광역시' '강원도' '경상남도' '서울특별시' '충청남도' '전라남도' '전라북도'\n",
      " '광주광역시' '충청북도']\n",
      "False\n"
     ]
    }
   ],
   "source": [
    "# 결측치 : 없음\n",
    "# 오류치 :  10 --> 강원도\n",
    "# print(raw_df[raw_df['시도명']=='10'])\n",
    "filter1 = raw_df['시도명']=='10'\n",
    "select_df.loc[filter1, '시도명'] = '강원도'\n",
    "\n",
    "# 이상치: 없음\n",
    "print(select_df['시도명'].unique())\n",
    "print(select_df['시도명'].hasnans)"
   ]
  },
  {
   "cell_type": "markdown",
   "id": "1b8e7750",
   "metadata": {},
   "source": [
    "## 지정사유"
   ]
  },
  {
   "cell_type": "code",
   "execution_count": 37,
   "id": "f79808f7",
   "metadata": {},
   "outputs": [
    {
     "name": "stdout",
     "output_type": "stream",
     "text": [
      "[nan '통행원활' '교통불편 해소' '원활한 차량통행을 위하여 지정' '보행안전' '통행안전' '원활한교통통행'\n",
      " '차량소통 촉진 및 보행자 안전' '보행자안전확보' '주민건의' '교행불가' '교통소통' '원활한 교통흐름 및 보행 안전'\n",
      " '주차혼잡구간' '본도로 진입불가' '시장혼잡구간' '주택밀집지역' '고가도로' '교통사고 다발' '원통전통시장주차장 출입구'\n",
      " '교통안전' '교통흐름을 원활히 하기 위함' '부채도로' '주민편의' '순환차로' '교통혼잡 및 소통 원활 필요' '도로협소'\n",
      " '혼잡지역' '혼자지역' '혼잡구역' '혼잡비역' '차량교행']\n",
      "True\n",
      "['불분명' '원활' '불편' '안전' '주민건의' '교행불가' '교통소통' '혼잡' '본도로 진입불가' '주택밀집지역' '고가도로'\n",
      " '교통사고 다발' '원통전통시장주차장 출입구' '부채도로' '주민편의' '순환차로' '도로협소' '혼자지역' '차량교행']\n",
      "False\n"
     ]
    },
    {
     "name": "stderr",
     "output_type": "stream",
     "text": [
      "/var/folders/br/8bbtv7t175s4k3b2shs9n46m0000gn/T/ipykernel_35094/188673872.py:24: SettingWithCopyWarning: \n",
      "A value is trying to be set on a copy of a slice from a DataFrame.\n",
      "Try using .loc[row_indexer,col_indexer] = value instead\n",
      "\n",
      "See the caveats in the documentation: https://pandas.pydata.org/pandas-docs/stable/user_guide/indexing.html#returning-a-view-versus-a-copy\n",
      "  select_df.loc[:, '지정사유'] = select_df.loc[:, '지정사유'].apply(e1)\n"
     ]
    }
   ],
   "source": [
    "print(select_df['지정사유'].unique())\n",
    "print(select_df['지정사유'].hasnans)\n",
    "\n",
    "# 결측치\n",
    "na_filter = select_df['지정사유'].isna()\n",
    "# print(na_filter.value_counts())\n",
    "select_df.loc[na_filter, '지정사유'] = '불분명' # select_df['지정사유'].fillna('불분명')\n",
    "\n",
    "# 오류치: 같은 내용 다른이름 정리\n",
    "\n",
    "def e1(x):\n",
    "    if '원활' in x:\n",
    "        return '원활'\n",
    "    elif '불편' in x:\n",
    "        return '불편'\n",
    "    elif '안전' in x:\n",
    "        return '안전'\n",
    "    elif '혼잡' in x:\n",
    "        return '혼잡'\n",
    "    else:\n",
    "        return x\n",
    "        \n",
    "        \n",
    "select_df.loc[:, '지정사유'] = select_df.loc[:, '지정사유'].apply(e1)\n",
    "\n",
    "# 이상치 : 없음\n",
    "\n",
    "print(select_df['지정사유'].unique())\n",
    "print(select_df['지정사유'].hasnans)"
   ]
  },
  {
   "cell_type": "markdown",
   "id": "a170a35c",
   "metadata": {},
   "source": [
    "## 지정연도"
   ]
  },
  {
   "cell_type": "code",
   "execution_count": 38,
   "id": "fc1c4463",
   "metadata": {},
   "outputs": [
    {
     "name": "stdout",
     "output_type": "stream",
     "text": [
      "[  nan 2017. 2018. 2014. 2005. 2019. 2022. 2016. 2012. 1999. 2021. 2015.\n",
      " 2013. 2004. 2002. 2008. 2009. 2010. 2011. 1998. 2001. 2003. 2006. 2000.\n",
      " 1995. 2020. 2007. 1990. 1997. 1996.]\n",
      "True\n",
      "True     1609\n",
      "False     550\n",
      "Name: 지정연도, dtype: int64\n",
      "[   0. 2017. 2018. 2014. 2005. 2019. 2022. 2016. 2012. 1999. 2021. 2015.\n",
      " 2013. 2004. 2002. 2008. 2009. 2010. 2011. 1998. 2001. 2003. 2006. 2000.\n",
      " 1995. 2020. 2007. 1990. 1997. 1996.]\n",
      "False\n"
     ]
    }
   ],
   "source": [
    "print(select_df['지정연도'].unique())\n",
    "print(select_df['지정연도'].hasnans)\n",
    "\n",
    "#결측치\n",
    "na_filter = select_df['지정연도'].isna()\n",
    "print(na_filter.value_counts())\n",
    "select_df.loc[na_filter, '지정연도'] = 0.0\n",
    "\n",
    "print(select_df['지정연도'].unique())\n",
    "print(select_df['지정연도'].hasnans)"
   ]
  },
  {
   "cell_type": "markdown",
   "id": "d69c93c0",
   "metadata": {},
   "source": [
    "## 도로폭"
   ]
  },
  {
   "cell_type": "code",
   "execution_count": 39,
   "id": "d4a65d81",
   "metadata": {},
   "outputs": [
    {
     "name": "stdout",
     "output_type": "stream",
     "text": [
      "[ 5.   9.   4.   6.   7.5  8.   7.  12.  15.  16.   3.5  5.5  3.  10.\n",
      " 14.   4.5  6.5 15.5  2.5  7.1  9.8  9.7  6.3  3.7  8.5  8.2 14.6  2.\n",
      "  4.9  4.6  2.8  4.8  5.6  8.1  6.4  4.1  6.6  5.7  4.7  4.3  3.8  9.1\n",
      "  7.4  5.3  5.8  4.2 17.  13.5 24.  11.   9.5 22.  19.   3.2  4.4  5.1\n",
      "  5.9  3.9 32.   5.4  3.4 18.   7.3  3.3 13.   7.6  8.4  5.2  7.8  6.2\n",
      "  6.7  8.8  7.7  8.3  6.1  6.9  6.8]\n",
      "False\n",
      "-0.5 11.5\n",
      "False    2104\n",
      "True       55\n",
      "Name: 도로폭, dtype: int64\n",
      "[ 5.   9.   4.   6.   7.5  8.   7.   nan  3.5  5.5  3.  10.   4.5  6.5\n",
      "  2.5  7.1  9.8  9.7  6.3  3.7  8.5  8.2  2.   4.9  4.6  2.8  4.8  5.6\n",
      "  8.1  6.4  4.1  6.6  5.7  4.7  4.3  3.8  9.1  7.4  5.3  5.8  4.2 11.\n",
      "  9.5  3.2  4.4  5.1  5.9  3.9  5.4  3.4  7.3  3.3  7.6  8.4  5.2  7.8\n",
      "  6.2  6.7  8.8  7.7  8.3  6.1  6.9  6.8]\n",
      "True\n"
     ]
    }
   ],
   "source": [
    "print(select_df['도로폭'].unique())\n",
    "print(select_df['도로폭'].hasnans)\n",
    "\n",
    "#결측치 없음\n",
    "\n",
    "#오류치 없음\n",
    "\n",
    "#이상치 있음 : upper 보다 큰 값을 np.NaN으로 교체, 후에 dropna()이용 샘플 삭제\n",
    "\n",
    "# print(select_df['도로폭'].describe())\n",
    "q1, q3 = select_df['도로폭'].quantile([0.25, 0.75])\n",
    "iqr = q3 - q1\n",
    "upper = q3 + 1.5*iqr\n",
    "lower = q1 - 1.5*iqr\n",
    "print(lower, upper)\n",
    "filter1 = select_df['도로폭'] > upper\n",
    "print(filter1.value_counts())\n",
    "select_df.loc[filter1, '도로폭'] = np.nan\n",
    "\n",
    "print(select_df['도로폭'].unique())\n",
    "print(select_df['도로폭'].hasnans)"
   ]
  },
  {
   "cell_type": "markdown",
   "id": "1ef1b534",
   "metadata": {},
   "source": [
    "## 도로차로수"
   ]
  },
  {
   "cell_type": "code",
   "execution_count": 40,
   "id": "5a57bd05",
   "metadata": {},
   "outputs": [
    {
     "name": "stdout",
     "output_type": "stream",
     "text": [
      "[ 1.  2.  4.  3.  5. nan 60.]\n",
      "True\n",
      "False    2158\n",
      "True        1\n",
      "Name: 도로차로수, dtype: int64\n",
      "False    2158\n",
      "True        1\n",
      "Name: 도로차로수, dtype: int64\n",
      "[ 1.  2.  4.  3.  5. nan]\n",
      "True\n"
     ]
    }
   ],
   "source": [
    "print(select_df['도로차로수'].unique())\n",
    "print(select_df['도로차로수'].hasnans)\n",
    "\n",
    "# 결측치 :\n",
    "na_filter = select_df['도로차로수'].isna()\n",
    "print(na_filter.value_counts())\n",
    "\n",
    "# 오류치 : 60 --> np.nan 후에 dropna이용제거\n",
    "filter1 = select_df['도로차로수'] == 60\n",
    "print(filter1.value_counts())\n",
    "\n",
    "select_df.loc[filter1, '도로차로수'] = np.nan\n",
    "\n",
    "print(select_df['도로차로수'].unique())\n",
    "print(select_df['도로차로수'].hasnans)\n"
   ]
  },
  {
   "cell_type": "markdown",
   "id": "f13515f3",
   "metadata": {},
   "source": [
    "## 보차분리여부"
   ]
  },
  {
   "cell_type": "code",
   "execution_count": 41,
   "id": "12c1ad25",
   "metadata": {},
   "outputs": [
    {
     "name": "stdout",
     "output_type": "stream",
     "text": [
      "['Y' 'N' ' ']\n",
      "False\n",
      "False    2158\n",
      "True        1\n",
      "Name: 보차분리여부, dtype: int64\n",
      "['Y' 'N' nan]\n",
      "True\n"
     ]
    }
   ],
   "source": [
    "print(select_df['보차분리여부'].unique())\n",
    "print(select_df['보차분리여부'].hasnans)\n",
    "\n",
    "# 결측치 : ' ' 1개 결측치 --> np.nan 로대체 후에 dropna 사용제거\n",
    "na_filter = select_df['보차분리여부'] == ' '\n",
    "print(na_filter.value_counts())\n",
    "select_df.loc[na_filter, '보차분리여부'] = np.nan\n",
    "\n",
    "# 오류치: 없음\n",
    "# 이상치: 없음\n",
    "\n",
    "print(select_df['보차분리여부'].unique())\n",
    "print(select_df['보차분리여부'].hasnans)"
   ]
  },
  {
   "cell_type": "code",
   "execution_count": 43,
   "id": "07d58af4",
   "metadata": {},
   "outputs": [],
   "source": [
    "select_df.to_csv('전국일방통행도로데이터.csv', encoding='cp949')"
   ]
  },
  {
   "cell_type": "code",
   "execution_count": null,
   "id": "91358f96",
   "metadata": {},
   "outputs": [],
   "source": []
  }
 ],
 "metadata": {
  "kernelspec": {
   "display_name": "Python 3 (ipykernel)",
   "language": "python",
   "name": "python3"
  },
  "language_info": {
   "codemirror_mode": {
    "name": "ipython",
    "version": 3
   },
   "file_extension": ".py",
   "mimetype": "text/x-python",
   "name": "python",
   "nbconvert_exporter": "python",
   "pygments_lexer": "ipython3",
   "version": "3.11.1"
  }
 },
 "nbformat": 4,
 "nbformat_minor": 5
}
