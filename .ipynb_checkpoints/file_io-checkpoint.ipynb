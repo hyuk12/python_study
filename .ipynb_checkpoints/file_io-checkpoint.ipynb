{
 "cells": [
  {
   "cell_type": "markdown",
   "id": "52c73cb5",
   "metadata": {},
   "source": [
    "# 파일 입출력"
   ]
  },
  {
   "cell_type": "code",
   "execution_count": 15,
   "id": "a59b0f92",
   "metadata": {},
   "outputs": [],
   "source": [
    "data_list = []\n",
    "with open('부산광역시_노인복지관 현황_20230101.csv', encoding = 'cp949') as file:\n",
    "    for line in file:\n",
    "        data_list.append(line.split(','))\n",
    "                         \n",
    "data_list = data_list[1:]"
   ]
  },
  {
   "cell_type": "code",
   "execution_count": 29,
   "id": "df10ee0a",
   "metadata": {},
   "outputs": [
    {
     "name": "stdout",
     "output_type": "stream",
     "text": [
      "21\n"
     ]
    }
   ],
   "source": [
    "# 주소만 출력\n",
    "gu_list = []\n",
    "for i in data_list:\n",
    "    address = i[2]\n",
    "    address_list = address.split()\n",
    "    gu_list.append(address_list[1])\n",
    "print(gu_list.index('다대로'))\n",
    "gu_list[21] = '사하구'"
   ]
  },
  {
   "cell_type": "code",
   "execution_count": 39,
   "id": "47bd66e6",
   "metadata": {},
   "outputs": [
    {
     "name": "stdout",
     "output_type": "stream",
     "text": [
      "동래구 1\n",
      "동구 3\n",
      "중구 2\n",
      "해운대구 3\n",
      "수영구 2\n",
      "기장군 3\n",
      "강서구 3\n",
      "영도구 2\n",
      "북구 1\n",
      "금정구 1\n",
      "남구 2\n",
      "서구 2\n",
      "사하구 3\n",
      "연제구 2\n",
      "부산진구 3\n",
      "사상구 2\n"
     ]
    }
   ],
   "source": [
    "gu_set = set(gu_list)\n",
    "list_guName = []\n",
    "list_count = []\n",
    "for i in gu_set:\n",
    "    print(i, gu_list.count(i))\n",
    "    list_guName.append(i)\n",
    "    list_count.append(gu_list.count(i))\n",
    "    "
   ]
  },
  {
   "cell_type": "code",
   "execution_count": 41,
   "id": "905745eb",
   "metadata": {},
   "outputs": [
    {
     "name": "stdout",
     "output_type": "stream",
     "text": [
      "{'동래구': 1, '동구': 3, '중구': 2, '해운대구': 3, '수영구': 2, '기장군': 3, '강서구': 3, '영도구': 2, '북구': 1, '금정구': 1, '남구': 2, '서구': 2, '사하구': 3, '연제구': 2, '부산진구': 3, '사상구': 2}\n"
     ]
    }
   ],
   "source": [
    "gu_dict = dict(zip(list_guName, list_count))\n",
    "print(gu_dict)"
   ]
  },
  {
   "cell_type": "code",
   "execution_count": null,
   "id": "41303298",
   "metadata": {},
   "outputs": [],
   "source": [
    "def lambda1(n):\n",
    "    print('value {}'.format(n))\n",
    "\n",
    "lambda n: print('value {}.format()')"
   ]
  },
  {
   "cell_type": "code",
   "execution_count": 47,
   "id": "16981fc5",
   "metadata": {},
   "outputs": [
    {
     "name": "stdout",
     "output_type": "stream",
     "text": [
      "{'동구': 3, '해운대구': 3, '기장군': 3, '강서구': 3, '사하구': 3, '부산진구': 3, '중구': 2, '수영구': 2, '영도구': 2, '남구': 2, '서구': 2, '연제구': 2, '사상구': 2, '동래구': 1, '북구': 1, '금정구': 1}\n"
     ]
    }
   ],
   "source": [
    "dict_sorted = dict(sorted(gu_dict.items(), key = lambda x: x[1], reverse = True))\n",
    "print(dict_sorted)"
   ]
  },
  {
   "cell_type": "code",
   "execution_count": null,
   "id": "b9f14bd5",
   "metadata": {},
   "outputs": [],
   "source": []
  }
 ],
 "metadata": {
  "kernelspec": {
   "display_name": "Python 3 (ipykernel)",
   "language": "python",
   "name": "python3"
  },
  "language_info": {
   "codemirror_mode": {
    "name": "ipython",
    "version": 3
   },
   "file_extension": ".py",
   "mimetype": "text/x-python",
   "name": "python",
   "nbconvert_exporter": "python",
   "pygments_lexer": "ipython3",
   "version": "3.11.1"
  }
 },
 "nbformat": 4,
 "nbformat_minor": 5
}
