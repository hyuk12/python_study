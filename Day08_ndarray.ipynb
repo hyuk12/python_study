{
 "cells": [
  {
   "cell_type": "code",
   "execution_count": 1,
   "id": "1fabb19e",
   "metadata": {},
   "outputs": [
    {
     "name": "stdout",
     "output_type": "stream",
     "text": [
      "Collecting numpy\n",
      "  Downloading numpy-1.24.2-cp311-cp311-macosx_11_0_arm64.whl (13.8 MB)\n",
      "\u001b[2K     \u001b[38;2;114;156;31m━━━━━━━━━━━━━━━━━━━━━━━━━━━━━━━━━━━━━━━━\u001b[0m \u001b[32m13.8/13.8 MB\u001b[0m \u001b[31m36.7 MB/s\u001b[0m eta \u001b[36m0:00:00\u001b[0mm eta \u001b[36m0:00:01\u001b[0m[36m0:00:01\u001b[0m\n",
      "\u001b[?25hInstalling collected packages: numpy\n",
      "Successfully installed numpy-1.24.2\n",
      "\n",
      "\u001b[1m[\u001b[0m\u001b[34;49mnotice\u001b[0m\u001b[1;39;49m]\u001b[0m\u001b[39;49m A new release of pip available: \u001b[0m\u001b[31;49m22.3.1\u001b[0m\u001b[39;49m -> \u001b[0m\u001b[32;49m23.0\u001b[0m\n",
      "\u001b[1m[\u001b[0m\u001b[34;49mnotice\u001b[0m\u001b[1;39;49m]\u001b[0m\u001b[39;49m To update, run: \u001b[0m\u001b[32;49mpython3.11 -m pip install --upgrade pip\u001b[0m\n",
      "Note: you may need to restart the kernel to use updated packages.\n"
     ]
    }
   ],
   "source": [
    "pip install numpy"
   ]
  },
  {
   "cell_type": "code",
   "execution_count": 2,
   "id": "f2c51066",
   "metadata": {},
   "outputs": [],
   "source": [
    "import numpy as np"
   ]
  },
  {
   "cell_type": "code",
   "execution_count": 10,
   "id": "13edeacc",
   "metadata": {},
   "outputs": [
    {
     "name": "stdout",
     "output_type": "stream",
     "text": [
      "[0 1 2 3 4 5]\n",
      "[1, 2, 3, 4, 5]\n",
      "[1 2 3 4 5]\n"
     ]
    }
   ],
   "source": [
    "a = np.arange(6)\n",
    "a1 = np.array([1, 2, 3, 4, 5])\n",
    "print(a)\n",
    "print([1, 2, 3, 4, 5])\n",
    "print(a1)"
   ]
  },
  {
   "cell_type": "markdown",
   "id": "87893926",
   "metadata": {},
   "source": [
    "## 100아래 있는 3의 배수 뽑기"
   ]
  },
  {
   "cell_type": "code",
   "execution_count": 15,
   "id": "9b8a1fd3",
   "metadata": {},
   "outputs": [
    {
     "name": "stdout",
     "output_type": "stream",
     "text": [
      "[ 3  6  9 12 15 18 21 24 27 30 33 36 39 42 45 48 51 54 57 60 63 66 69 72\n",
      " 75 78 81 84 87 90 93 96 99]\n"
     ]
    }
   ],
   "source": [
    "a3 = np.arange(3, 100, 3)\n",
    "print(a3)"
   ]
  },
  {
   "cell_type": "markdown",
   "id": "dd3490eb",
   "metadata": {},
   "source": [
    "## 1에서 부터 10아래 0.5씩 증가하는 숫자 "
   ]
  },
  {
   "cell_type": "code",
   "execution_count": 19,
   "id": "2209d5c7",
   "metadata": {},
   "outputs": [
    {
     "name": "stdout",
     "output_type": "stream",
     "text": [
      "[1.3 1.8 2.3 2.8 3.3 3.8 4.3 4.8 5.3 5.8 6.3 6.8 7.3 7.8 8.3 8.8 9.3 9.8]\n"
     ]
    },
    {
     "ename": "TypeError",
     "evalue": "'float' object cannot be interpreted as an integer",
     "output_type": "error",
     "traceback": [
      "\u001b[0;31m---------------------------------------------------------------------------\u001b[0m",
      "\u001b[0;31mTypeError\u001b[0m                                 Traceback (most recent call last)",
      "Cell \u001b[0;32mIn[19], line 4\u001b[0m\n\u001b[1;32m      1\u001b[0m a4 \u001b[38;5;241m=\u001b[39m np\u001b[38;5;241m.\u001b[39marange(\u001b[38;5;241m1.3\u001b[39m, \u001b[38;5;241m10\u001b[39m, \u001b[38;5;241m.5\u001b[39m)\n\u001b[1;32m      2\u001b[0m \u001b[38;5;28mprint\u001b[39m(a4)\n\u001b[0;32m----> 4\u001b[0m lista \u001b[38;5;241m=\u001b[39m [i \u001b[38;5;28;01mfor\u001b[39;00m i \u001b[38;5;129;01min\u001b[39;00m \u001b[38;5;28;43mrange\u001b[39;49m\u001b[43m(\u001b[49m\u001b[38;5;241;43m1.3\u001b[39;49m\u001b[43m,\u001b[49m\u001b[43m \u001b[49m\u001b[38;5;241;43m10\u001b[39;49m\u001b[43m,\u001b[49m\u001b[43m \u001b[49m\u001b[38;5;241;43m0.5\u001b[39;49m\u001b[43m)\u001b[49m]\n",
      "\u001b[0;31mTypeError\u001b[0m: 'float' object cannot be interpreted as an integer"
     ]
    }
   ],
   "source": [
    "a4 = np.arange(1.3, 10, .5)\n",
    "print(a4)\n",
    "\n",
    "# lista = [i for i in range(1.3, 10, 0.5)] 불가능!"
   ]
  },
  {
   "cell_type": "markdown",
   "id": "b0f3f098",
   "metadata": {},
   "source": [
    "## ndarray 만드는 다른방법"
   ]
  },
  {
   "cell_type": "code",
   "execution_count": 22,
   "id": "2f4fc5ed",
   "metadata": {},
   "outputs": [
    {
     "name": "stdout",
     "output_type": "stream",
     "text": [
      "[ 0.          0.71428571  1.42857143  2.14285714  2.85714286  3.57142857\n",
      "  4.28571429  5.          5.71428571  6.42857143  7.14285714  7.85714286\n",
      "  8.57142857  9.28571429 10.        ]\n"
     ]
    }
   ],
   "source": [
    "a5 = np.linspace(0, 10, 15) # 예외적으로 start 와 end 를 다 포함한다.\n",
    "print(a5)"
   ]
  },
  {
   "cell_type": "code",
   "execution_count": 28,
   "id": "c75ced7a",
   "metadata": {},
   "outputs": [
    {
     "name": "stdout",
     "output_type": "stream",
     "text": [
      "[0. 0. 0. 0. 0.]\n",
      "[1 1 1 1 1]\n"
     ]
    },
    {
     "data": {
      "text/plain": [
       "array([1., 1., 1., 1., 1.])"
      ]
     },
     "execution_count": 28,
     "metadata": {},
     "output_type": "execute_result"
    }
   ],
   "source": [
    "a6 = np.zeros(5)\n",
    "print(a6)\n",
    "\n",
    "a7 = np.ones(5, dtype = np.int64)\n",
    "print(a7)\n",
    "\n",
    "a7.astype(np.float64)"
   ]
  },
  {
   "cell_type": "code",
   "execution_count": 30,
   "id": "85fd474e",
   "metadata": {},
   "outputs": [
    {
     "name": "stdout",
     "output_type": "stream",
     "text": [
      "[1.  2.  3.5 4.2]\n",
      "['1' '2' 'abc' 'def']\n"
     ]
    }
   ],
   "source": [
    "lista = [1, 2, 3.5, 4.2]\n",
    "\n",
    "a8 = np.array(lista)\n",
    "print(a8)\n",
    "\n",
    "listb = [1, 2, 'abc', 'def']\n",
    "a9 = np.array(listb)\n",
    "print(a9)\n"
   ]
  },
  {
   "cell_type": "code",
   "execution_count": 32,
   "id": "7d88d296",
   "metadata": {},
   "outputs": [
    {
     "data": {
      "text/plain": [
       "dtype('<U21')"
      ]
     },
     "execution_count": 32,
     "metadata": {},
     "output_type": "execute_result"
    }
   ],
   "source": [
    "a9.dtype"
   ]
  },
  {
   "cell_type": "code",
   "execution_count": 38,
   "id": "27bd31e8",
   "metadata": {},
   "outputs": [
    {
     "name": "stdout",
     "output_type": "stream",
     "text": [
      "float64\n",
      "1\n",
      "(4,)\n",
      "4\n",
      "8\n",
      "<memory at 0x119e41e40>\n"
     ]
    }
   ],
   "source": [
    "print(a8.dtype)\n",
    "print(a8.ndim) # n dimention 몇 차원이냐\n",
    "print(a8.shape) # 생긴 모양 튜플로 반환\n",
    "print(a8.size) # 배열안의 모든 element의 갯수\n",
    "\n",
    "print(a8.itemsize) # 자료형의 사이즈\n",
    "print(a8.data) # 메모리 주소"
   ]
  },
  {
   "cell_type": "code",
   "execution_count": 39,
   "id": "06c6d399",
   "metadata": {},
   "outputs": [
    {
     "name": "stdout",
     "output_type": "stream",
     "text": [
      "[10 15 20 25 30 35 40 45 50 55 60 65 70 75 80 85 90 95]\n"
     ]
    }
   ],
   "source": [
    "a10 = np.arange(10, 100, 5)\n",
    "print(a10)"
   ]
  },
  {
   "cell_type": "markdown",
   "id": "bf2da706",
   "metadata": {},
   "source": [
    "## 위의 a10을 사용해서 인덱스 슬라이싱"
   ]
  },
  {
   "cell_type": "code",
   "execution_count": 43,
   "id": "a47599fb",
   "metadata": {},
   "outputs": [
    {
     "name": "stdout",
     "output_type": "stream",
     "text": [
      "특정 인덱스: 35\n"
     ]
    }
   ],
   "source": [
    "print('특정 인덱스:', a10[5])"
   ]
  },
  {
   "cell_type": "code",
   "execution_count": 41,
   "id": "ec3c39ae",
   "metadata": {},
   "outputs": [
    {
     "name": "stdout",
     "output_type": "stream",
     "text": [
      "스타트, 스탑: [20 25 30 35 40]\n"
     ]
    }
   ],
   "source": [
    "print('스타트, 스탑:', a10[2:7])"
   ]
  },
  {
   "cell_type": "code",
   "execution_count": 44,
   "id": "9ba9fa60",
   "metadata": {},
   "outputs": [
    {
     "name": "stdout",
     "output_type": "stream",
     "text": [
      "스타트, 스탑, 스텝: [20 30 40 50 60 70 80]\n"
     ]
    }
   ],
   "source": [
    "print('스타트, 스탑, 스텝:', a10[2:-2:2])"
   ]
  },
  {
   "cell_type": "markdown",
   "id": "66f89740",
   "metadata": {},
   "source": [
    "# 여러개의 인덱스를 한번에 주는법"
   ]
  },
  {
   "cell_type": "code",
   "execution_count": 48,
   "id": "c73ffe41",
   "metadata": {},
   "outputs": [
    {
     "name": "stdout",
     "output_type": "stream",
     "text": [
      "1번째, 6번째, 9번째 인덱스값: [15 40 55]\n"
     ]
    }
   ],
   "source": [
    "print('1번째, 6번째, 9번째 인덱스값:', a10[[1, 6, 9]])"
   ]
  },
  {
   "cell_type": "markdown",
   "id": "40afbb7f",
   "metadata": {},
   "source": [
    "## 인덱스 안에 조건을 줄 수 있다."
   ]
  },
  {
   "cell_type": "code",
   "execution_count": 49,
   "id": "8e6c2a57",
   "metadata": {},
   "outputs": [
    {
     "name": "stdout",
     "output_type": "stream",
     "text": [
      "10으로 나누어서 나머지가 5인 것들: [15 25 35 45 55 65 75 85 95]\n"
     ]
    }
   ],
   "source": [
    "print('10으로 나누어서 나머지가 5인 것들:', a10[a10 % 10 == 5])"
   ]
  },
  {
   "cell_type": "markdown",
   "id": "4b7448ed",
   "metadata": {},
   "source": [
    "## 리스트의 더하기와 ndarray에서의 더하기"
   ]
  },
  {
   "cell_type": "code",
   "execution_count": 50,
   "id": "6fef0de2",
   "metadata": {},
   "outputs": [
    {
     "name": "stdout",
     "output_type": "stream",
     "text": [
      "[0, 1, 2, 10, 11, 12, 13, 14]\n"
     ]
    }
   ],
   "source": [
    "lista = [x for x in range(3)]\n",
    "listb = [x for x in range(10, 15)]\n",
    "\n",
    "print(lista + listb)"
   ]
  },
  {
   "cell_type": "markdown",
   "id": "c807de6e",
   "metadata": {},
   "source": [
    "## numpy 에서는 각각의 인덱스 번호의 아이들 끼리 연산이 이루어진다\n",
    "\n",
    "### 리스트 에서 처럼 그냥 크기를 늘려 이어 붙이기 위해서는 concatenate를 쓰고 함수안에는 튜플형식이 들어온다\n",
    "\n",
    "### 리스트에서는 리스트끼리 빼기가 불가능하지만 numpy의 ndarray는 연산이 되기에 가능하다\n",
    "\n",
    "#### 인덱스의 갯수가 맞지 않으면 연산이 불가능하다."
   ]
  },
  {
   "cell_type": "code",
   "execution_count": 56,
   "id": "e45173c0",
   "metadata": {},
   "outputs": [
    {
     "name": "stdout",
     "output_type": "stream",
     "text": [
      "[0 1 2 3 4 5 6]\n",
      "[10 11 12 13 14]\n"
     ]
    },
    {
     "ename": "ValueError",
     "evalue": "operands could not be broadcast together with shapes (7,) (5,) ",
     "output_type": "error",
     "traceback": [
      "\u001b[0;31m---------------------------------------------------------------------------\u001b[0m",
      "\u001b[0;31mValueError\u001b[0m                                Traceback (most recent call last)",
      "Cell \u001b[0;32mIn[56], line 5\u001b[0m\n\u001b[1;32m      3\u001b[0m \u001b[38;5;28mprint\u001b[39m(a1)\n\u001b[1;32m      4\u001b[0m \u001b[38;5;28mprint\u001b[39m(a2)\n\u001b[0;32m----> 5\u001b[0m \u001b[38;5;28mprint\u001b[39m(\u001b[38;5;124m'\u001b[39m\u001b[38;5;124ma1 add a2:\u001b[39m\u001b[38;5;124m'\u001b[39m, \u001b[43ma1\u001b[49m\u001b[43m \u001b[49m\u001b[38;5;241;43m+\u001b[39;49m\u001b[43m \u001b[49m\u001b[43ma2\u001b[49m)\n\u001b[1;32m      6\u001b[0m \u001b[38;5;28mprint\u001b[39m(\u001b[38;5;124m'\u001b[39m\u001b[38;5;124ma1 subscribe a2:\u001b[39m\u001b[38;5;124m'\u001b[39m, a1 \u001b[38;5;241m-\u001b[39m a2)\n\u001b[1;32m      7\u001b[0m \u001b[38;5;28mprint\u001b[39m(\u001b[38;5;124m'\u001b[39m\u001b[38;5;124ma1 multiple a2:\u001b[39m\u001b[38;5;124m'\u001b[39m, a1 \u001b[38;5;241m*\u001b[39m a2)\n",
      "\u001b[0;31mValueError\u001b[0m: operands could not be broadcast together with shapes (7,) (5,) "
     ]
    }
   ],
   "source": [
    "a1 = np.arange(5)\n",
    "a2 = np.arange(10,15)\n",
    "print(a1)\n",
    "print(a2)\n",
    "print('a1 add a2:', a1 + a2)\n",
    "print('a1 subscribe a2:', a1 - a2)\n",
    "print('a1 multiple a2:', a1 * a2)\n",
    "print('a1 division a2:', a1 / a2)\n",
    "\n",
    "print(np.concatenate((a1, a2)))\n",
    "\n"
   ]
  },
  {
   "cell_type": "code",
   "execution_count": null,
   "id": "8977d001",
   "metadata": {},
   "outputs": [],
   "source": []
  },
  {
   "cell_type": "code",
   "execution_count": null,
   "id": "0dd832aa",
   "metadata": {},
   "outputs": [],
   "source": []
  }
 ],
 "metadata": {
  "kernelspec": {
   "display_name": "Python 3 (ipykernel)",
   "language": "python",
   "name": "python3"
  },
  "language_info": {
   "codemirror_mode": {
    "name": "ipython",
    "version": 3
   },
   "file_extension": ".py",
   "mimetype": "text/x-python",
   "name": "python",
   "nbconvert_exporter": "python",
   "pygments_lexer": "ipython3",
   "version": "3.11.1"
  }
 },
 "nbformat": 4,
 "nbformat_minor": 5
}
