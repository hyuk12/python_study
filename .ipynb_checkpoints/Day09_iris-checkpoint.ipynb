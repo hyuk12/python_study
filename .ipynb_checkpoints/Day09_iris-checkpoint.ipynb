{
 "cells": [
  {
   "cell_type": "code",
   "execution_count": 26,
   "id": "40c9d480",
   "metadata": {},
   "outputs": [],
   "source": [
    "import requests\n",
    "import numpy as np\n",
    "x = requests.get('https://archive.ics.uci.edu/ml/machine-learning-databases/iris/iris.data')"
   ]
  },
  {
   "cell_type": "code",
   "execution_count": 27,
   "id": "aa3785a6",
   "metadata": {},
   "outputs": [],
   "source": [
    "raw_data = []\n",
    "for line in x.text.split('\\n'):\n",
    "    raw_data.append(line.split(','))\n",
    "    \n",
    "for sample in raw_data:\n",
    "    if len(sample) < 1 :\n",
    "        continue\n",
    "    for i, value in enumerate(sample[:4]):\n",
    "        try:\n",
    "            sample[i] = float(value)\n",
    "        except:\n",
    "            sample[i] = 0.0"
   ]
  },
  {
   "cell_type": "code",
   "execution_count": 28,
   "id": "a2d5fb83",
   "metadata": {},
   "outputs": [
    {
     "name": "stdout",
     "output_type": "stream",
     "text": [
      "[[5.1, 3.5, 1.4, 0.2, 'Iris-setosa'], [4.9, 3.0, 1.4, 0.2, 'Iris-setosa'], [4.7, 3.2, 1.3, 0.2, 'Iris-setosa']]\n"
     ]
    }
   ],
   "source": [
    "print(raw_data[:3])"
   ]
  },
  {
   "cell_type": "code",
   "execution_count": 29,
   "id": "2e5d3277",
   "metadata": {},
   "outputs": [],
   "source": [
    "for i in raw_data:\n",
    "    if len(i) < 2:\n",
    "        continue\n",
    "    if i[-1] in 'Iris-setosa':\n",
    "        i[-1] = 0.0\n",
    "    elif i[-1] in 'Iris-versicolor':\n",
    "        i[-1] = 1.0\n",
    "    elif i[-1] in 'Iris-virginica':\n",
    "        i[-1] = 2.0"
   ]
  },
  {
   "cell_type": "code",
   "execution_count": 32,
   "id": "fac04997",
   "metadata": {},
   "outputs": [
    {
     "name": "stdout",
     "output_type": "stream",
     "text": [
      "152\n"
     ]
    }
   ],
   "source": [
    "print(len(raw_data))\n",
    "raw_data = raw_data[:150]"
   ]
  },
  {
   "cell_type": "code",
   "execution_count": 33,
   "id": "bb85e9fa",
   "metadata": {},
   "outputs": [
    {
     "name": "stdout",
     "output_type": "stream",
     "text": [
      "150\n"
     ]
    }
   ],
   "source": [
    "print(len(raw_data))"
   ]
  },
  {
   "cell_type": "code",
   "execution_count": 50,
   "id": "1bf418af",
   "metadata": {},
   "outputs": [
    {
     "data": {
      "text/plain": [
       "array([5.9, 3. , 5.1, 1.8, 2. ])"
      ]
     },
     "execution_count": 50,
     "metadata": {},
     "output_type": "execute_result"
    }
   ],
   "source": [
    "np_data = np.array(raw_data)\n",
    "np_data.shape\n",
    "np_data[149]\n"
   ]
  },
  {
   "cell_type": "markdown",
   "id": "b65a0de5",
   "metadata": {},
   "source": [
    "## 기본 통계값\n",
    "\n",
    " - 전체평균, 표준편차 - sepal length, sepal width, petal length, petal width\n",
    " - 품종별 평균, 표준편차\n",
    " \n",
    " - 평균 np.mean()\n",
    " - 표준편차 np.std()"
   ]
  },
  {
   "cell_type": "code",
   "execution_count": 62,
   "id": "dda3aea1",
   "metadata": {},
   "outputs": [
    {
     "name": "stdout",
     "output_type": "stream",
     "text": [
      "[4.3 2.  1.  0.1]\n",
      "[7.9 4.4 6.9 2.5]\n",
      "[5.84333333 3.054      3.75866667 1.19866667]\n",
      "[0.82530129 0.43214658 1.75852918 0.76061262]\n",
      "[[ 1.         -0.10936925  0.87175416  0.81795363  0.78256123]\n",
      " [-0.10936925  1.         -0.4205161  -0.35654409 -0.4194462 ]\n",
      " [ 0.87175416 -0.4205161   1.          0.9627571   0.94904254]\n",
      " [ 0.81795363 -0.35654409  0.9627571   1.          0.95646382]\n",
      " [ 0.78256123 -0.4194462   0.94904254  0.95646382  1.        ]]\n"
     ]
    }
   ],
   "source": [
    "print(np.min(np_data[:, :-1], axis = 0))\n",
    "print(np.max(np_data[:, :-1], axis = 0))\n",
    "print(np.mean(np_data[:, :-1], axis = 0))\n",
    "print(np.std(np_data[:, :-1], axis = 0))\n",
    "print(np.corrcoef(np_data.T)) # 상관도"
   ]
  },
  {
   "cell_type": "code",
   "execution_count": 65,
   "id": "591867c5",
   "metadata": {},
   "outputs": [
    {
     "name": "stdout",
     "output_type": "stream",
     "text": [
      "setosa-min: [4.3 2.3 1.  0.1 0. ]\n",
      "setosa-max: [5.8 4.4 1.9 0.6 0. ]\n",
      "setosa-mean: [5.006 3.418 1.464 0.244 0.   ]\n",
      "setosa-std: [0.34894699 0.37719491 0.17176728 0.10613199 0.        ]\n",
      "[[1.         0.74678037 0.26387409 0.27909157        nan]\n",
      " [0.74678037 1.         0.17669463 0.27997289        nan]\n",
      " [0.26387409 0.17669463 1.         0.30630821        nan]\n",
      " [0.27909157 0.27997289 0.30630821 1.                nan]\n",
      " [       nan        nan        nan        nan        nan]]\n",
      "\n",
      "versicolor-min: [4.9 2.  3.  1.  1. ]\n",
      "versicolor-max: [7.  3.4 5.1 1.8 1. ]\n",
      "versicolor-mean: [5.936 2.77  4.26  1.326 1.   ]\n",
      "versicolor-std: [0.51098337 0.31064449 0.46518813 0.19576517 0.        ]\n",
      "[[1.         0.52591072 0.75404896 0.54646107        nan]\n",
      " [0.52591072 1.         0.56052209 0.66399872        nan]\n",
      " [0.75404896 0.56052209 1.         0.78666809        nan]\n",
      " [0.54646107 0.66399872 0.78666809 1.                nan]\n",
      " [       nan        nan        nan        nan        nan]]\n",
      "\n",
      "virginica-min: [4.9 2.2 4.5 1.4 2. ]\n",
      "virginica-max: [7.9 3.8 6.9 2.5 2. ]\n",
      "virginica-mean: [6.588 2.974 5.552 2.026 2.   ]\n",
      "virginica-std: [0.62948868 0.31925538 0.54634787 0.27188968 0.        ]\n",
      "[[1.         0.45722782 0.86422473 0.28110771        nan]\n",
      " [0.45722782 1.         0.40104458 0.53772803        nan]\n",
      " [0.86422473 0.40104458 1.         0.32210822        nan]\n",
      " [0.28110771 0.53772803 0.32210822 1.                nan]\n",
      " [       nan        nan        nan        nan        nan]]\n"
     ]
    },
    {
     "name": "stderr",
     "output_type": "stream",
     "text": [
      "/opt/homebrew/Cellar/jupyterlab/3.4.8_1/libexec/lib/python3.11/site-packages/numpy/lib/function_base.py:2854: RuntimeWarning: invalid value encountered in divide\n",
      "  c /= stddev[:, None]\n",
      "/opt/homebrew/Cellar/jupyterlab/3.4.8_1/libexec/lib/python3.11/site-packages/numpy/lib/function_base.py:2855: RuntimeWarning: invalid value encountered in divide\n",
      "  c /= stddev[None, :]\n"
     ]
    }
   ],
   "source": [
    "filter_setosa = np_data[:, -1] == 0\n",
    "filter_versicolor = np_data[:, -1] == 1\n",
    "filter_virginica = np_data[:, -1] == 2\n",
    "\n",
    "print('setosa-min:', np.min(np_data[filter_setosa], axis = 0))\n",
    "print('setosa-max:', np.max(np_data[filter_setosa], axis = 0))\n",
    "print('setosa-mean:', np.mean(np_data[filter_setosa], axis = 0))\n",
    "print('setosa-std:', np.std(np_data[filter_setosa], axis = 0))\n",
    "print(np.corrcoef(np_data[filter_setosa].T))\n",
    "print()\n",
    "print('versicolor-min:', np.min(np_data[filter_versicolor], axis = 0))\n",
    "print('versicolor-max:', np.max(np_data[filter_versicolor], axis = 0))\n",
    "print('versicolor-mean:', np.mean(np_data[filter_versicolor], axis = 0))\n",
    "print('versicolor-std:', np.std(np_data[filter_versicolor], axis = 0))\n",
    "print(np.corrcoef(np_data[filter_versicolor].T))\n",
    "print()\n",
    "print('virginica-min:', np.min(np_data[filter_virginica], axis = 0))\n",
    "print('virginica-max:', np.max(np_data[filter_virginica], axis = 0))\n",
    "print('virginica-mean:', np.mean(np_data[filter_virginica], axis = 0))\n",
    "print('virginica-std:', np.std(np_data[filter_virginica], axis = 0))\n",
    "print(np.corrcoef(np_data[filter_virginica].T))"
   ]
  },
  {
   "cell_type": "code",
   "execution_count": null,
   "id": "d5ccbb57",
   "metadata": {},
   "outputs": [],
   "source": []
  }
 ],
 "metadata": {
  "kernelspec": {
   "display_name": "Python 3 (ipykernel)",
   "language": "python",
   "name": "python3"
  },
  "language_info": {
   "codemirror_mode": {
    "name": "ipython",
    "version": 3
   },
   "file_extension": ".py",
   "mimetype": "text/x-python",
   "name": "python",
   "nbconvert_exporter": "python",
   "pygments_lexer": "ipython3",
   "version": "3.11.1"
  }
 },
 "nbformat": 4,
 "nbformat_minor": 5
}
