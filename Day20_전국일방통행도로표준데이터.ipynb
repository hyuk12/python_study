{
 "cells": [
  {
   "cell_type": "markdown",
   "id": "b01c8b39",
   "metadata": {},
   "source": [
    "# 전국일방통행도로표준데이터\n",
    "\n",
    "- 데이터 전처리\n",
    "\n",
    "    - 시도명, 지정사유, 지정연도, 도로폭, 도로차로수, 보차분리여부\n",
    "    \n",
    "- 결측치 처리 (column 개별 기준)\n",
    "- 오류치 처리 (unit의 차이)\n",
    "- 이상치 처리 (iqr 사용)\n",
    "- 전처리 내용 정리"
   ]
  },
  {
   "cell_type": "code",
   "execution_count": 1,
   "id": "61f7fa92",
   "metadata": {},
   "outputs": [],
   "source": [
    "import pandas as pd\n",
    "import numpy as np\n",
    "\n",
    "\n",
    "url = 'https://www.data.go.kr/download/15028199/standard.do?dataType=csv'\n",
    "raw_df = pd.read_csv(url, encoding= 'cp949')\n",
    "column_selection = ['시도명', '지정사유', '지정연도', '도로폭', '도로차로수', '보차분리여부']\n",
    "select_df = raw_df[column_selection] "
   ]
  },
  {
   "cell_type": "code",
   "execution_count": 2,
   "id": "69506e0a",
   "metadata": {},
   "outputs": [
    {
     "data": {
      "text/plain": [
       "시도명          0\n",
       "지정사유      1567\n",
       "지정연도      1609\n",
       "도로폭          0\n",
       "도로차로수        1\n",
       "보차분리여부       0\n",
       "dtype: int64"
      ]
     },
     "execution_count": 2,
     "metadata": {},
     "output_type": "execute_result"
    }
   ],
   "source": [
    "select_df.isnull().sum()"
   ]
  },
  {
   "cell_type": "code",
   "execution_count": 3,
   "id": "40e049c9",
   "metadata": {},
   "outputs": [
    {
     "data": {
      "text/plain": [
       "1.0     2042\n",
       "2.0       90\n",
       "4.0       12\n",
       "3.0        9\n",
       "5.0        4\n",
       "60.0       1\n",
       "Name: 도로차로수, dtype: int64"
      ]
     },
     "execution_count": 3,
     "metadata": {},
     "output_type": "execute_result"
    }
   ],
   "source": [
    "select_df['도로차로수'].value_counts()"
   ]
  },
  {
   "cell_type": "code",
   "execution_count": 4,
   "id": "259fec3c",
   "metadata": {},
   "outputs": [
    {
     "name": "stderr",
     "output_type": "stream",
     "text": [
      "/var/folders/br/8bbtv7t175s4k3b2shs9n46m0000gn/T/ipykernel_33348/4124278773.py:4: SettingWithCopyWarning: \n",
      "A value is trying to be set on a copy of a slice from a DataFrame.\n",
      "Try using .loc[row_indexer,col_indexer] = value instead\n",
      "\n",
      "See the caveats in the documentation: https://pandas.pydata.org/pandas-docs/stable/user_guide/indexing.html#returning-a-view-versus-a-copy\n",
      "  select_df.replace({'시도명': '10'}, '서울특별시', inplace = True)\n",
      "/var/folders/br/8bbtv7t175s4k3b2shs9n46m0000gn/T/ipykernel_33348/4124278773.py:5: SettingWithCopyWarning: \n",
      "A value is trying to be set on a copy of a slice from a DataFrame.\n",
      "Try using .loc[row_indexer,col_indexer] = value instead\n",
      "\n",
      "See the caveats in the documentation: https://pandas.pydata.org/pandas-docs/stable/user_guide/indexing.html#returning-a-view-versus-a-copy\n",
      "  select_df.replace({'보차분리여부': ' '}, 'N', inplace = True)\n",
      "/var/folders/br/8bbtv7t175s4k3b2shs9n46m0000gn/T/ipykernel_33348/4124278773.py:7: SettingWithCopyWarning: \n",
      "A value is trying to be set on a copy of a slice from a DataFrame.\n",
      "Try using .loc[row_indexer,col_indexer] = value instead\n",
      "\n",
      "See the caveats in the documentation: https://pandas.pydata.org/pandas-docs/stable/user_guide/indexing.html#returning-a-view-versus-a-copy\n",
      "  select_df.replace({'보차분리여부': 'Y'}, 1, inplace = True)\n",
      "/var/folders/br/8bbtv7t175s4k3b2shs9n46m0000gn/T/ipykernel_33348/4124278773.py:8: SettingWithCopyWarning: \n",
      "A value is trying to be set on a copy of a slice from a DataFrame.\n",
      "Try using .loc[row_indexer,col_indexer] = value instead\n",
      "\n",
      "See the caveats in the documentation: https://pandas.pydata.org/pandas-docs/stable/user_guide/indexing.html#returning-a-view-versus-a-copy\n",
      "  select_df.replace({'보차분리여부': 'N'}, 0, inplace = True)\n",
      "/var/folders/br/8bbtv7t175s4k3b2shs9n46m0000gn/T/ipykernel_33348/4124278773.py:9: SettingWithCopyWarning: \n",
      "A value is trying to be set on a copy of a slice from a DataFrame.\n",
      "Try using .loc[row_indexer,col_indexer] = value instead\n",
      "\n",
      "See the caveats in the documentation: https://pandas.pydata.org/pandas-docs/stable/user_guide/indexing.html#returning-a-view-versus-a-copy\n",
      "  select_df['지정사유'] = select_df['지정사유'].astype('category')\n",
      "/var/folders/br/8bbtv7t175s4k3b2shs9n46m0000gn/T/ipykernel_33348/4124278773.py:10: SettingWithCopyWarning: \n",
      "A value is trying to be set on a copy of a slice from a DataFrame.\n",
      "Try using .loc[row_indexer,col_indexer] = value instead\n",
      "\n",
      "See the caveats in the documentation: https://pandas.pydata.org/pandas-docs/stable/user_guide/indexing.html#returning-a-view-versus-a-copy\n",
      "  select_df['시도명'] = select_df['시도명'].astype('category')\n",
      "/var/folders/br/8bbtv7t175s4k3b2shs9n46m0000gn/T/ipykernel_33348/4124278773.py:11: SettingWithCopyWarning: \n",
      "A value is trying to be set on a copy of a slice from a DataFrame.\n",
      "Try using .loc[row_indexer,col_indexer] = value instead\n",
      "\n",
      "See the caveats in the documentation: https://pandas.pydata.org/pandas-docs/stable/user_guide/indexing.html#returning-a-view-versus-a-copy\n",
      "  select_df['보차분리여부'] = select_df['보차분리여부'].astype('category')\n"
     ]
    }
   ],
   "source": [
    "\n",
    "\n",
    "select_df.loc[select_df['지정사유'].isna(), '지정사유'] = '사유없음'\n",
    "select_df.loc[select_df['지정연도'].isna(), '지정연도'] = 0.0\n",
    "\n",
    "\n",
    "select_df.loc[select_df['시도명']=='10', '시도명'] = '강원도'\n",
    "select_df.loc[select_df['보차분리여부']==' ', '보차분리여부'] = np.nan\n",
    "select_df.loc[select_df['보차분리여부']=='Y', '보차분리여부'] = 1\n",
    "select_df.loc[select_df['보차분리여부']=='N', '보차분리여부'] = 0\n",
    "\n",
    "select_df['지정사유'] = select_df['지정사유'].astype('category')\n",
    "select_df['시도명'] = select_df['시도명'].astype('category')\n",
    "select_df['보차분리여부'] = select_df['보차분리여부'].astype('category')\n"
   ]
  },
  {
   "cell_type": "code",
   "execution_count": 5,
   "id": "a779856d",
   "metadata": {},
   "outputs": [
    {
     "data": {
      "text/plain": [
       "False    2159\n",
       "Name: 지정사유, dtype: int64"
      ]
     },
     "execution_count": 5,
     "metadata": {},
     "output_type": "execute_result"
    }
   ],
   "source": [
    "select_df['지정사유'].isna().value_counts()"
   ]
  },
  {
   "cell_type": "code",
   "execution_count": 6,
   "id": "fe443084",
   "metadata": {},
   "outputs": [
    {
     "data": {
      "text/plain": [
       "False    2159\n",
       "Name: 지정연도, dtype: int64"
      ]
     },
     "execution_count": 6,
     "metadata": {},
     "output_type": "execute_result"
    }
   ],
   "source": [
    "select_df['지정연도'].isna().value_counts()"
   ]
  },
  {
   "cell_type": "code",
   "execution_count": 7,
   "id": "24cef631",
   "metadata": {},
   "outputs": [
    {
     "data": {
      "text/plain": [
       "서울특별시      765\n",
       "경기도        384\n",
       "경상북도       329\n",
       "경상남도       152\n",
       "전라남도       115\n",
       "충청남도       113\n",
       "강원도         58\n",
       "광주광역시       58\n",
       "제주특별자치도     55\n",
       "인천광역시       51\n",
       "충청북도        42\n",
       "전라북도        37\n",
       "Name: 시도명, dtype: int64"
      ]
     },
     "execution_count": 7,
     "metadata": {},
     "output_type": "execute_result"
    }
   ],
   "source": [
    "select_df['도로차로수'].isna().value_counts()\n",
    "select_df['시도명'].value_counts()"
   ]
  },
  {
   "cell_type": "code",
   "execution_count": 8,
   "id": "fcfa5e9d",
   "metadata": {},
   "outputs": [
    {
     "name": "stderr",
     "output_type": "stream",
     "text": [
      "/var/folders/br/8bbtv7t175s4k3b2shs9n46m0000gn/T/ipykernel_33348/733556926.py:12: SettingWithCopyWarning: \n",
      "A value is trying to be set on a copy of a slice from a DataFrame\n",
      "\n",
      "See the caveats in the documentation: https://pandas.pydata.org/pandas-docs/stable/user_guide/indexing.html#returning-a-view-versus-a-copy\n",
      "  select_df.dropna(subset=['도로차로수'], inplace=True)\n"
     ]
    },
    {
     "data": {
      "text/plain": [
       "False    2043\n",
       "Name: 도로차로수, dtype: int64"
      ]
     },
     "execution_count": 8,
     "metadata": {},
     "output_type": "execute_result"
    }
   ],
   "source": [
    "s\n",
    "\n",
    "\n",
    "# 이상치 정제\n",
    "select_df.dropna(subset=['도로차로수'], inplace=True)\n",
    "select_df['도로차로수'].isna().value_counts()\n",
    "# df_cleaned = select_df[(select_df['도로차로수'] >= (Q1 - 1.5 * IQR)) & (select_df['도로차로수'] <= (Q3 + 1.5 * IQR))]\n",
    "# print(\"정제된 데이터: \", df_cleaned)"
   ]
  },
  {
   "cell_type": "code",
   "execution_count": 9,
   "id": "fbf84d4c",
   "metadata": {},
   "outputs": [
    {
     "name": "stderr",
     "output_type": "stream",
     "text": [
      "/var/folders/br/8bbtv7t175s4k3b2shs9n46m0000gn/T/ipykernel_33348/824119014.py:9: SettingWithCopyWarning: \n",
      "A value is trying to be set on a copy of a slice from a DataFrame\n",
      "\n",
      "See the caveats in the documentation: https://pandas.pydata.org/pandas-docs/stable/user_guide/indexing.html#returning-a-view-versus-a-copy\n",
      "  select_df.dropna(subset=['도로폭'], inplace=True)\n"
     ]
    },
    {
     "data": {
      "text/plain": [
       "False    1980\n",
       "Name: 도로폭, dtype: int64"
      ]
     },
     "execution_count": 9,
     "metadata": {},
     "output_type": "execute_result"
    }
   ],
   "source": [
    "Q1 = select_df['도로폭'].quantile(0.25)\n",
    "Q3 = select_df['도로폭'].quantile(0.75)\n",
    "IQR = Q3 - Q1\n",
    "\n",
    "# 이상치 감지\n",
    "select_df.loc[(select_df['도로폭'] < (Q1 - 1.5 * IQR)) | (select_df['도로폭'] > (Q3 + 1.5 * IQR)), '도로폭'] = np.nan\n",
    "\n",
    "# 이상치 정제\n",
    "select_df.dropna(subset=['도로폭'], inplace=True)\n",
    "select_df['도로폭'].isna().value_counts()"
   ]
  },
  {
   "cell_type": "markdown",
   "id": "9d78b33b",
   "metadata": {},
   "source": [
    "# 전처리 내용 정리\n",
    "\n",
    "- 데이터 전처리: \n",
    "    - 지정사유 : category\n",
    "    - 시도명 : category\n",
    "    - 보차분리여부 : category\n",
    "    - 지정연도 : float\n",
    "    - 도로폭 : float\n",
    "    - 도로차수 : float\n",
    "\n",
    "- 결측치 :\n",
    "    - 지정사유 , 지정연도 같은경우에는 결측치자체가 너무 많았고 우리가 임의대로 바꿀 수 없었기에 나중에 처리를 하기위해 각각 사유없음과 0.0으로 대체하였습니다 . \n",
    "    - 도로차수의 결측치는 일단 무조건 도로차수가 하나는 있어야 일방통행 등재가 됬을 것이기 때문에 1.0으로 처리했습니다\n",
    "    \n",
    "\n",
    "- 오류치:\n",
    "    - 시도명 :  시도명의 경우 시도 명으로 표기해야하는데 10개가 10으로 표시되어있어 찾아보니 홍천군에서 오류치가 나와 강원도로 수정하였습니다.\n",
    "    - 보차분리여부: Y 와 N으로 표기되야하지만 ' ' 문자열 빈값으로 표기된 것을 N으로 표기했습니다.\n",
    "    \n",
    "    \n",
    "- 이상치:\n",
    "    - 각각 1.5를기준으로 최대와 최저를 짤라서 구함\n",
    "    - 도로차수 : 도로차수의 이상치가 보이는 것같아 확인하고 정제하였습니다 Iqr을 사용하였습니다.\n",
    "    - 도로폭: 도로폭의 이상치를 확인하고 정제하는 작업을 하였습니다."
   ]
  },
  {
   "cell_type": "code",
   "execution_count": 10,
   "id": "3e120356",
   "metadata": {},
   "outputs": [
    {
     "data": {
      "text/html": [
       "<div>\n",
       "<style scoped>\n",
       "    .dataframe tbody tr th:only-of-type {\n",
       "        vertical-align: middle;\n",
       "    }\n",
       "\n",
       "    .dataframe tbody tr th {\n",
       "        vertical-align: top;\n",
       "    }\n",
       "\n",
       "    .dataframe thead th {\n",
       "        text-align: right;\n",
       "    }\n",
       "</style>\n",
       "<table border=\"1\" class=\"dataframe\">\n",
       "  <thead>\n",
       "    <tr style=\"text-align: right;\">\n",
       "      <th></th>\n",
       "      <th>시도명</th>\n",
       "      <th>지정사유</th>\n",
       "      <th>지정연도</th>\n",
       "      <th>도로폭</th>\n",
       "      <th>도로차로수</th>\n",
       "      <th>보차분리여부</th>\n",
       "    </tr>\n",
       "  </thead>\n",
       "  <tbody>\n",
       "    <tr>\n",
       "      <th>0</th>\n",
       "      <td>경기도</td>\n",
       "      <td>사유없음</td>\n",
       "      <td>0.0</td>\n",
       "      <td>5.0</td>\n",
       "      <td>1.0</td>\n",
       "      <td>1</td>\n",
       "    </tr>\n",
       "    <tr>\n",
       "      <th>1</th>\n",
       "      <td>경기도</td>\n",
       "      <td>사유없음</td>\n",
       "      <td>0.0</td>\n",
       "      <td>5.0</td>\n",
       "      <td>1.0</td>\n",
       "      <td>1</td>\n",
       "    </tr>\n",
       "    <tr>\n",
       "      <th>2</th>\n",
       "      <td>경기도</td>\n",
       "      <td>사유없음</td>\n",
       "      <td>0.0</td>\n",
       "      <td>9.0</td>\n",
       "      <td>1.0</td>\n",
       "      <td>1</td>\n",
       "    </tr>\n",
       "    <tr>\n",
       "      <th>3</th>\n",
       "      <td>경기도</td>\n",
       "      <td>사유없음</td>\n",
       "      <td>0.0</td>\n",
       "      <td>4.0</td>\n",
       "      <td>1.0</td>\n",
       "      <td>1</td>\n",
       "    </tr>\n",
       "    <tr>\n",
       "      <th>4</th>\n",
       "      <td>경기도</td>\n",
       "      <td>사유없음</td>\n",
       "      <td>0.0</td>\n",
       "      <td>4.0</td>\n",
       "      <td>1.0</td>\n",
       "      <td>1</td>\n",
       "    </tr>\n",
       "    <tr>\n",
       "      <th>...</th>\n",
       "      <td>...</td>\n",
       "      <td>...</td>\n",
       "      <td>...</td>\n",
       "      <td>...</td>\n",
       "      <td>...</td>\n",
       "      <td>...</td>\n",
       "    </tr>\n",
       "    <tr>\n",
       "      <th>2153</th>\n",
       "      <td>경기도</td>\n",
       "      <td>통행원활</td>\n",
       "      <td>0.0</td>\n",
       "      <td>6.0</td>\n",
       "      <td>1.0</td>\n",
       "      <td>0</td>\n",
       "    </tr>\n",
       "    <tr>\n",
       "      <th>2154</th>\n",
       "      <td>경기도</td>\n",
       "      <td>통행원활</td>\n",
       "      <td>0.0</td>\n",
       "      <td>6.0</td>\n",
       "      <td>1.0</td>\n",
       "      <td>0</td>\n",
       "    </tr>\n",
       "    <tr>\n",
       "      <th>2155</th>\n",
       "      <td>경기도</td>\n",
       "      <td>통행원활</td>\n",
       "      <td>0.0</td>\n",
       "      <td>6.0</td>\n",
       "      <td>1.0</td>\n",
       "      <td>0</td>\n",
       "    </tr>\n",
       "    <tr>\n",
       "      <th>2156</th>\n",
       "      <td>경기도</td>\n",
       "      <td>통행원활</td>\n",
       "      <td>0.0</td>\n",
       "      <td>6.0</td>\n",
       "      <td>1.0</td>\n",
       "      <td>0</td>\n",
       "    </tr>\n",
       "    <tr>\n",
       "      <th>2157</th>\n",
       "      <td>경기도</td>\n",
       "      <td>통행원활</td>\n",
       "      <td>0.0</td>\n",
       "      <td>6.0</td>\n",
       "      <td>1.0</td>\n",
       "      <td>0</td>\n",
       "    </tr>\n",
       "  </tbody>\n",
       "</table>\n",
       "<p>1980 rows × 6 columns</p>\n",
       "</div>"
      ],
      "text/plain": [
       "      시도명  지정사유  지정연도  도로폭  도로차로수 보차분리여부\n",
       "0     경기도  사유없음   0.0  5.0    1.0      1\n",
       "1     경기도  사유없음   0.0  5.0    1.0      1\n",
       "2     경기도  사유없음   0.0  9.0    1.0      1\n",
       "3     경기도  사유없음   0.0  4.0    1.0      1\n",
       "4     경기도  사유없음   0.0  4.0    1.0      1\n",
       "...   ...   ...   ...  ...    ...    ...\n",
       "2153  경기도  통행원활   0.0  6.0    1.0      0\n",
       "2154  경기도  통행원활   0.0  6.0    1.0      0\n",
       "2155  경기도  통행원활   0.0  6.0    1.0      0\n",
       "2156  경기도  통행원활   0.0  6.0    1.0      0\n",
       "2157  경기도  통행원활   0.0  6.0    1.0      0\n",
       "\n",
       "[1980 rows x 6 columns]"
      ]
     },
     "execution_count": 10,
     "metadata": {},
     "output_type": "execute_result"
    }
   ],
   "source": [
    "select_df"
   ]
  },
  {
   "cell_type": "code",
   "execution_count": null,
   "id": "28a836e9",
   "metadata": {},
   "outputs": [],
   "source": []
  },
  {
   "cell_type": "code",
   "execution_count": null,
   "id": "c4352794",
   "metadata": {},
   "outputs": [],
   "source": []
  }
 ],
 "metadata": {
  "kernelspec": {
   "display_name": "Python 3 (ipykernel)",
   "language": "python",
   "name": "python3"
  },
  "language_info": {
   "codemirror_mode": {
    "name": "ipython",
    "version": 3
   },
   "file_extension": ".py",
   "mimetype": "text/x-python",
   "name": "python",
   "nbconvert_exporter": "python",
   "pygments_lexer": "ipython3",
   "version": "3.11.1"
  }
 },
 "nbformat": 4,
 "nbformat_minor": 5
}
