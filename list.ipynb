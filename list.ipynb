{
 "cells": [
  {
   "cell_type": "code",
   "execution_count": null,
   "id": "67c2cd4c",
   "metadata": {},
   "outputs": [],
   "source": [
    "# in -> in 뒤에 오는 값을 담고 있는 리스트에 앞의 내용이 있는지 확인하는 함수 return 값이 boolean이다.\n",
    "list_a = [i for i in range(10)]\n",
    "5 in list_a\n",
    "\n",
    "if 3 in list_a:\n",
    "    print('true')\n",
    "else:\n",
    "    print('false')\n",
    "    \n",
    "# not in 은 없으면 이라는 함수    \n",
    "\n",
    "if 10 not in list_a:\n",
    "    print('true')\n",
    "else:\n",
    "    print('false')"
   ]
  },
  {
   "cell_type": "code",
   "execution_count": null,
   "id": "cff7eb44",
   "metadata": {},
   "outputs": [],
   "source": [
    "# + : 리스트 끼리 붙여주는 녀석\n",
    "\n",
    "list1 = [i for i in range(10)]\n",
    "list2 = [i for i in range(100, 110)]\n",
    "\n",
    "list3 = list1 + list2\n",
    "print(list3)\n",
    "\n",
    "# * : 리스트 안의 값을 반복해서 넣어주는 아이\n",
    "list1 * 2  # 2 * list1"
   ]
  },
  {
   "cell_type": "code",
   "execution_count": null,
   "id": "623131fd",
   "metadata": {},
   "outputs": [],
   "source": [
    "# 인덱스 슬라이싱\n",
    "\n",
    "list_s = list('abcdefghicjklmn')\n",
    "print(list_s)\n",
    "\n",
    "print(list_s[0])\n",
    "print(list_s[0:3])\n",
    "print(list_s[-1])\n",
    "print(list_s[1:8:2])\n",
    "print(len(list_s))\n",
    "print(min(list_s))\n",
    "print(max(list_s))\n",
    "\n",
    "c_index = list_s.index('c', 3, 10)\n",
    "print(c_index)\n",
    "# list_s[c_index] = 'x'\n",
    "# print(list_s)\n",
    "print('count: ', list_s.count('c'))"
   ]
  },
  {
   "cell_type": "code",
   "execution_count": null,
   "id": "4c8202fb",
   "metadata": {},
   "outputs": [],
   "source": [
    "s = 'While The Python Language Reference describes the exact syntax and semantics of the Python language, this library reference manual describes the standard library that is distributed with Python. It also describes some of the optional components that are commonly included in Python distributions.'\n",
    "print(s)\n",
    "\n",
    "\n",
    "a = list('While The Python Language Reference describes the exact syntax and semantics of the Python language, this library reference manual describes the standard library that is distributed with Python. It also describes some of the optional components that are commonly included in Python distributions.')\n"
   ]
  },
  {
   "cell_type": "code",
   "execution_count": 9,
   "id": "90f05589",
   "metadata": {},
   "outputs": [
    {
     "name": "stdout",
     "output_type": "stream",
     "text": [
      "t 26\n",
      "m 6\n",
      "u 6\n",
      "x 2\n",
      "s 18\n",
      "e 29\n",
      "f 4\n",
      "d 11\n",
      "r 15\n",
      "b 7\n",
      "g 4\n",
      "a 19\n",
      "h 14\n",
      "i 19\n",
      "o 15\n",
      "p 6\n",
      "c 10\n",
      "l 10\n",
      "w 2\n",
      "y 8\n",
      "n 20\n"
     ]
    }
   ],
   "source": [
    "a = 'While The Python Language Reference describes the exact syntax and semantics of the Python language, this library reference manual describes the standard library that is distributed with Python. It also describes some of the optional components that are commonly included in Python distributions.'\n",
    "\n",
    "list_d = list(a.lower())\n",
    "\n",
    "set_s = set(list_d)\n",
    "exculde_list = [',' , ' ', '.']\n",
    "for i in set_s:\n",
    "    if i not in exculde_list:\n",
    "        print(i, list_d.count(i))"
   ]
  }
 ],
 "metadata": {
  "kernelspec": {
   "display_name": "Python 3 (ipykernel)",
   "language": "python",
   "name": "python3"
  },
  "language_info": {
   "codemirror_mode": {
    "name": "ipython",
    "version": 3
   },
   "file_extension": ".py",
   "mimetype": "text/x-python",
   "name": "python",
   "nbconvert_exporter": "python",
   "pygments_lexer": "ipython3",
   "version": "3.11.1"
  }
 },
 "nbformat": 4,
 "nbformat_minor": 5
}
