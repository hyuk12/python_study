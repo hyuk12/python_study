{
 "cells": [
  {
   "cell_type": "markdown",
   "id": "456bc6ff",
   "metadata": {},
   "source": [
    "# 형 변환"
   ]
  },
  {
   "cell_type": "code",
   "execution_count": 15,
   "id": "ea4e8242",
   "metadata": {},
   "outputs": [
    {
     "name": "stdout",
     "output_type": "stream",
     "text": [
      "abc\n",
      "<class 'str'>\n",
      "IndexError\n",
      "-1\n",
      "<class 'int'>\n"
     ]
    }
   ],
   "source": [
    "a = 'abc'\n",
    "print(a)\n",
    "print(type(a))\n",
    "\n",
    "x = []\n",
    "\n",
    "try:\n",
    "    print(x[0])\n",
    "    b = int(a)\n",
    "    \n",
    "except ValueError:\n",
    "    b = -1\n",
    "    \n",
    "except IndexError:\n",
    "    print('IndexError')\n",
    "    \n",
    "print(b)\n",
    "print(type(b))"
   ]
  },
  {
   "cell_type": "markdown",
   "id": "20348ce4",
   "metadata": {},
   "source": [
    "# 복권 연습문제"
   ]
  },
  {
   "cell_type": "code",
   "execution_count": null,
   "id": "d65ec78e",
   "metadata": {},
   "outputs": [],
   "source": []
  }
 ],
 "metadata": {
  "kernelspec": {
   "display_name": "Python 3 (ipykernel)",
   "language": "python",
   "name": "python3"
  },
  "language_info": {
   "codemirror_mode": {
    "name": "ipython",
    "version": 3
   },
   "file_extension": ".py",
   "mimetype": "text/x-python",
   "name": "python",
   "nbconvert_exporter": "python",
   "pygments_lexer": "ipython3",
   "version": "3.11.1"
  }
 },
 "nbformat": 4,
 "nbformat_minor": 5
}
