{
 "cells": [
  {
   "cell_type": "code",
   "execution_count": 1,
   "id": "f81c27e2",
   "metadata": {},
   "outputs": [
    {
     "name": "stdout",
     "output_type": "stream",
     "text": [
      "3.11.1 (main, Dec 23 2022, 09:28:24) [Clang 14.0.0 (clang-1400.0.29.202)]\n"
     ]
    }
   ],
   "source": [
    "import sys\n",
    "print(sys.version)"
   ]
  },
  {
   "cell_type": "code",
   "execution_count": 7,
   "id": "160e7458",
   "metadata": {},
   "outputs": [
    {
     "name": "stdout",
     "output_type": "stream",
     "text": [
      "<class 'int'>\n",
      "10\n",
      "<class 'float'>\n",
      "<class 'str'>\n",
      "<class 'bool'>\n"
     ]
    }
   ],
   "source": [
    "# 정수형\n",
    "a = 10\n",
    "print(type(a))\n",
    "print(a)\n",
    "\n",
    "# 실수형 기본값 float\n",
    "b = 10.5\n",
    "print(type(b))\n",
    "\n",
    "# 문자열\n",
    "c = 'abcd'\n",
    "print(type(c))\n",
    "\n",
    "# boolean\n",
    "d = True\n",
    "print(type(d))\n",
    "\n",
    "# 메모리에서 삭제\n",
    "del c"
   ]
  },
  {
   "cell_type": "markdown",
   "id": "e0fc635e",
   "metadata": {},
   "source": [
    "# list , tuple, set, dictionary"
   ]
  },
  {
   "cell_type": "code",
   "execution_count": 14,
   "id": "4eac8b67",
   "metadata": {},
   "outputs": [
    {
     "name": "stdout",
     "output_type": "stream",
     "text": [
      "[1, '2', 3.7, 4]\n",
      "<class 'list'>\n",
      "[1, 2, 'abc', {4, 5}, [1, 2, 3]]\n"
     ]
    }
   ],
   "source": [
    "list1 = [1, \"2\", 3.7, 4]\n",
    "print(list1)\n",
    "print(type(list1))\n",
    "\n",
    "list2 = [1, 2, 'abc', {4,5}, [1,2,3]]\n",
    "print(list2)"
   ]
  },
  {
   "cell_type": "code",
   "execution_count": 17,
   "id": "88cb7deb",
   "metadata": {},
   "outputs": [
    {
     "name": "stdout",
     "output_type": "stream",
     "text": [
      "(1, 21, 3, 4)\n",
      "<class 'tuple'>\n"
     ]
    }
   ],
   "source": [
    "# 수정 불가\n",
    "tuple1 = (1, 21, 3, 4)\n",
    "print(tuple1)\n",
    "print(type(tuple1))\n",
    "\n"
   ]
  },
  {
   "cell_type": "code",
   "execution_count": 19,
   "id": "ccca4fc7",
   "metadata": {},
   "outputs": [
    {
     "name": "stdout",
     "output_type": "stream",
     "text": [
      "{1, 2, 3, 4}\n",
      "[1, 2, 3, 4, 4, 5, 5, 5]\n",
      "{1, 2, 3, 4, 5}\n"
     ]
    }
   ],
   "source": [
    "# 중복 불가.\n",
    "set1 = {1, 2, 3, 4, 1}\n",
    "print(set1)\n",
    "\n",
    "list2 = [1,2,3,4,4,5,5,5]\n",
    "set2 = {1,2,3,4,4,5,5,5}\n",
    "\n",
    "print(list2)\n",
    "print(set2)"
   ]
  },
  {
   "cell_type": "code",
   "execution_count": 23,
   "id": "6ffe890d",
   "metadata": {},
   "outputs": [
    {
     "name": "stdout",
     "output_type": "stream",
     "text": [
      "{'a': 1, 'b': 2}\n",
      "<class 'dict'>\n"
     ]
    }
   ],
   "source": [
    "dic1 = {\n",
    "    'a' : 1,\n",
    "    'b': 2\n",
    "}\n",
    "print(dic1)\n",
    "print(type(dic1))"
   ]
  },
  {
   "cell_type": "code",
   "execution_count": 27,
   "id": "7f8ca2a2",
   "metadata": {},
   "outputs": [
    {
     "name": "stdout",
     "output_type": "stream",
     "text": [
      "is five\n"
     ]
    }
   ],
   "source": [
    "a = 5\n",
    "\n",
    "if a > 10:\n",
    "    print('greater than 10')\n",
    "elif a == 5: \n",
    "    print('is five')\n",
    "elif a > 3:\n",
    "    print('greater than 3')\n",
    "else : \n",
    "    print('not greater than 10')"
   ]
  },
  {
   "cell_type": "code",
   "execution_count": 29,
   "id": "28fcb959",
   "metadata": {},
   "outputs": [
    {
     "name": "stdout",
     "output_type": "stream",
     "text": [
      "message\n",
      "message\n",
      "message\n",
      "message\n"
     ]
    }
   ],
   "source": [
    "# 변수 없이 for 문 할 때 언더바를 통해 변수에 넣어준다.\n",
    "for _ in range(4):\n",
    "    print('message')"
   ]
  },
  {
   "cell_type": "code",
   "execution_count": 35,
   "id": "6e102802",
   "metadata": {},
   "outputs": [
    {
     "name": "stdout",
     "output_type": "stream",
     "text": [
      "range(0, 50, 3)\n",
      "<class 'range'>\n",
      "0\n",
      "3\n",
      "6\n",
      "9\n",
      "12\n",
      "15\n",
      "18\n",
      "21\n",
      "24\n",
      "27\n",
      "30\n",
      "33\n",
      "36\n",
      "39\n",
      "42\n",
      "45\n",
      "48\n"
     ]
    }
   ],
   "source": [
    "a = range(0,50,3) # start, stop, step\n",
    "print(a)\n",
    "print(type(a))\n",
    "\n",
    "for i in a:\n",
    "    print(i)"
   ]
  },
  {
   "cell_type": "code",
   "execution_count": 38,
   "id": "ca751cea",
   "metadata": {},
   "outputs": [
    {
     "name": "stdout",
     "output_type": "stream",
     "text": [
      "[100, 105, 110, 115, 120, 125, 130, 135, 140, 145, 150, 155, 160, 165, 170, 175, 180, 185, 190, 195, 200, 205, 210, 215, 220, 225, 230, 235, 240, 245, 250, 255, 260, 265, 270, 275, 280, 285, 290, 295, 300, 305, 310, 315, 320, 325, 330, 335, 340, 345, 350, 355, 360, 365, 370, 375, 380, 385, 390, 395, 400, 405, 410, 415, 420, 425, 430, 435, 440, 445, 450, 455, 460, 465, 470, 475, 480, 485, 490, 495]\n"
     ]
    }
   ],
   "source": [
    "# 100에서 500미만 5의 배수 출력\n",
    "list1 = []\n",
    "for i in range(100, 500, 5):\n",
    "    list1.append(i)\n",
    "\n",
    "print(list1)"
   ]
  },
  {
   "cell_type": "code",
   "execution_count": 40,
   "id": "ac371ef0",
   "metadata": {},
   "outputs": [
    {
     "name": "stdout",
     "output_type": "stream",
     "text": [
      "[1000, 1050, 1100, 1150, 1200, 1250, 1300, 1350, 1400, 1450, 1500, 1550, 1600, 1650, 1700, 1750, 1800, 1850, 1900, 1950, 2000, 2050, 2100, 2150, 2200, 2250, 2300, 2350, 2400, 2450, 2500, 2550, 2600, 2650, 2700, 2750, 2800, 2850, 2900, 2950, 3000, 3050, 3100, 3150, 3200, 3250, 3300, 3350, 3400, 3450, 3500, 3550, 3600, 3650, 3700, 3750, 3800, 3850, 3900, 3950, 4000, 4050, 4100, 4150, 4200, 4250, 4300, 4350, 4400, 4450, 4500, 4550, 4600, 4650, 4700, 4750, 4800, 4850, 4900, 4950]\n"
     ]
    }
   ],
   "source": [
    "list2 = [x*10 for x in range(100, 500, 5)]\n",
    "print(list2)"
   ]
  },
  {
   "cell_type": "code",
   "execution_count": 68,
   "id": "d447ecc9",
   "metadata": {},
   "outputs": [
    {
     "data": {
      "text/plain": [
       "2318"
      ]
     },
     "execution_count": 68,
     "metadata": {},
     "output_type": "execute_result"
    }
   ],
   "source": [
    "list1 = [x for x in range(0,100)]\n",
    "list2 = []\n",
    "a = 0\n",
    "for i in list1:\n",
    "    if (i % 3 == 0) or (i % 5 == 0):\n",
    "        list2.append(i)\n",
    "    \n",
    "     \n",
    "sum(list2)"
   ]
  },
  {
   "cell_type": "code",
   "execution_count": 70,
   "id": "ecbe3a87",
   "metadata": {},
   "outputs": [
    {
     "data": {
      "text/plain": [
       "2318"
      ]
     },
     "execution_count": 70,
     "metadata": {},
     "output_type": "execute_result"
    }
   ],
   "source": [
    "list1 = [x for x in range(0,100) if x % 3 == 0 or x % 5 == 0]\n",
    "sum(list1)"
   ]
  },
  {
   "cell_type": "code",
   "execution_count": 67,
   "id": "3b4e1771",
   "metadata": {},
   "outputs": [
    {
     "data": {
      "text/plain": [
       "2318"
      ]
     },
     "execution_count": 67,
     "metadata": {},
     "output_type": "execute_result"
    }
   ],
   "source": [
    "list1 = [x for x in range(0,100,3)] \n",
    "list2 = [x for x in range(0,100,5)]\n",
    "\n",
    "set1 = set(list1 + list2)\n",
    "sum(set1)"
   ]
  }
 ],
 "metadata": {
  "kernelspec": {
   "display_name": "Python 3 (ipykernel)",
   "language": "python",
   "name": "python3"
  },
  "language_info": {
   "codemirror_mode": {
    "name": "ipython",
    "version": 3
   },
   "file_extension": ".py",
   "mimetype": "text/x-python",
   "name": "python",
   "nbconvert_exporter": "python",
   "pygments_lexer": "ipython3",
   "version": "3.11.1"
  }
 },
 "nbformat": 4,
 "nbformat_minor": 5
}
