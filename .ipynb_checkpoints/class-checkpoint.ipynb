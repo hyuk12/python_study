{
 "cells": [
  {
   "cell_type": "markdown",
   "id": "f2c68046",
   "metadata": {},
   "source": [
    "# Class"
   ]
  },
  {
   "cell_type": "code",
   "execution_count": 2,
   "id": "86b52bf2",
   "metadata": {},
   "outputs": [
    {
     "name": "stdout",
     "output_type": "stream",
     "text": [
      "<class '__main__.myclass'>\n"
     ]
    }
   ],
   "source": [
    "class myclass:\n",
    "    myvar1 = 10\n",
    "    myvar2 = 'abc'\n",
    "    \n",
    "    def __init__(self,a = 0, b = 'aaa'):\n",
    "        self.myvar1 = a\n",
    "        self.myvar2 = b\n",
    "        \n",
    "    def mymethod1(self,n):\n",
    "        print(self.myvar1 * n, self.myvar2)\n",
    "        \n",
    "    def __str__(self):\n",
    "        return 'myclass: {} ,{}'.format(self.myvar1, self.myvar2)\n",
    "        \n",
    "a = myclass(100, 'def')\n",
    "print(type(a))"
   ]
  },
  {
   "cell_type": "code",
   "execution_count": 16,
   "id": "5f063f81",
   "metadata": {},
   "outputs": [
    {
     "name": "stdout",
     "output_type": "stream",
     "text": [
      "100 def\n",
      "100 ,def\n"
     ]
    }
   ],
   "source": [
    "a.mymethod1()\n",
    "print(a)"
   ]
  },
  {
   "cell_type": "code",
   "execution_count": 4,
   "id": "35169887",
   "metadata": {},
   "outputs": [
    {
     "name": "stdout",
     "output_type": "stream",
     "text": [
      "myclass2 - mymethod 0\n",
      "myclass2 - mymethod2\n"
     ]
    }
   ],
   "source": [
    "class myclass2(myclass):\n",
    "    def mymethod1(self, n):\n",
    "        print('myclass2 - mymethod',self.myvar1 * n)\n",
    "    \n",
    "    def mymethod2(self):\n",
    "        print('myclass2 - mymethod2')\n",
    "\n",
    "b = myclass2()\n",
    "b.mymethod1(10)\n",
    "b.mymethod2()"
   ]
  },
  {
   "cell_type": "markdown",
   "id": "8cea879e",
   "metadata": {},
   "source": [
    "# 클래스 예제\n"
   ]
  },
  {
   "cell_type": "code",
   "execution_count": 15,
   "id": "e35e1ff0",
   "metadata": {},
   "outputs": [
    {
     "name": "stdout",
     "output_type": "stream",
     "text": [
      "['a', 'b', 'c', 'd', 'e', 'f', 'c', 'g', 'h', 'i']\n"
     ]
    }
   ],
   "source": [
    "list_1 = list('abcdefcghi')\n",
    "print(list_1)"
   ]
  },
  {
   "cell_type": "markdown",
   "id": "1d897838",
   "metadata": {},
   "source": [
    "## 리스트 클래스의 메소드\n",
    "\n",
    "1. remove"
   ]
  },
  {
   "cell_type": "code",
   "execution_count": 23,
   "id": "a52e9af4",
   "metadata": {},
   "outputs": [
    {
     "name": "stdout",
     "output_type": "stream",
     "text": [
      "['a', 'b', 'd', 'e', 'f', 'g', 'h', 'i']\n",
      "['a', 'b', 'd', 'e', 'f', 'g', 'h', 'i']\n"
     ]
    }
   ],
   "source": [
    "def list_remove_all(target_list, target_value):\n",
    "    for i in target_list:\n",
    "        if i in target_value:\n",
    "            target_list.remove(target_value)\n",
    "    return target_list\n",
    "\n",
    "ret_list = list_remove_all(list('abcdefcghi'), 'c')\n",
    "print(ret_list)\n",
    "\n",
    "def list_remove_all2(target_list, target_value):\n",
    "    while True:\n",
    "        try: \n",
    "            target_list.remove(target_value)\n",
    "        except:\n",
    "            return target_list\n",
    "        \n",
    "ret_list2 = list_remove_all2(list('abcdefcghi'), 'c')\n",
    "print(ret_list2)"
   ]
  },
  {
   "cell_type": "code",
   "execution_count": 29,
   "id": "3f5d75d5",
   "metadata": {},
   "outputs": [
    {
     "name": "stdout",
     "output_type": "stream",
     "text": [
      "['a', 'b', 'c', 'c', 'd', 'c', 1, 2]\n"
     ]
    },
    {
     "data": {
      "text/plain": [
       "['a', 'b', 'd', 1, 2]"
      ]
     },
     "execution_count": 29,
     "metadata": {},
     "output_type": "execute_result"
    }
   ],
   "source": [
    "class mylist(list):\n",
    "    def remove_all(self, target_value):\n",
    "        while True:\n",
    "            try: \n",
    "                self.remove(target_value)\n",
    "            except:\n",
    "                return self\n",
    "\n",
    "mylist_1 = mylist(list('abccdc'))\n",
    "mylist_1.append(1)\n",
    "mylist_1.append(2)\n",
    "print(mylist_1)\n",
    "\n",
    "mylist_1.remove_all('c')"
   ]
  },
  {
   "cell_type": "code",
   "execution_count": null,
   "id": "24c13e84",
   "metadata": {},
   "outputs": [],
   "source": []
  }
 ],
 "metadata": {
  "kernelspec": {
   "display_name": "Python 3 (ipykernel)",
   "language": "python",
   "name": "python3"
  },
  "language_info": {
   "codemirror_mode": {
    "name": "ipython",
    "version": 3
   },
   "file_extension": ".py",
   "mimetype": "text/x-python",
   "name": "python",
   "nbconvert_exporter": "python",
   "pygments_lexer": "ipython3",
   "version": "3.11.1"
  }
 },
 "nbformat": 4,
 "nbformat_minor": 5
}
