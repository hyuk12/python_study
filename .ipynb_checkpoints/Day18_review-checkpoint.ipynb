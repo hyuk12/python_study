{
 "cells": [
  {
   "cell_type": "markdown",
   "id": "715e1dfc",
   "metadata": {},
   "source": [
    "## python list\n",
    "\n"
   ]
  },
  {
   "cell_type": "code",
   "execution_count": 1,
   "id": "b63afe85",
   "metadata": {},
   "outputs": [
    {
     "name": "stdout",
     "output_type": "stream",
     "text": [
      "[]\n",
      "['a']\n"
     ]
    }
   ],
   "source": [
    "lista = []\n",
    "print(lista)\n",
    "\n",
    "lista.append('a')\n",
    "print(lista)"
   ]
  },
  {
   "cell_type": "markdown",
   "id": "9ef90fec",
   "metadata": {},
   "source": [
    "## numpy ndarray\n",
    "\n",
    "- append 나 빼내는 것에는 특화되지 않았다.\n",
    "\n",
    "완전히 정제되거나 만들어진 리스트를 가지고 계산을 하기위한 용도"
   ]
  },
  {
   "cell_type": "code",
   "execution_count": 3,
   "id": "2d9cdd4c",
   "metadata": {},
   "outputs": [],
   "source": [
    "import numpy as np"
   ]
  },
  {
   "cell_type": "code",
   "execution_count": 10,
   "id": "147a6be6",
   "metadata": {},
   "outputs": [
    {
     "name": "stdout",
     "output_type": "stream",
     "text": [
      "['a'] <class 'numpy.ndarray'>\n",
      "[0 1 2 3 4]\n",
      "[1 4]\n",
      "[0 2 4]\n",
      "[3 4]\n"
     ]
    }
   ],
   "source": [
    "array1 = np.array(lista)\n",
    "array2 = np.array([1,2,3,4])\n",
    "array3 = np.array([x for x in range(5)])\n",
    "\n",
    "print(array1, type(array1))\n",
    "print(array3)\n",
    "print(array3[[1,4]])\n",
    "print(array3[array3 % 2 == 0])\n",
    "print(array3[array3 > 2])"
   ]
  },
  {
   "cell_type": "markdown",
   "id": "10ba7f37",
   "metadata": {},
   "source": [
    "## 반복, 조건\n",
    "\n",
    "-  for, if"
   ]
  },
  {
   "cell_type": "code",
   "execution_count": 11,
   "id": "c035b265",
   "metadata": {},
   "outputs": [
    {
     "name": "stdout",
     "output_type": "stream",
     "text": [
      "0\n",
      "1\n",
      "2\n",
      "3\n",
      "4\n"
     ]
    }
   ],
   "source": [
    "for i in array3:\n",
    "    print(i)"
   ]
  },
  {
   "cell_type": "code",
   "execution_count": 14,
   "id": "93214eb1",
   "metadata": {},
   "outputs": [
    {
     "name": "stdout",
     "output_type": "stream",
     "text": [
      "3\n",
      "4\n"
     ]
    }
   ],
   "source": [
    "for i in range(5):\n",
    "    if i > 2:\n",
    "        print(i)\n",
    "        \n",
    "array3[array3 > 2] # 같다."
   ]
  },
  {
   "cell_type": "code",
   "execution_count": 13,
   "id": "0e19f25d",
   "metadata": {},
   "outputs": [
    {
     "name": "stdout",
     "output_type": "stream",
     "text": [
      "0\n",
      "1\n",
      "2\n",
      "3\n",
      "4\n"
     ]
    }
   ],
   "source": [
    "for i in np.arange(5):\n",
    "    print(i)"
   ]
  },
  {
   "cell_type": "markdown",
   "id": "6a972f0f",
   "metadata": {},
   "source": [
    "## function\n"
   ]
  },
  {
   "cell_type": "code",
   "execution_count": 22,
   "id": "01889b29",
   "metadata": {},
   "outputs": [
    {
     "name": "stdout",
     "output_type": "stream",
     "text": [
      "retrurn_value: 50\n"
     ]
    }
   ],
   "source": [
    "def function_name(n) :\n",
    "    return n * 10\n",
    "    \n",
    "return_nvalue = function_name(5)\n",
    "print(\"retrurn_value:\" , return_nvalue)"
   ]
  },
  {
   "cell_type": "markdown",
   "id": "2b6924ad",
   "metadata": {},
   "source": [
    "## Assert\n",
    "\n",
    "- test 코드 맞으면 통과 아니면 오류"
   ]
  },
  {
   "cell_type": "code",
   "execution_count": 23,
   "id": "ca72abff",
   "metadata": {},
   "outputs": [],
   "source": [
    "assert function_name(100) == 1000"
   ]
  },
  {
   "cell_type": "code",
   "execution_count": 47,
   "id": "f24027b8",
   "metadata": {},
   "outputs": [
    {
     "name": "stdout",
     "output_type": "stream",
     "text": [
      "[6, 34, 11, 98, 52, 34, 13, 4, 48, 68]\n",
      "[71, 42, 43, 6, 20, 17, 43, 71, 42, 89]\n",
      "98\n",
      "52\n",
      "68\n",
      "3\n",
      "3\n"
     ]
    }
   ],
   "source": [
    "import random\n",
    "\n",
    "random.seed(123)\n",
    "listb = []\n",
    "for i in range(10):\n",
    "    listb.append(random.randint(0, 100))\n",
    "\n",
    "print(listb)    \n",
    "listc = [random.randint(0,100) for _ in range(10)]\n",
    "print(listc)\n",
    "\n",
    "for i in listb:\n",
    "    if i > 50:\n",
    "        print(i)\n",
    "        \n",
    "listb_np = np.array(listb)\n",
    "        \n",
    "listc_np = np.array(listc)\n",
    "print(len(listb_np[listb_np>50]))\n",
    "print(len(listc_np[listc_np>50]))"
   ]
  },
  {
   "cell_type": "code",
   "execution_count": 38,
   "id": "387d7575",
   "metadata": {},
   "outputs": [],
   "source": []
  },
  {
   "cell_type": "code",
   "execution_count": 39,
   "id": "113afc88",
   "metadata": {},
   "outputs": [
    {
     "name": "stdout",
     "output_type": "stream",
     "text": [
      "[6]\n"
     ]
    }
   ],
   "source": []
  },
  {
   "cell_type": "code",
   "execution_count": null,
   "id": "1984db27",
   "metadata": {},
   "outputs": [],
   "source": []
  }
 ],
 "metadata": {
  "kernelspec": {
   "display_name": "Python 3 (ipykernel)",
   "language": "python",
   "name": "python3"
  },
  "language_info": {
   "codemirror_mode": {
    "name": "ipython",
    "version": 3
   },
   "file_extension": ".py",
   "mimetype": "text/x-python",
   "name": "python",
   "nbconvert_exporter": "python",
   "pygments_lexer": "ipython3",
   "version": "3.11.1"
  }
 },
 "nbformat": 4,
 "nbformat_minor": 5
}
