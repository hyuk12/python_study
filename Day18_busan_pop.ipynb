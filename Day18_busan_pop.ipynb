{
 "cells": [
  {
   "cell_type": "code",
   "execution_count": 56,
   "id": "dd315124",
   "metadata": {},
   "outputs": [
    {
     "data": {
      "text/html": [
       "<div>\n",
       "<style scoped>\n",
       "    .dataframe tbody tr th:only-of-type {\n",
       "        vertical-align: middle;\n",
       "    }\n",
       "\n",
       "    .dataframe tbody tr th {\n",
       "        vertical-align: top;\n",
       "    }\n",
       "\n",
       "    .dataframe thead th {\n",
       "        text-align: right;\n",
       "    }\n",
       "</style>\n",
       "<table border=\"1\" class=\"dataframe\">\n",
       "  <thead>\n",
       "    <tr style=\"text-align: right;\">\n",
       "      <th></th>\n",
       "      <th>시점</th>\n",
       "      <th>세대수</th>\n",
       "      <th>인구_남</th>\n",
       "      <th>인구_여</th>\n",
       "      <th>남/여 인구비율</th>\n",
       "      <th>한국인</th>\n",
       "      <th>외국인</th>\n",
       "      <th>한국인/외국인 비율</th>\n",
       "      <th>인구밀도</th>\n",
       "    </tr>\n",
       "  </thead>\n",
       "  <tbody>\n",
       "    <tr>\n",
       "      <th>0</th>\n",
       "      <td>2018.0</td>\n",
       "      <td>1480468.0</td>\n",
       "      <td>1721327.0</td>\n",
       "      <td>1772692.0</td>\n",
       "      <td>0.971024</td>\n",
       "      <td>3441453.0</td>\n",
       "      <td>52566.0</td>\n",
       "      <td>65.469182</td>\n",
       "      <td>769.94</td>\n",
       "    </tr>\n",
       "    <tr>\n",
       "      <th>1</th>\n",
       "      <td>2019.0</td>\n",
       "      <td>1497908.0</td>\n",
       "      <td>1704098.0</td>\n",
       "      <td>1762465.0</td>\n",
       "      <td>0.966883</td>\n",
       "      <td>3413841.0</td>\n",
       "      <td>52722.0</td>\n",
       "      <td>64.751736</td>\n",
       "      <td>770.07</td>\n",
       "    </tr>\n",
       "    <tr>\n",
       "      <th>2</th>\n",
       "      <td>2020.0</td>\n",
       "      <td>1530431.0</td>\n",
       "      <td>1686412.0</td>\n",
       "      <td>1752298.0</td>\n",
       "      <td>0.962400</td>\n",
       "      <td>3391946.0</td>\n",
       "      <td>46764.0</td>\n",
       "      <td>72.533273</td>\n",
       "      <td>770.07</td>\n",
       "    </tr>\n",
       "  </tbody>\n",
       "</table>\n",
       "</div>"
      ],
      "text/plain": [
       "       시점        세대수       인구_남       인구_여  남/여 인구비율        한국인      외국인  \\\n",
       "0  2018.0  1480468.0  1721327.0  1772692.0  0.971024  3441453.0  52566.0   \n",
       "1  2019.0  1497908.0  1704098.0  1762465.0  0.966883  3413841.0  52722.0   \n",
       "2  2020.0  1530431.0  1686412.0  1752298.0  0.962400  3391946.0  46764.0   \n",
       "\n",
       "   한국인/외국인 비율    인구밀도  \n",
       "0   65.469182  769.94  \n",
       "1   64.751736  770.07  \n",
       "2   72.533273  770.07  "
      ]
     },
     "execution_count": 56,
     "metadata": {},
     "output_type": "execute_result"
    }
   ],
   "source": [
    "import numpy as np\n",
    "import pandas as pd\n",
    "import matplotlib.pyplot as plt\n",
    "pop_df = pd.read_csv('등록인구추이.csv', encoding='cp949')\n",
    "pop_df.drop(0, axis = 0, inplace = True)\n",
    "\n",
    "pop_df.columns = ['시점', '세대수', '인구_남', '인구_여', '한국인', '외국인', '인구밀도']\n",
    "pop_df = pop_df.to_numpy().astype(np.float64)\n",
    "\n",
    "pop_df = pd.DataFrame(pop_df)\n",
    "pop_df.columns = ['시점', '세대수', '인구_남', '인구_여', '한국인', '외국인', '인구밀도']\n",
    "\n",
    "pop_df.insert(4, '남/여 인구비율', pop_df['인구_남'] /pop_df['인구_여'])\n",
    "pop_df.insert(7, '한국인/외국인 비율', pop_df['한국인'] /pop_df['외국인'])\n",
    "pop_df"
   ]
  },
  {
   "cell_type": "code",
   "execution_count": null,
   "id": "24b58a9d",
   "metadata": {},
   "outputs": [],
   "source": []
  }
 ],
 "metadata": {
  "kernelspec": {
   "display_name": "Python 3 (ipykernel)",
   "language": "python",
   "name": "python3"
  },
  "language_info": {
   "codemirror_mode": {
    "name": "ipython",
    "version": 3
   },
   "file_extension": ".py",
   "mimetype": "text/x-python",
   "name": "python",
   "nbconvert_exporter": "python",
   "pygments_lexer": "ipython3",
   "version": "3.11.1"
  }
 },
 "nbformat": 4,
 "nbformat_minor": 5
}
