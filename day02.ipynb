{
 "cells": [
  {
   "cell_type": "markdown",
   "id": "0d796de4",
   "metadata": {},
   "source": [
    " # 함수\n",
    " \n",
    " - define 의 약자 def 를 붙여 선언한다."
   ]
  },
  {
   "cell_type": "code",
   "execution_count": null,
   "id": "1a04e537",
   "metadata": {},
   "outputs": [],
   "source": [
    "def function_name() :\n",
    "        print('myfunction')\n",
    "        \n",
    "function_name()"
   ]
  },
  {
   "cell_type": "markdown",
   "id": "479acacb",
   "metadata": {},
   "source": [
    "## 매개변수가 있는 함수"
   ]
  },
  {
   "cell_type": "code",
   "execution_count": null,
   "id": "5284818b",
   "metadata": {},
   "outputs": [],
   "source": [
    "\n",
    "def printName(name):\n",
    "    print(name)\n",
    "\n",
    "printName(\"sh\")\n",
    "\n",
    "def userInfo(name, age):\n",
    "    print(name, age)\n",
    "    \n",
    "userInfo('홍길동', 30)\n"
   ]
  },
  {
   "cell_type": "markdown",
   "id": "21b2cb15",
   "metadata": {},
   "source": [
    "### 매개변수가 있지만 매개변수에 디폴트 값을 직접 주입해주는방법\n"
   ]
  },
  {
   "cell_type": "code",
   "execution_count": null,
   "id": "dc05d6d4",
   "metadata": {},
   "outputs": [],
   "source": [
    "def newFunc(a = 'c', b = 'd') :\n",
    "    print(a,b)\n",
    "    \n",
    "newFunc('a','d')"
   ]
  },
  {
   "cell_type": "markdown",
   "id": "3439733c",
   "metadata": {},
   "source": [
    "### 매개변수의 갯수가 불분명 할 때 \"*\" 를 붙여준다."
   ]
  },
  {
   "cell_type": "code",
   "execution_count": null,
   "id": "7e13bb97",
   "metadata": {},
   "outputs": [],
   "source": [
    "def newFunc2(*arg):\n",
    "    for i in arg:\n",
    "        print(i)\n",
    "        \n",
    "newFunc2(1,2,3,4)"
   ]
  },
  {
   "cell_type": "markdown",
   "id": "91dfdd19",
   "metadata": {},
   "source": [
    "### 그냥 * 를 해놓으면 전과 뒤로 나누어 전은 포지셔닝 알규먼트 뒤쪽은 키워드 알규먼트로 쓰겠다는 표식이다\n"
   ]
  },
  {
   "cell_type": "code",
   "execution_count": null,
   "id": "d6223e8b",
   "metadata": {},
   "outputs": [],
   "source": [
    "def newFunc3(arg1, *, arg2, arg3):\n",
    "    print(arg1, arg2, arg3)\n",
    "    \n",
    "newFunc3('a', arg2 = 'b', arg3 = 'c')"
   ]
  },
  {
   "cell_type": "markdown",
   "id": "23b86d5e",
   "metadata": {},
   "source": [
    "# 함수를 함수에 넘겨서 쓰는법"
   ]
  },
  {
   "cell_type": "code",
   "execution_count": null,
   "id": "11cc01d3",
   "metadata": {},
   "outputs": [],
   "source": [
    "def func(arg1, arg2):\n",
    "    print(arg1)\n",
    "    arg2('abc', 'def')\n",
    "func('func start', newFunc)"
   ]
  },
  {
   "cell_type": "markdown",
   "id": "1a38e285",
   "metadata": {},
   "source": [
    "## 함수의 리턴"
   ]
  },
  {
   "cell_type": "code",
   "execution_count": null,
   "id": "5e0983cc",
   "metadata": {},
   "outputs": [],
   "source": [
    "def add(a, b):\n",
    "    return a + b\n",
    "\n",
    "print(add(1,2))"
   ]
  },
  {
   "cell_type": "markdown",
   "id": "ea16b324",
   "metadata": {},
   "source": [
    "## 한번에 여러개의 리턴이 있는 경우 tuple 형태로 반환된다."
   ]
  },
  {
   "cell_type": "code",
   "execution_count": null,
   "id": "fdb8d523",
   "metadata": {},
   "outputs": [],
   "source": [
    "def tuple1(a):\n",
    "    return a, 50\n",
    "print(tuple1(1))"
   ]
  },
  {
   "cell_type": "markdown",
   "id": "7fbe09e6",
   "metadata": {},
   "source": [
    "# 함수를 이용하여 prime number 뽑기\n",
    "\n",
    "\n"
   ]
  },
  {
   "cell_type": "code",
   "execution_count": 3,
   "id": "8124c89e",
   "metadata": {},
   "outputs": [
    {
     "name": "stdout",
     "output_type": "stream",
     "text": [
      "[2, 3, 5, 7, 11, 13, 17, 19, 23, 29, 31, 37, 41, 43, 47, 53, 59, 61, 67, 71, 73, 79, 83, 89, 97, 101, 103, 107, 109, 113, 127, 131, 137, 139, 149, 151, 157, 163, 167, 173, 179, 181, 191, 193, 197, 199, 211, 223, 227, 229, 233, 239, 241, 251, 257, 263, 269, 271, 277, 281, 283, 293, 307, 311, 313, 317, 331, 337, 347, 349, 353, 359, 367, 373, 379, 383, 389, 397, 401, 409, 419, 421, 431, 433, 439, 443, 449, 457, 461, 463, 467, 479, 487, 491, 499, 503, 509, 521, 523, 541, 547, 557, 563, 569, 571, 577, 587, 593, 599, 601, 607, 613, 617, 619, 631, 641, 643, 647, 653, 659, 661, 673, 677, 683, 691, 701, 709, 719, 727, 733, 739, 743, 751, 757, 761, 769, 773, 787, 797, 809, 811, 821, 823, 827, 829, 839, 853, 857, 859, 863, 877, 881, 883, 887, 907, 911, 919, 929, 937, 941, 947, 953, 967, 971, 977, 983, 991, 997]\n"
     ]
    }
   ],
   "source": [
    "list_prime = []\n",
    "def isPrime(x):\n",
    "    for i in range(2, x):\n",
    "        if x % i == 0 :\n",
    "            return False\n",
    "    return True\n",
    "\n",
    "for i in range(2, 1000):\n",
    "    if isPrime(i) == True:\n",
    "        list_prime.append(i)\n",
    "        \n",
    "print(list_prime)"
   ]
  },
  {
   "cell_type": "code",
   "execution_count": null,
   "id": "a9b9e760",
   "metadata": {},
   "outputs": [],
   "source": []
  }
 ],
 "metadata": {
  "kernelspec": {
   "display_name": "Python 3 (ipykernel)",
   "language": "python",
   "name": "python3"
  },
  "language_info": {
   "codemirror_mode": {
    "name": "ipython",
    "version": 3
   },
   "file_extension": ".py",
   "mimetype": "text/x-python",
   "name": "python",
   "nbconvert_exporter": "python",
   "pygments_lexer": "ipython3",
   "version": "3.11.1"
  }
 },
 "nbformat": 4,
 "nbformat_minor": 5
}
