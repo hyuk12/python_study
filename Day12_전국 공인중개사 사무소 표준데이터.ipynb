{
 "cells": [
  {
   "cell_type": "markdown",
   "id": "e82cf9ef",
   "metadata": {},
   "source": [
    "# 전국 공인 중개사 사무소 표준 데이터\n",
    "https://www.data.go.kr/data/15107745/standard.do\n",
    "\n",
    "- 공인중개사 / 개업공인중개사 비율\n",
    "- 공제 미가입 중개사 count, 전체 대비 비율\n",
    "- oo공인중개... 중 흔한 상호명\n",
    "  oo공인중개... 가 아닌 것은 따로 저장"
   ]
  },
  {
   "cell_type": "code",
   "execution_count": 68,
   "id": "ed441590",
   "metadata": {},
   "outputs": [],
   "source": [
    "import numpy as np\n",
    "\n",
    "def my_split(s):\n",
    "    block_start = False\n",
    "    start_index = 0\n",
    "    ret_list=[]\n",
    "    for i, c in enumerate(s):\n",
    "        if block_start==False:\n",
    "            if c==',':\n",
    "                ret_list.append(s[start_index:i])\n",
    "                start_index=i+1\n",
    "            elif c=='\"':\n",
    "                block_start=True\n",
    "                start_index = i\n",
    "        else:\n",
    "            if c=='\"':\n",
    "                block_start=False\n",
    "    if s[-1]!=',':\n",
    "        ret_list.append(s[start_index:])\n",
    "    return ret_list\n",
    "\n",
    "def split_len(data_list):\n",
    "    len_list=[]\n",
    "    for e in data_list:\n",
    "        len_list.append(len(e))\n",
    "    print(set(len_list))\n",
    "    if len(set(len_list))>1:\n",
    "        for i in set(len_list):\n",
    "            print(i, len_list.count(i))\n",
    "\n",
    "raw_data = []\n",
    "with open('전국공인중개사사무소표준데이터.csv') as f:\n",
    "    for line in f:\n",
    "        raw_data.append(my_split(line))\n"
   ]
  },
  {
   "cell_type": "code",
   "execution_count": 69,
   "id": "41f5b1f9",
   "metadata": {},
   "outputs": [
    {
     "name": "stdout",
     "output_type": "stream",
     "text": [
      "['\\ufeff중개사무소명', '개설등록번호', '개업공인중개사종별구분', '소재지도로명주소', '소재지지번주소', '전화번호', '개설등록일자', '공제가입유무', '대표자명', '위도', '경도', '중개보조원수', '소속공인중개사수', '홈페이지주소', '데이터기준일자', '제공기관코드', '제공기관명\\n']\n",
      "{17}\n",
      "['중개사무소명', '개설등록번호', '개업공인중개사종별구분', '소재지도로명주소', '소재지지번주소', '전화번호', '개설등록일자', '공제가입유무', '대표자명', '위도', '경도', '중개보조원수', '소속공인중개사수', '홈페이지주소', '데이터기준일자', '제공기관코드', '제공기관명']\n",
      "{17}\n"
     ]
    }
   ],
   "source": [
    "print(raw_data[0])\n",
    "split_len(raw_data)\n",
    "\n",
    "for i in raw_data:\n",
    "    i[0] = i[0].lstrip('\\ufeff')\n",
    "    i[-1] = i[-1].rstrip('\\n')\n",
    "        \n",
    "print(raw_data[0])   \n",
    "split_len(raw_data)"
   ]
  },
  {
   "cell_type": "code",
   "execution_count": 70,
   "id": "b6138541",
   "metadata": {},
   "outputs": [
    {
     "name": "stdout",
     "output_type": "stream",
     "text": [
      "(29370, 17)\n",
      "['중개사무소명' '개설등록번호' '개업공인중개사종별구분' '소재지도로명주소' '소재지지번주소' '전화번호' '개설등록일자'\n",
      " '공제가입유무']\n"
     ]
    }
   ],
   "source": [
    "np_data = np.array(raw_data)\n",
    "print(np_data.shape) \n",
    "np_data = np_data[:, 0:8]\n",
    "print(np_data[0])\n"
   ]
  },
  {
   "cell_type": "code",
   "execution_count": 18,
   "id": "1d5118e7",
   "metadata": {},
   "outputs": [
    {
     "name": "stdout",
     "output_type": "stream",
     "text": [
      "['개업공인중개사' '공인중개사' '법인'] [ 5085 23757   527]\n",
      "[17.31417481 80.89141612  1.79440907]\n"
     ]
    }
   ],
   "source": [
    "btypes = np_data[1: , 2]\n",
    "btype_name, btype_count = np.unique(btypes, return_counts = True)\n",
    "print(btype_name, btype_count)\n",
    "print(btype_count * 100 / np.sum(btype_count))"
   ]
  },
  {
   "cell_type": "code",
   "execution_count": 4,
   "id": "a557840d",
   "metadata": {},
   "outputs": [],
   "source": [
    "broker_type = []\n",
    "p_list = []\n",
    "c_list = []\n",
    "license_p_list = []\n",
    "for i in np_data[1:]:\n",
    "    if '개업공인중개사'in i[2]:\n",
    "        license_p_list.append(i[2])\n",
    "    elif '법인' in i[2]:\n",
    "        c_list.append(i[2])\n",
    "    else:\n",
    "        p_list.append(i[2])\n",
    "        \n"
   ]
  },
  {
   "cell_type": "code",
   "execution_count": 5,
   "id": "7ac74513",
   "metadata": {},
   "outputs": [
    {
     "name": "stdout",
     "output_type": "stream",
     "text": [
      "23757\n",
      "527\n",
      "5085\n"
     ]
    }
   ],
   "source": [
    "print(p_list.count('공인중개사'))\n",
    "print(c_list.count('법인'))\n",
    "print(license_p_list.count('개업공인중개사'))\n",
    "\n",
    "def percent_count(list_a, b):\n",
    "    count_number = 0\n",
    "    p_count = 0.0\n",
    "    \n",
    "    if b == '개업공인중개사':\n",
    "        count_number = list_a.count(b)\n",
    "    if b == '법인':\n",
    "        count_number = list_a.count(b)\n",
    "    if b == '공인중개사':\n",
    "        count_number = list_a.count(b)\n",
    "    if b == 'Y':\n",
    "        count_number = list_a.count(b)    \n",
    "    if b == 'N':\n",
    "        count_number = list_a.count(b)\n",
    "        \n",
    "    p_count = float(100 * (count_number / 29370))\n",
    "    return p_count"
   ]
  },
  {
   "cell_type": "code",
   "execution_count": 6,
   "id": "82ea9277",
   "metadata": {},
   "outputs": [
    {
     "name": "stdout",
     "output_type": "stream",
     "text": [
      "공인중개사 비율: 80.88866189989785 %\n",
      "법인 비율: 1.7943479741232549 %\n",
      "개업공인중개사 비율: 17.31358529111338 %\n"
     ]
    }
   ],
   "source": [
    "print('공인중개사 비율:', percent_count(p_list, '공인중개사'), '%')\n",
    "print('법인 비율:', percent_count(c_list, '법인'), '%')\n",
    "print('개업공인중개사 비율:', percent_count(license_p_list, '개업공인중개사'), '%')"
   ]
  },
  {
   "cell_type": "code",
   "execution_count": 7,
   "id": "f642a755",
   "metadata": {},
   "outputs": [],
   "source": [
    "y_list = []\n",
    "n_list = []\n",
    "for i in np_data[1:]:\n",
    "    if 'Y' in i[-1]:\n",
    "        y_list.append(i[-1])\n",
    "    else:\n",
    "        n_list.append(i[-1])"
   ]
  },
  {
   "cell_type": "code",
   "execution_count": 19,
   "id": "7440d278",
   "metadata": {},
   "outputs": [
    {
     "data": {
      "text/plain": [
       "(array(['N', 'Y'], dtype='<U74'), array([   30, 29339]))"
      ]
     },
     "execution_count": 19,
     "metadata": {},
     "output_type": "execute_result"
    }
   ],
   "source": [
    "y_n = np_data[1:, 7]\n",
    "np.unique(y_n, return_counts = True)\n"
   ]
  },
  {
   "cell_type": "code",
   "execution_count": 111,
   "id": "ad4eaec4",
   "metadata": {},
   "outputs": [
    {
     "name": "stdout",
     "output_type": "stream",
     "text": [
      "공제가입유: 99.89445011916922 %\n",
      "공제가입무: 0.10214504596527069 %\n"
     ]
    }
   ],
   "source": [
    "print('공제가입유:', percent_count(y_list, 'Y'), '%')\n",
    "print('공제가입무:' ,percent_count(n_list, 'N'), '%')"
   ]
  },
  {
   "cell_type": "code",
   "execution_count": 71,
   "id": "eb068a39",
   "metadata": {},
   "outputs": [],
   "source": [
    "names = np_data[1:, 0]\n",
    "name_head = []\n",
    "brokerage_office = []\n",
    "else_office_list = []\n",
    "else_list = []\n",
    "for i in names:\n",
    "    i = i.replace(' ', '')\n",
    "    if '공인중개사사무소' in i:\n",
    "        name_head.append(i[:i.index('공인중개사사무소')])\n",
    "    \n",
    "    else:\n",
    "        else_list.append(i)\n",
    "\n",
    "else2 = []\n",
    "for n in else_list:\n",
    "    if '부동산중개' in n:\n",
    "        name_head.append(n[:n.index('부동산중개')])\n",
    "    else:\n",
    "        else2.append(n)\n",
    "\n",
    "else3 = []        \n",
    "for n in else2:\n",
    "    if '공인' in n:\n",
    "        name_head.append(n[:n.index('공인')])\n",
    "    else:\n",
    "        else3.append(n)\n",
    "        \n",
    "else4 = []         \n",
    "for n in else2:\n",
    "    if '부동' in n:\n",
    "        name_head.append(n[:n.index('부동')])\n",
    "    else:\n",
    "        else4.append(n)"
   ]
  },
  {
   "cell_type": "code",
   "execution_count": 72,
   "id": "2d904ef6",
   "metadata": {},
   "outputs": [
    {
     "name": "stdout",
     "output_type": "stream",
     "text": [
      "(array(['', '\"동탄역동원,파라곤', '\"반도7,8차', ..., '힘찬디앤씨', '힘찬부동산', '힘찬에셋'],\n",
      "      dtype='<U18'), array([69,  1,  1, ...,  1,  7,  1]))\n",
      "[('삼성', 132), ('현대', 126), ('우리', 115), ('미래', 99), ('행운', 96), ('하나', 94), ('제일', 83), ('황금', 83), ('태양', 82), ('대박', 78)]\n",
      "['최상권공인중개사무소', 'Ipark&hill공인중개사사', '세무사법무사공인중개사김경일사무소', '여주청안공인중개사무소', '킹공인중개사무소', '점동공인중개사무소', '공인중개사지창범사무소', '돈되는공인중개사무소', '공인중개사박암사무소', '웅천라운공인중개사무소']\n"
     ]
    }
   ],
   "source": [
    "print(np.unique(name_head, return_counts = True))\n",
    "name, name_count = np.unique(name_head, return_counts = True)\n",
    "names = sorted(zip(name, name_count), key = lambda x : x[1], reverse = True)\n",
    "print(names[:10])\n",
    "print(else4[:10])"
   ]
  },
  {
   "cell_type": "code",
   "execution_count": null,
   "id": "efc77007",
   "metadata": {},
   "outputs": [],
   "source": [
    "\n",
    "name_head = []\n",
    "else_list = []\n",
    "\n",
    "for n in names:\n",
    "    if '공인중개사' in n:\n",
    "        name_head.append(n[:n.index('공인중개사')])\n",
    "    else:\n",
    "        else_list.append(n)"
   ]
  },
  {
   "cell_type": "code",
   "execution_count": 24,
   "id": "b7fc3660",
   "metadata": {},
   "outputs": [
    {
     "name": "stdout",
     "output_type": "stream",
     "text": [
      "공인중개사사무소 흔한이름 top10:  []\n"
     ]
    }
   ],
   "source": [
    "count_list = []\n",
    "p_set = set(brokerage_office[1:])\n",
    "for v in p_set:\n",
    "    count_list.append((v, brokerage_office.count(v)))\n",
    "x = sorted(count_list, key = lambda x: x[1], reverse = True)\n",
    "print('공인중개사사무소 흔한이름 top10: ', x[:10])"
   ]
  },
  {
   "cell_type": "code",
   "execution_count": null,
   "id": "cc684136",
   "metadata": {},
   "outputs": [],
   "source": []
  }
 ],
 "metadata": {
  "kernelspec": {
   "display_name": "Python 3 (ipykernel)",
   "language": "python",
   "name": "python3"
  },
  "language_info": {
   "codemirror_mode": {
    "name": "ipython",
    "version": 3
   },
   "file_extension": ".py",
   "mimetype": "text/x-python",
   "name": "python",
   "nbconvert_exporter": "python",
   "pygments_lexer": "ipython3",
   "version": "3.11.1"
  }
 },
 "nbformat": 4,
 "nbformat_minor": 5
}
