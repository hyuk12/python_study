{
 "cells": [
  {
   "cell_type": "markdown",
   "id": "337c0cc6",
   "metadata": {},
   "source": [
    "# 전국어린이보호구역표준데이터\n",
    "\n",
    "- 시설종류별 cctv 설치 여부 카운트 /대수\n",
    "- 광역시도별, 시설종류별 카운트\n",
    "- 관할경찰서별 CCTV 설치대수\n",
    "- CCTV 평균 설치대수\n",
    "- 도로폭 / CCTV 설치대수 상관도"
   ]
  },
  {
   "cell_type": "code",
   "execution_count": 48,
   "id": "0640aad6",
   "metadata": {},
   "outputs": [],
   "source": [
    "import pandas as pd\n",
    "import numpy as np\n",
    "\n",
    "\n",
    "url = 'https://www.data.go.kr/download/15012891/standard.do?dataType=csv'\n",
    "raw_df = pd.read_csv(url, encoding= 'cp949')"
   ]
  },
  {
   "cell_type": "code",
   "execution_count": 49,
   "id": "a0321f48",
   "metadata": {},
   "outputs": [
    {
     "data": {
      "text/html": [
       "<div>\n",
       "<style scoped>\n",
       "    .dataframe tbody tr th:only-of-type {\n",
       "        vertical-align: middle;\n",
       "    }\n",
       "\n",
       "    .dataframe tbody tr th {\n",
       "        vertical-align: top;\n",
       "    }\n",
       "\n",
       "    .dataframe thead th {\n",
       "        text-align: right;\n",
       "    }\n",
       "</style>\n",
       "<table border=\"1\" class=\"dataframe\">\n",
       "  <thead>\n",
       "    <tr style=\"text-align: right;\">\n",
       "      <th></th>\n",
       "      <th>위도</th>\n",
       "      <th>경도</th>\n",
       "      <th>CCTV설치대수</th>\n",
       "      <th>제공기관코드</th>\n",
       "    </tr>\n",
       "  </thead>\n",
       "  <tbody>\n",
       "    <tr>\n",
       "      <th>count</th>\n",
       "      <td>15053.000000</td>\n",
       "      <td>15051.000000</td>\n",
       "      <td>11682.000000</td>\n",
       "      <td>1.505600e+04</td>\n",
       "    </tr>\n",
       "    <tr>\n",
       "      <th>mean</th>\n",
       "      <td>36.376821</td>\n",
       "      <td>127.594198</td>\n",
       "      <td>2.586543</td>\n",
       "      <td>4.378967e+06</td>\n",
       "    </tr>\n",
       "    <tr>\n",
       "      <th>std</th>\n",
       "      <td>1.093878</td>\n",
       "      <td>0.871786</td>\n",
       "      <td>2.937831</td>\n",
       "      <td>9.926488e+05</td>\n",
       "    </tr>\n",
       "    <tr>\n",
       "      <th>min</th>\n",
       "      <td>33.169167</td>\n",
       "      <td>124.661632</td>\n",
       "      <td>0.000000</td>\n",
       "      <td>3.000000e+06</td>\n",
       "    </tr>\n",
       "    <tr>\n",
       "      <th>25%</th>\n",
       "      <td>35.340634</td>\n",
       "      <td>126.921993</td>\n",
       "      <td>1.000000</td>\n",
       "      <td>3.560000e+06</td>\n",
       "    </tr>\n",
       "    <tr>\n",
       "      <th>50%</th>\n",
       "      <td>36.366198</td>\n",
       "      <td>127.198870</td>\n",
       "      <td>2.000000</td>\n",
       "      <td>4.090000e+06</td>\n",
       "    </tr>\n",
       "    <tr>\n",
       "      <th>75%</th>\n",
       "      <td>37.448215</td>\n",
       "      <td>128.453699</td>\n",
       "      <td>3.000000</td>\n",
       "      <td>5.060000e+06</td>\n",
       "    </tr>\n",
       "    <tr>\n",
       "      <th>max</th>\n",
       "      <td>38.542101</td>\n",
       "      <td>130.902799</td>\n",
       "      <td>46.000000</td>\n",
       "      <td>6.500000e+06</td>\n",
       "    </tr>\n",
       "  </tbody>\n",
       "</table>\n",
       "</div>"
      ],
      "text/plain": [
       "                 위도            경도      CCTV설치대수        제공기관코드\n",
       "count  15053.000000  15051.000000  11682.000000  1.505600e+04\n",
       "mean      36.376821    127.594198      2.586543  4.378967e+06\n",
       "std        1.093878      0.871786      2.937831  9.926488e+05\n",
       "min       33.169167    124.661632      0.000000  3.000000e+06\n",
       "25%       35.340634    126.921993      1.000000  3.560000e+06\n",
       "50%       36.366198    127.198870      2.000000  4.090000e+06\n",
       "75%       37.448215    128.453699      3.000000  5.060000e+06\n",
       "max       38.542101    130.902799     46.000000  6.500000e+06"
      ]
     },
     "execution_count": 49,
     "metadata": {},
     "output_type": "execute_result"
    }
   ],
   "source": [
    "raw_df.describe()"
   ]
  },
  {
   "cell_type": "code",
   "execution_count": 50,
   "id": "f5c3e648",
   "metadata": {},
   "outputs": [
    {
     "data": {
      "text/html": [
       "<div>\n",
       "<style scoped>\n",
       "    .dataframe tbody tr th:only-of-type {\n",
       "        vertical-align: middle;\n",
       "    }\n",
       "\n",
       "    .dataframe tbody tr th {\n",
       "        vertical-align: top;\n",
       "    }\n",
       "\n",
       "    .dataframe thead th {\n",
       "        text-align: right;\n",
       "    }\n",
       "</style>\n",
       "<table border=\"1\" class=\"dataframe\">\n",
       "  <thead>\n",
       "    <tr style=\"text-align: right;\">\n",
       "      <th></th>\n",
       "      <th>시설종류</th>\n",
       "      <th>대상시설명</th>\n",
       "      <th>소재지도로명주소</th>\n",
       "      <th>소재지지번주소</th>\n",
       "      <th>위도</th>\n",
       "      <th>경도</th>\n",
       "      <th>관리기관명</th>\n",
       "      <th>관할경찰서명</th>\n",
       "      <th>CCTV설치여부</th>\n",
       "      <th>CCTV설치대수</th>\n",
       "      <th>보호구역도로폭</th>\n",
       "      <th>데이터기준일자</th>\n",
       "      <th>제공기관코드</th>\n",
       "      <th>제공기관명</th>\n",
       "    </tr>\n",
       "  </thead>\n",
       "  <tbody>\n",
       "    <tr>\n",
       "      <th>0</th>\n",
       "      <td>유치원</td>\n",
       "      <td>성송초등학교병설유치원</td>\n",
       "      <td>전라북도 고창군 성송면 백토1길 10</td>\n",
       "      <td>전라북도 고창군 성송면 판정리 725</td>\n",
       "      <td>35.356252</td>\n",
       "      <td>126.643542</td>\n",
       "      <td>전라북도 고창군</td>\n",
       "      <td>고창경찰서</td>\n",
       "      <td>Y</td>\n",
       "      <td>NaN</td>\n",
       "      <td>9</td>\n",
       "      <td>2022-12-29</td>\n",
       "      <td>4780000</td>\n",
       "      <td>전라북도 고창군</td>\n",
       "    </tr>\n",
       "    <tr>\n",
       "      <th>1</th>\n",
       "      <td>초등학교</td>\n",
       "      <td>성송초등학교</td>\n",
       "      <td>전라북도 고창군 성송면 백토1길 10</td>\n",
       "      <td>전라북도 고창군 성송면 판정리 725</td>\n",
       "      <td>35.356252</td>\n",
       "      <td>126.643542</td>\n",
       "      <td>전라북도 고창군</td>\n",
       "      <td>고창경찰서</td>\n",
       "      <td>Y</td>\n",
       "      <td>2.0</td>\n",
       "      <td>9</td>\n",
       "      <td>2022-12-29</td>\n",
       "      <td>4780000</td>\n",
       "      <td>전라북도 고창군</td>\n",
       "    </tr>\n",
       "    <tr>\n",
       "      <th>2</th>\n",
       "      <td>유치원</td>\n",
       "      <td>신림초등학교병설유치원</td>\n",
       "      <td>전라북도 고창군 신림면 동법지길 61</td>\n",
       "      <td>전라북도 고창군 신림면 법지리 산31</td>\n",
       "      <td>35.494235</td>\n",
       "      <td>126.700198</td>\n",
       "      <td>전라북도 고창군</td>\n",
       "      <td>고창경찰서</td>\n",
       "      <td>Y</td>\n",
       "      <td>NaN</td>\n",
       "      <td>18</td>\n",
       "      <td>2022-12-29</td>\n",
       "      <td>4780000</td>\n",
       "      <td>전라북도 고창군</td>\n",
       "    </tr>\n",
       "    <tr>\n",
       "      <th>3</th>\n",
       "      <td>초등학교</td>\n",
       "      <td>신림초등학교</td>\n",
       "      <td>전라북도 고창군 신림면 동법지길 61</td>\n",
       "      <td>전라북도 고창군 신림면 법지리 산31</td>\n",
       "      <td>35.494235</td>\n",
       "      <td>126.700198</td>\n",
       "      <td>전라북도 고창군</td>\n",
       "      <td>고창경찰서</td>\n",
       "      <td>Y</td>\n",
       "      <td>2.0</td>\n",
       "      <td>18</td>\n",
       "      <td>2022-12-29</td>\n",
       "      <td>4780000</td>\n",
       "      <td>전라북도 고창군</td>\n",
       "    </tr>\n",
       "    <tr>\n",
       "      <th>4</th>\n",
       "      <td>유치원</td>\n",
       "      <td>심원초등학교병설유치원</td>\n",
       "      <td>전라북도 고창군 심원면 심원로 229</td>\n",
       "      <td>전라북도 고창군 심원면 월산리 725</td>\n",
       "      <td>35.525712</td>\n",
       "      <td>126.552392</td>\n",
       "      <td>전라북도 고창군</td>\n",
       "      <td>고창경찰서</td>\n",
       "      <td>Y</td>\n",
       "      <td>NaN</td>\n",
       "      <td>9</td>\n",
       "      <td>2022-12-29</td>\n",
       "      <td>4780000</td>\n",
       "      <td>전라북도 고창군</td>\n",
       "    </tr>\n",
       "  </tbody>\n",
       "</table>\n",
       "</div>"
      ],
      "text/plain": [
       "   시설종류        대상시설명              소재지도로명주소               소재지지번주소         위도  \\\n",
       "0   유치원  성송초등학교병설유치원  전라북도 고창군 성송면 백토1길 10  전라북도 고창군 성송면 판정리 725  35.356252   \n",
       "1  초등학교       성송초등학교  전라북도 고창군 성송면 백토1길 10  전라북도 고창군 성송면 판정리 725  35.356252   \n",
       "2   유치원  신림초등학교병설유치원  전라북도 고창군 신림면 동법지길 61  전라북도 고창군 신림면 법지리 산31  35.494235   \n",
       "3  초등학교       신림초등학교  전라북도 고창군 신림면 동법지길 61  전라북도 고창군 신림면 법지리 산31  35.494235   \n",
       "4   유치원  심원초등학교병설유치원  전라북도 고창군 심원면 심원로 229  전라북도 고창군 심원면 월산리 725  35.525712   \n",
       "\n",
       "           경도     관리기관명 관할경찰서명 CCTV설치여부  CCTV설치대수 보호구역도로폭     데이터기준일자  \\\n",
       "0  126.643542  전라북도 고창군  고창경찰서        Y       NaN       9  2022-12-29   \n",
       "1  126.643542  전라북도 고창군  고창경찰서        Y       2.0       9  2022-12-29   \n",
       "2  126.700198  전라북도 고창군  고창경찰서        Y       NaN      18  2022-12-29   \n",
       "3  126.700198  전라북도 고창군  고창경찰서        Y       2.0      18  2022-12-29   \n",
       "4  126.552392  전라북도 고창군  고창경찰서        Y       NaN       9  2022-12-29   \n",
       "\n",
       "    제공기관코드     제공기관명  \n",
       "0  4780000  전라북도 고창군  \n",
       "1  4780000  전라북도 고창군  \n",
       "2  4780000  전라북도 고창군  \n",
       "3  4780000  전라북도 고창군  \n",
       "4  4780000  전라북도 고창군  "
      ]
     },
     "execution_count": 50,
     "metadata": {},
     "output_type": "execute_result"
    }
   ],
   "source": [
    "raw_df.head()"
   ]
  },
  {
   "cell_type": "code",
   "execution_count": 51,
   "id": "c754213a",
   "metadata": {},
   "outputs": [
    {
     "data": {
      "text/plain": [
       "시설종류         object\n",
       "대상시설명        object\n",
       "소재지도로명주소     object\n",
       "소재지지번주소      object\n",
       "위도          float64\n",
       "경도          float64\n",
       "관리기관명        object\n",
       "관할경찰서명       object\n",
       "CCTV설치여부     object\n",
       "CCTV설치대수    float64\n",
       "보호구역도로폭      object\n",
       "데이터기준일자      object\n",
       "제공기관코드        int64\n",
       "제공기관명        object\n",
       "dtype: object"
      ]
     },
     "execution_count": 51,
     "metadata": {},
     "output_type": "execute_result"
    }
   ],
   "source": [
    "raw_df.dtypes"
   ]
  },
  {
   "cell_type": "code",
   "execution_count": 52,
   "id": "e07dfa95",
   "metadata": {},
   "outputs": [
    {
     "name": "stdout",
     "output_type": "stream",
     "text": [
      "시설종류           0\n",
      "대상시설명          0\n",
      "소재지도로명주소     225\n",
      "소재지지번주소     2913\n",
      "위도             3\n",
      "경도             5\n",
      "관리기관명          0\n",
      "관할경찰서명         0\n",
      "CCTV설치여부       0\n",
      "CCTV설치대수    3374\n",
      "보호구역도로폭     4372\n",
      "데이터기준일자        0\n",
      "제공기관코드         0\n",
      "제공기관명          0\n",
      "dtype: int64\n"
     ]
    }
   ],
   "source": [
    "print(raw_df.isnull().sum())\n",
    "\n",
    "raw_df.loc[(raw_df['CCTV설치여부'] == 'Y') & (raw_df['CCTV설치대수'].isnull()), 'CCTV설치대수'] = 1.0\n",
    "raw_df.loc[(raw_df['CCTV설치여부'] == 'N') & (raw_df['CCTV설치대수'].isnull()), 'CCTV설치대수'] = 0.0"
   ]
  },
  {
   "cell_type": "code",
   "execution_count": 63,
   "id": "ec021e2b",
   "metadata": {},
   "outputs": [],
   "source": [
    "sub_df1 = raw_df[['시설종류', 'CCTV설치여부' ]]\n",
    "sub_df2 = raw_df[['시설종류', 'CCTV설치대수' ]]\n",
    "sub_df3 = raw_df[['소재지도로명주소', '시설종류' ]]\n",
    "sub_df4 = raw_df[['관할경찰서명', 'CCTV설치대수' ]]\n",
    "\n",
    "\n"
   ]
  },
  {
   "cell_type": "code",
   "execution_count": 64,
   "id": "265330d8",
   "metadata": {},
   "outputs": [],
   "source": [
    "a1 = sub_df1.groupby('시설종류').value_counts()\n",
    "a2 = sub_df2.groupby('시설종류').value_counts()\n",
    "a3 = sub_df3.groupby('소재지도로명주소').value_counts()\n",
    "a4 = sub_df4.groupby('관할경찰서명').value_counts()"
   ]
  },
  {
   "cell_type": "code",
   "execution_count": 58,
   "id": "50921f98",
   "metadata": {},
   "outputs": [
    {
     "name": "stdout",
     "output_type": "stream",
     "text": [
      "시설종류에 따른 설치여부 시설종류       CCTV설치여부\n",
      "국제학교       Y              7\n",
      "대안학교       N              6\n",
      "           Y              1\n",
      "어린이집       Y           2216\n",
      "           N           1062\n",
      "외국인교육기관    Y              1\n",
      "외국인학교      Y              7\n",
      "           N              3\n",
      "유치원        Y           3202\n",
      "           N           1347\n",
      "초등학교       Y           6079\n",
      "           N            886\n",
      "초등학교+어린이집  Y              3\n",
      "특수학교       Y            122\n",
      "           N             40\n",
      "학원         Y             49\n",
      "           N             25\n",
      "dtype: int64\n"
     ]
    }
   ],
   "source": [
    "print(\"시설종류에 따른 설치여부\", a1)\n"
   ]
  },
  {
   "cell_type": "code",
   "execution_count": 59,
   "id": "71045ef3",
   "metadata": {},
   "outputs": [
    {
     "name": "stdout",
     "output_type": "stream",
     "text": [
      "시설종류에 따른 설치대수 시설종류  CCTV설치대수\n",
      "국제학교  1.0            6\n",
      "      2.0            1\n",
      "대안학교  0.0            6\n",
      "      1.0            1\n",
      "어린이집  1.0         1284\n",
      "                  ... \n",
      "학원    1.0           38\n",
      "      0.0           25\n",
      "      2.0            9\n",
      "      3.0            1\n",
      "      7.0            1\n",
      "Length: 103, dtype: int64\n"
     ]
    }
   ],
   "source": [
    "print(\"시설종류에 따른 설치대수\", a2)"
   ]
  },
  {
   "cell_type": "code",
   "execution_count": 60,
   "id": "2a791b78",
   "metadata": {},
   "outputs": [
    {
     "name": "stdout",
     "output_type": "stream",
     "text": [
      "소재지도로명주소                   시설종류\n",
      "-                          초등학교    9\n",
      "                           어린이집    2\n",
      "                           유치원     1\n",
      "강원도 강릉시 가작로287번길 20 (포남동)  초등학교    1\n",
      "강원도 강릉시 강동면 단경로 20         유치원     1\n",
      "                                  ..\n",
      "충청북도 충주시 하방3길 15-9         어린이집    1\n",
      "충청북도 충주시 행정13길 24          어린이집    1\n",
      "충청북도 충주시 행정3길 22           유치원     1\n",
      "충청북도 충주시 호암수청2로 55         초등학교    1\n",
      "충청북도 충주시 호암수청2로 56         유치원     1\n",
      "Length: 14051, dtype: int64\n"
     ]
    }
   ],
   "source": [
    "print(a3)"
   ]
  },
  {
   "cell_type": "code",
   "execution_count": 65,
   "id": "51acb321",
   "metadata": {},
   "outputs": [
    {
     "data": {
      "text/plain": [
       "관할경찰서명  CCTV설치대수\n",
       "가평경찰서   1.0         15\n",
       "        0.0          4\n",
       "        2.0          1\n",
       "강남경찰서   1.0         12\n",
       "        2.0          7\n",
       "                    ..\n",
       "흥덕      16.0         1\n",
       "        13.0         1\n",
       "        9.0          1\n",
       "        6.0          1\n",
       "        19.0         1\n",
       "Length: 1657, dtype: int64"
      ]
     },
     "execution_count": 65,
     "metadata": {},
     "output_type": "execute_result"
    }
   ],
   "source": [
    "a4"
   ]
  },
  {
   "cell_type": "code",
   "execution_count": 67,
   "id": "85ff20d2",
   "metadata": {},
   "outputs": [
    {
     "name": "stdout",
     "output_type": "stream",
     "text": [
      "CCTV 설치 평균:  2.118026036131775\n"
     ]
    }
   ],
   "source": [
    "print(\"CCTV 설치 평균: \" ,raw_df['CCTV설치대수'].mean())"
   ]
  },
  {
   "cell_type": "code",
   "execution_count": 71,
   "id": "2468552a",
   "metadata": {},
   "outputs": [
    {
     "ename": "ValueError",
     "evalue": "could not convert string to float: '8~12'",
     "output_type": "error",
     "traceback": [
      "\u001b[0;31m---------------------------------------------------------------------------\u001b[0m",
      "\u001b[0;31mValueError\u001b[0m                                Traceback (most recent call last)",
      "Cell \u001b[0;32mIn[71], line 2\u001b[0m\n\u001b[1;32m      1\u001b[0m raw_df\u001b[38;5;241m.\u001b[39mloc[(raw_df[\u001b[38;5;124m'\u001b[39m\u001b[38;5;124m보호구역도로폭\u001b[39m\u001b[38;5;124m'\u001b[39m] \u001b[38;5;241m==\u001b[39m \u001b[38;5;124m'\u001b[39m\u001b[38;5;124m'\u001b[39m), \u001b[38;5;124m'\u001b[39m\u001b[38;5;124m보호구역도로폭\u001b[39m\u001b[38;5;124m'\u001b[39m] \u001b[38;5;241m=\u001b[39m \u001b[38;5;241m5.5\u001b[39m\n\u001b[0;32m----> 2\u001b[0m raw_df[\u001b[38;5;124m'\u001b[39m\u001b[38;5;124m보호구역도로폭\u001b[39m\u001b[38;5;124m'\u001b[39m] \u001b[38;5;241m=\u001b[39m \u001b[43mraw_df\u001b[49m\u001b[43m[\u001b[49m\u001b[38;5;124;43m'\u001b[39;49m\u001b[38;5;124;43m보호구역도로폭\u001b[39;49m\u001b[38;5;124;43m'\u001b[39;49m\u001b[43m]\u001b[49m\u001b[38;5;241;43m.\u001b[39;49m\u001b[43mastype\u001b[49m\u001b[43m(\u001b[49m\u001b[43mnp\u001b[49m\u001b[38;5;241;43m.\u001b[39;49m\u001b[43mfloat64\u001b[49m\u001b[43m)\u001b[49m\n",
      "File \u001b[0;32m/opt/homebrew/Cellar/jupyterlab/3.4.8_1/libexec/lib/python3.11/site-packages/pandas/core/generic.py:6240\u001b[0m, in \u001b[0;36mNDFrame.astype\u001b[0;34m(self, dtype, copy, errors)\u001b[0m\n\u001b[1;32m   6233\u001b[0m     results \u001b[38;5;241m=\u001b[39m [\n\u001b[1;32m   6234\u001b[0m         \u001b[38;5;28mself\u001b[39m\u001b[38;5;241m.\u001b[39miloc[:, i]\u001b[38;5;241m.\u001b[39mastype(dtype, copy\u001b[38;5;241m=\u001b[39mcopy)\n\u001b[1;32m   6235\u001b[0m         \u001b[38;5;28;01mfor\u001b[39;00m i \u001b[38;5;129;01min\u001b[39;00m \u001b[38;5;28mrange\u001b[39m(\u001b[38;5;28mlen\u001b[39m(\u001b[38;5;28mself\u001b[39m\u001b[38;5;241m.\u001b[39mcolumns))\n\u001b[1;32m   6236\u001b[0m     ]\n\u001b[1;32m   6238\u001b[0m \u001b[38;5;28;01melse\u001b[39;00m:\n\u001b[1;32m   6239\u001b[0m     \u001b[38;5;66;03m# else, only a single dtype is given\u001b[39;00m\n\u001b[0;32m-> 6240\u001b[0m     new_data \u001b[38;5;241m=\u001b[39m \u001b[38;5;28;43mself\u001b[39;49m\u001b[38;5;241;43m.\u001b[39;49m\u001b[43m_mgr\u001b[49m\u001b[38;5;241;43m.\u001b[39;49m\u001b[43mastype\u001b[49m\u001b[43m(\u001b[49m\u001b[43mdtype\u001b[49m\u001b[38;5;241;43m=\u001b[39;49m\u001b[43mdtype\u001b[49m\u001b[43m,\u001b[49m\u001b[43m \u001b[49m\u001b[43mcopy\u001b[49m\u001b[38;5;241;43m=\u001b[39;49m\u001b[43mcopy\u001b[49m\u001b[43m,\u001b[49m\u001b[43m \u001b[49m\u001b[43merrors\u001b[49m\u001b[38;5;241;43m=\u001b[39;49m\u001b[43merrors\u001b[49m\u001b[43m)\u001b[49m\n\u001b[1;32m   6241\u001b[0m     \u001b[38;5;28;01mreturn\u001b[39;00m \u001b[38;5;28mself\u001b[39m\u001b[38;5;241m.\u001b[39m_constructor(new_data)\u001b[38;5;241m.\u001b[39m__finalize__(\u001b[38;5;28mself\u001b[39m, method\u001b[38;5;241m=\u001b[39m\u001b[38;5;124m\"\u001b[39m\u001b[38;5;124mastype\u001b[39m\u001b[38;5;124m\"\u001b[39m)\n\u001b[1;32m   6243\u001b[0m \u001b[38;5;66;03m# GH 33113: handle empty frame or series\u001b[39;00m\n",
      "File \u001b[0;32m/opt/homebrew/Cellar/jupyterlab/3.4.8_1/libexec/lib/python3.11/site-packages/pandas/core/internals/managers.py:448\u001b[0m, in \u001b[0;36mBaseBlockManager.astype\u001b[0;34m(self, dtype, copy, errors)\u001b[0m\n\u001b[1;32m    447\u001b[0m \u001b[38;5;28;01mdef\u001b[39;00m \u001b[38;5;21mastype\u001b[39m(\u001b[38;5;28mself\u001b[39m: T, dtype, copy: \u001b[38;5;28mbool\u001b[39m \u001b[38;5;241m=\u001b[39m \u001b[38;5;28;01mFalse\u001b[39;00m, errors: \u001b[38;5;28mstr\u001b[39m \u001b[38;5;241m=\u001b[39m \u001b[38;5;124m\"\u001b[39m\u001b[38;5;124mraise\u001b[39m\u001b[38;5;124m\"\u001b[39m) \u001b[38;5;241m-\u001b[39m\u001b[38;5;241m>\u001b[39m T:\n\u001b[0;32m--> 448\u001b[0m     \u001b[38;5;28;01mreturn\u001b[39;00m \u001b[38;5;28;43mself\u001b[39;49m\u001b[38;5;241;43m.\u001b[39;49m\u001b[43mapply\u001b[49m\u001b[43m(\u001b[49m\u001b[38;5;124;43m\"\u001b[39;49m\u001b[38;5;124;43mastype\u001b[39;49m\u001b[38;5;124;43m\"\u001b[39;49m\u001b[43m,\u001b[49m\u001b[43m \u001b[49m\u001b[43mdtype\u001b[49m\u001b[38;5;241;43m=\u001b[39;49m\u001b[43mdtype\u001b[49m\u001b[43m,\u001b[49m\u001b[43m \u001b[49m\u001b[43mcopy\u001b[49m\u001b[38;5;241;43m=\u001b[39;49m\u001b[43mcopy\u001b[49m\u001b[43m,\u001b[49m\u001b[43m \u001b[49m\u001b[43merrors\u001b[49m\u001b[38;5;241;43m=\u001b[39;49m\u001b[43merrors\u001b[49m\u001b[43m)\u001b[49m\n",
      "File \u001b[0;32m/opt/homebrew/Cellar/jupyterlab/3.4.8_1/libexec/lib/python3.11/site-packages/pandas/core/internals/managers.py:352\u001b[0m, in \u001b[0;36mBaseBlockManager.apply\u001b[0;34m(self, f, align_keys, ignore_failures, **kwargs)\u001b[0m\n\u001b[1;32m    350\u001b[0m         applied \u001b[38;5;241m=\u001b[39m b\u001b[38;5;241m.\u001b[39mapply(f, \u001b[38;5;241m*\u001b[39m\u001b[38;5;241m*\u001b[39mkwargs)\n\u001b[1;32m    351\u001b[0m     \u001b[38;5;28;01melse\u001b[39;00m:\n\u001b[0;32m--> 352\u001b[0m         applied \u001b[38;5;241m=\u001b[39m \u001b[38;5;28;43mgetattr\u001b[39;49m\u001b[43m(\u001b[49m\u001b[43mb\u001b[49m\u001b[43m,\u001b[49m\u001b[43m \u001b[49m\u001b[43mf\u001b[49m\u001b[43m)\u001b[49m\u001b[43m(\u001b[49m\u001b[38;5;241;43m*\u001b[39;49m\u001b[38;5;241;43m*\u001b[39;49m\u001b[43mkwargs\u001b[49m\u001b[43m)\u001b[49m\n\u001b[1;32m    353\u001b[0m \u001b[38;5;28;01mexcept\u001b[39;00m (\u001b[38;5;167;01mTypeError\u001b[39;00m, \u001b[38;5;167;01mNotImplementedError\u001b[39;00m):\n\u001b[1;32m    354\u001b[0m     \u001b[38;5;28;01mif\u001b[39;00m \u001b[38;5;129;01mnot\u001b[39;00m ignore_failures:\n",
      "File \u001b[0;32m/opt/homebrew/Cellar/jupyterlab/3.4.8_1/libexec/lib/python3.11/site-packages/pandas/core/internals/blocks.py:526\u001b[0m, in \u001b[0;36mBlock.astype\u001b[0;34m(self, dtype, copy, errors)\u001b[0m\n\u001b[1;32m    508\u001b[0m \u001b[38;5;250m\u001b[39m\u001b[38;5;124;03m\"\"\"\u001b[39;00m\n\u001b[1;32m    509\u001b[0m \u001b[38;5;124;03mCoerce to the new dtype.\u001b[39;00m\n\u001b[1;32m    510\u001b[0m \n\u001b[0;32m   (...)\u001b[0m\n\u001b[1;32m    522\u001b[0m \u001b[38;5;124;03mBlock\u001b[39;00m\n\u001b[1;32m    523\u001b[0m \u001b[38;5;124;03m\"\"\"\u001b[39;00m\n\u001b[1;32m    524\u001b[0m values \u001b[38;5;241m=\u001b[39m \u001b[38;5;28mself\u001b[39m\u001b[38;5;241m.\u001b[39mvalues\n\u001b[0;32m--> 526\u001b[0m new_values \u001b[38;5;241m=\u001b[39m \u001b[43mastype_array_safe\u001b[49m\u001b[43m(\u001b[49m\u001b[43mvalues\u001b[49m\u001b[43m,\u001b[49m\u001b[43m \u001b[49m\u001b[43mdtype\u001b[49m\u001b[43m,\u001b[49m\u001b[43m \u001b[49m\u001b[43mcopy\u001b[49m\u001b[38;5;241;43m=\u001b[39;49m\u001b[43mcopy\u001b[49m\u001b[43m,\u001b[49m\u001b[43m \u001b[49m\u001b[43merrors\u001b[49m\u001b[38;5;241;43m=\u001b[39;49m\u001b[43merrors\u001b[49m\u001b[43m)\u001b[49m\n\u001b[1;32m    528\u001b[0m new_values \u001b[38;5;241m=\u001b[39m maybe_coerce_values(new_values)\n\u001b[1;32m    529\u001b[0m newb \u001b[38;5;241m=\u001b[39m \u001b[38;5;28mself\u001b[39m\u001b[38;5;241m.\u001b[39mmake_block(new_values)\n",
      "File \u001b[0;32m/opt/homebrew/Cellar/jupyterlab/3.4.8_1/libexec/lib/python3.11/site-packages/pandas/core/dtypes/astype.py:299\u001b[0m, in \u001b[0;36mastype_array_safe\u001b[0;34m(values, dtype, copy, errors)\u001b[0m\n\u001b[1;32m    296\u001b[0m     \u001b[38;5;28;01mreturn\u001b[39;00m values\u001b[38;5;241m.\u001b[39mcopy()\n\u001b[1;32m    298\u001b[0m \u001b[38;5;28;01mtry\u001b[39;00m:\n\u001b[0;32m--> 299\u001b[0m     new_values \u001b[38;5;241m=\u001b[39m \u001b[43mastype_array\u001b[49m\u001b[43m(\u001b[49m\u001b[43mvalues\u001b[49m\u001b[43m,\u001b[49m\u001b[43m \u001b[49m\u001b[43mdtype\u001b[49m\u001b[43m,\u001b[49m\u001b[43m \u001b[49m\u001b[43mcopy\u001b[49m\u001b[38;5;241;43m=\u001b[39;49m\u001b[43mcopy\u001b[49m\u001b[43m)\u001b[49m\n\u001b[1;32m    300\u001b[0m \u001b[38;5;28;01mexcept\u001b[39;00m (\u001b[38;5;167;01mValueError\u001b[39;00m, \u001b[38;5;167;01mTypeError\u001b[39;00m):\n\u001b[1;32m    301\u001b[0m     \u001b[38;5;66;03m# e.g. astype_nansafe can fail on object-dtype of strings\u001b[39;00m\n\u001b[1;32m    302\u001b[0m     \u001b[38;5;66;03m#  trying to convert to float\u001b[39;00m\n\u001b[1;32m    303\u001b[0m     \u001b[38;5;28;01mif\u001b[39;00m errors \u001b[38;5;241m==\u001b[39m \u001b[38;5;124m\"\u001b[39m\u001b[38;5;124mignore\u001b[39m\u001b[38;5;124m\"\u001b[39m:\n",
      "File \u001b[0;32m/opt/homebrew/Cellar/jupyterlab/3.4.8_1/libexec/lib/python3.11/site-packages/pandas/core/dtypes/astype.py:230\u001b[0m, in \u001b[0;36mastype_array\u001b[0;34m(values, dtype, copy)\u001b[0m\n\u001b[1;32m    227\u001b[0m     values \u001b[38;5;241m=\u001b[39m values\u001b[38;5;241m.\u001b[39mastype(dtype, copy\u001b[38;5;241m=\u001b[39mcopy)\n\u001b[1;32m    229\u001b[0m \u001b[38;5;28;01melse\u001b[39;00m:\n\u001b[0;32m--> 230\u001b[0m     values \u001b[38;5;241m=\u001b[39m \u001b[43mastype_nansafe\u001b[49m\u001b[43m(\u001b[49m\u001b[43mvalues\u001b[49m\u001b[43m,\u001b[49m\u001b[43m \u001b[49m\u001b[43mdtype\u001b[49m\u001b[43m,\u001b[49m\u001b[43m \u001b[49m\u001b[43mcopy\u001b[49m\u001b[38;5;241;43m=\u001b[39;49m\u001b[43mcopy\u001b[49m\u001b[43m)\u001b[49m\n\u001b[1;32m    232\u001b[0m \u001b[38;5;66;03m# in pandas we don't store numpy str dtypes, so convert to object\u001b[39;00m\n\u001b[1;32m    233\u001b[0m \u001b[38;5;28;01mif\u001b[39;00m \u001b[38;5;28misinstance\u001b[39m(dtype, np\u001b[38;5;241m.\u001b[39mdtype) \u001b[38;5;129;01mand\u001b[39;00m \u001b[38;5;28missubclass\u001b[39m(values\u001b[38;5;241m.\u001b[39mdtype\u001b[38;5;241m.\u001b[39mtype, \u001b[38;5;28mstr\u001b[39m):\n",
      "File \u001b[0;32m/opt/homebrew/Cellar/jupyterlab/3.4.8_1/libexec/lib/python3.11/site-packages/pandas/core/dtypes/astype.py:170\u001b[0m, in \u001b[0;36mastype_nansafe\u001b[0;34m(arr, dtype, copy, skipna)\u001b[0m\n\u001b[1;32m    166\u001b[0m     \u001b[38;5;28;01mraise\u001b[39;00m \u001b[38;5;167;01mValueError\u001b[39;00m(msg)\n\u001b[1;32m    168\u001b[0m \u001b[38;5;28;01mif\u001b[39;00m copy \u001b[38;5;129;01mor\u001b[39;00m is_object_dtype(arr\u001b[38;5;241m.\u001b[39mdtype) \u001b[38;5;129;01mor\u001b[39;00m is_object_dtype(dtype):\n\u001b[1;32m    169\u001b[0m     \u001b[38;5;66;03m# Explicit copy, or required since NumPy can't view from / to object.\u001b[39;00m\n\u001b[0;32m--> 170\u001b[0m     \u001b[38;5;28;01mreturn\u001b[39;00m \u001b[43marr\u001b[49m\u001b[38;5;241;43m.\u001b[39;49m\u001b[43mastype\u001b[49m\u001b[43m(\u001b[49m\u001b[43mdtype\u001b[49m\u001b[43m,\u001b[49m\u001b[43m \u001b[49m\u001b[43mcopy\u001b[49m\u001b[38;5;241;43m=\u001b[39;49m\u001b[38;5;28;43;01mTrue\u001b[39;49;00m\u001b[43m)\u001b[49m\n\u001b[1;32m    172\u001b[0m \u001b[38;5;28;01mreturn\u001b[39;00m arr\u001b[38;5;241m.\u001b[39mastype(dtype, copy\u001b[38;5;241m=\u001b[39mcopy)\n",
      "\u001b[0;31mValueError\u001b[0m: could not convert string to float: '8~12'"
     ]
    }
   ],
   "source": [
    "raw_df.loc[(raw_df['보호구역도로폭'] == ''), '보호구역도로폭'] = 5.5\n",
    "raw_df['보호구역도로폭'] = raw_df['보호구역도로폭'].astype(np.float64)"
   ]
  },
  {
   "cell_type": "code",
   "execution_count": null,
   "id": "a6abf156",
   "metadata": {},
   "outputs": [],
   "source": []
  }
 ],
 "metadata": {
  "kernelspec": {
   "display_name": "Python 3 (ipykernel)",
   "language": "python",
   "name": "python3"
  },
  "language_info": {
   "codemirror_mode": {
    "name": "ipython",
    "version": 3
   },
   "file_extension": ".py",
   "mimetype": "text/x-python",
   "name": "python",
   "nbconvert_exporter": "python",
   "pygments_lexer": "ipython3",
   "version": "3.11.1"
  }
 },
 "nbformat": 4,
 "nbformat_minor": 5
}
