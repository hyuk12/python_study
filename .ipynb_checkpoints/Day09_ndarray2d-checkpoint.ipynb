{
 "cells": [
  {
   "cell_type": "markdown",
   "id": "4e4c3d85",
   "metadata": {},
   "source": [
    "## numpy의 2차원배열"
   ]
  },
  {
   "cell_type": "code",
   "execution_count": 4,
   "id": "022dff8b",
   "metadata": {},
   "outputs": [
    {
     "name": "stdout",
     "output_type": "stream",
     "text": [
      "[[ 1  2  3]\n",
      " [10 20 30]]\n",
      "차원: 2\n",
      "두개의 값을가지고있는 리스트안에 3개의 값이 들어있는 리스트가있다 (2, 3)\n",
      "총 엘리먼트의 수:  6\n"
     ]
    }
   ],
   "source": [
    "import numpy as np\n",
    "\n",
    "a1 = np.array([[1, 2, 3], [10, 20, 30]])\n",
    "\n",
    "print(a1)\n",
    "print('차원:', a1.ndim)\n",
    "print('두개의 값을가지고있는 리스트안에 3개의 값이 들어있는 리스트가있다', a1.shape)\n",
    "print('총 엘리먼트의 수: ', a1.size)"
   ]
  },
  {
   "cell_type": "markdown",
   "id": "b8c496e1",
   "metadata": {},
   "source": [
    "## 2차원 배열을 만드는 일반적인 방법"
   ]
  },
  {
   "cell_type": "code",
   "execution_count": 11,
   "id": "b618dce1",
   "metadata": {},
   "outputs": [
    {
     "name": "stdout",
     "output_type": "stream",
     "text": [
      "[[[ 0  1]\n",
      "  [ 2  3]]\n",
      "\n",
      " [[ 4  5]\n",
      "  [ 6  7]]\n",
      "\n",
      " [[ 8  9]\n",
      "  [10 11]]\n",
      "\n",
      " [[12 13]\n",
      "  [14 15]]\n",
      "\n",
      " [[16 17]\n",
      "  [18 19]]]\n",
      "(5, 2, 2)\n"
     ]
    }
   ],
   "source": [
    "a2 = np.arange(20).reshape(5,2,2)\n",
    "print(a2)\n",
    "print(a2.shape)"
   ]
  },
  {
   "cell_type": "markdown",
   "id": "bb1a31c6",
   "metadata": {},
   "source": [
    "## 다시 1차원 배열로 만들기"
   ]
  },
  {
   "cell_type": "code",
   "execution_count": 17,
   "id": "98961628",
   "metadata": {},
   "outputs": [
    {
     "name": "stdout",
     "output_type": "stream",
     "text": [
      "[  0   1   2 100   4   5   6   7   8   9  10  11  12  13  14  15  16  17\n",
      "  18  19]\n",
      "[[[  0   1]\n",
      "  [  2 100]]\n",
      "\n",
      " [[  4   5]\n",
      "  [  6   7]]\n",
      "\n",
      " [[  8   9]\n",
      "  [ 10  11]]\n",
      "\n",
      " [[ 12  13]\n",
      "  [ 14  15]]\n",
      "\n",
      " [[ 16  17]\n",
      "  [ 18  19]]]\n",
      "[  0   1   2 200   4   5   6   7   8   9  10  11  12  13  14  15  16  17\n",
      "  18  19]\n",
      "[[[  0   1]\n",
      "  [  2 200]]\n",
      "\n",
      " [[  4   5]\n",
      "  [  6   7]]\n",
      "\n",
      " [[  8   9]\n",
      "  [ 10  11]]\n",
      "\n",
      " [[ 12  13]\n",
      "  [ 14  15]]\n",
      "\n",
      " [[ 16  17]\n",
      "  [ 18  19]]]\n"
     ]
    }
   ],
   "source": [
    "a3 = a2.flatten() # 값을 바꾸어도 본래의 배열의 값은 바뀌지 않는다 (깊은 복사)\n",
    "a3[3] = 100\n",
    "print(a3)\n",
    "print(a2)\n",
    "\n",
    "a4 = a2.ravel() # 값을 바꾸게되면 본래의 배열의 값도 바뀌게 된다. (얕은 복사)\n",
    "a4[3] = 200\n",
    "print(a4)\n",
    "print(a2)"
   ]
  },
  {
   "cell_type": "markdown",
   "id": "637139da",
   "metadata": {},
   "source": [
    "## 인덱싱"
   ]
  },
  {
   "cell_type": "code",
   "execution_count": 30,
   "id": "f607bcfa",
   "metadata": {},
   "outputs": [
    {
     "name": "stdout",
     "output_type": "stream",
     "text": [
      "[[ 0  1  2  3  4]\n",
      " [ 5  6  7  8  9]\n",
      " [10 11 12 13 14]\n",
      " [15 16 17 18 19]]\n",
      "[5 6 7 8 9]\n",
      "7\n",
      "[[ 1  3]\n",
      " [ 6  8]\n",
      " [11 13]\n",
      " [16 18]]\n",
      "[[ 1  2  3]\n",
      " [11 12 13]]\n"
     ]
    }
   ],
   "source": [
    "a2 = np.arange(20).reshape(4, 5)\n",
    "print(a2)\n",
    "print(a2[1])\n",
    "print(a2[1,2])\n",
    "print(a2[:, 1:4:2])\n",
    "print(a2[::2, 1:4])"
   ]
  },
  {
   "cell_type": "markdown",
   "id": "83719558",
   "metadata": {},
   "source": [
    "## Axis 축\n",
    "\n",
    "- 인덱스와 같이 0부터 시작을하고 0번째가 1차원 1번째가 2차원 이런식으로 늘어난다."
   ]
  },
  {
   "cell_type": "code",
   "execution_count": 35,
   "id": "9c670da0",
   "metadata": {},
   "outputs": [
    {
     "name": "stdout",
     "output_type": "stream",
     "text": [
      "[[ 0  1  2  3  4]\n",
      " [ 5  6  7  8  9]\n",
      " [10 11 12 13 14]\n",
      " [15 16 17 18 19]]\n",
      "(4, 5)\n",
      "190\n",
      "[30 34 38 42 46]\n",
      "[10 35 60 85]\n"
     ]
    }
   ],
   "source": [
    "print(a2)\n",
    "print(a2.shape) \n",
    "print(a2.sum())\n",
    "print(a2.sum(axis=0))\n",
    "print(a2.sum(axis=1))"
   ]
  },
  {
   "cell_type": "markdown",
   "id": "a55ee156",
   "metadata": {},
   "source": [
    "## 축의 변환\n",
    "\n",
    "- 보통 axis 가 두개일 때 사용한다."
   ]
  },
  {
   "cell_type": "code",
   "execution_count": 37,
   "id": "b6c44dbe",
   "metadata": {},
   "outputs": [
    {
     "name": "stdout",
     "output_type": "stream",
     "text": [
      "[[ 0  1  2  3  4]\n",
      " [ 5  6  7  8  9]\n",
      " [10 11 12 13 14]\n",
      " [15 16 17 18 19]] (4, 5)\n",
      "[[ 0  5 10 15]\n",
      " [ 1  6 11 16]\n",
      " [ 2  7 12 17]\n",
      " [ 3  8 13 18]\n",
      " [ 4  9 14 19]] (5, 4)\n"
     ]
    }
   ],
   "source": [
    "print(a2, a2.shape)\n",
    "a3 = a2.T\n",
    "print(a3, a3.shape)"
   ]
  },
  {
   "cell_type": "code",
   "execution_count": 41,
   "id": "e94eee43",
   "metadata": {},
   "outputs": [
    {
     "name": "stdout",
     "output_type": "stream",
     "text": [
      "[[ 0  1  2  3  4]\n",
      " [ 5  6  7  8  9]\n",
      " [10 11 12 13 14]\n",
      " [15 16 17 18 19]] (4, 5)\n",
      "[[ 0  5 10 15]\n",
      " [ 1  6 11 16]\n",
      " [ 2  7 12 17]\n",
      " [ 3  8 13 18]\n",
      " [ 4  9 14 19]] (5, 4)\n"
     ]
    }
   ],
   "source": [
    "print(a2, a2.shape)\n",
    "a3 = np.moveaxis(a2, [0], [1])\n",
    "print(a3, a3.shape)"
   ]
  },
  {
   "cell_type": "markdown",
   "id": "359e6f96",
   "metadata": {},
   "source": [
    "## 연습문제.\n",
    "a10 = np.arange(5, 20)\n",
    "\n",
    "- shape (3, 5) 의 2차원 ndarray로 만들기\n",
    "- 만든 2차원배열을 \n",
    "               [[7 8]\n",
    "               [12 13]\n",
    "               [17 18]] 로 만들기 \n",
    "               \n",
    "- 세로 축을 기준으로 합을 구하기\n",
    "- 세로 축을 기준으로 평균을 구하기"
   ]
  },
  {
   "cell_type": "code",
   "execution_count": 46,
   "id": "f4f4a1e1",
   "metadata": {},
   "outputs": [],
   "source": [
    "a10 = np.arange(5, 20).reshape(3, 5)"
   ]
  },
  {
   "cell_type": "code",
   "execution_count": 55,
   "id": "3ba56530",
   "metadata": {},
   "outputs": [
    {
     "name": "stdout",
     "output_type": "stream",
     "text": [
      "[[ 7  8]\n",
      " [12 13]\n",
      " [17 18]]\n",
      "\n",
      "[36 39]\n",
      "[12. 13.]\n"
     ]
    }
   ],
   "source": [
    "print(a10[:, 2:4])\n",
    "print()\n",
    "a11 = a10[:, 2:4]\n",
    "print(a11.sum(axis=0))\n",
    "print(a11.mean(axis=0))"
   ]
  },
  {
   "cell_type": "markdown",
   "id": "a9a185f1",
   "metadata": {},
   "source": [
    "## 배열 붙이기\n",
    "\n",
    "> 1차원 배열일 경우는 axis를 생각하지 않고 그냥 옆에 붙이면된다.\n",
    "\n",
    "> 2차원 배열일 경우에는 axis의 축을 생각해서 붙일수 있다.\n",
    "\n",
    "concatenate((ndarray1, ndarray2), axis=0) : 기본 값이 0이다."
   ]
  },
  {
   "cell_type": "code",
   "execution_count": 61,
   "id": "a459c69b",
   "metadata": {},
   "outputs": [
    {
     "name": "stdout",
     "output_type": "stream",
     "text": [
      "[[0 1 2 3 4]\n",
      " [5 6 7 8 9]]\n",
      "[[100 101 102 103 104]\n",
      " [105 106 107 108 109]]\n",
      "[[  0   1   2   3   4 100 101 102 103 104]\n",
      " [  5   6   7   8   9 105 106 107 108 109]]\n"
     ]
    }
   ],
   "source": [
    "a1 = np.arange(0, 10).reshape(2,5)\n",
    "a2 = np.arange(100, 110).reshape(2,5)\n",
    "\n",
    "print(a1)\n",
    "print(a2)\n",
    "\n",
    "a3 = np.concatenate((a1, a2), axis=1)\n",
    "print(a3)"
   ]
  },
  {
   "cell_type": "markdown",
   "id": "fc7cfc37",
   "metadata": {},
   "source": [
    "## 다른 방법\n",
    " - numpy.hstack((ndarray, ndarray2)) = np.concatenate((ndarray, ndarray2), axis=1)\n",
    " - numpy.vstack((ndarray, ndarray2)) = np.concatenate((ndarray, ndarray2), axis=0)"
   ]
  },
  {
   "cell_type": "code",
   "execution_count": 62,
   "id": "a32c0f25",
   "metadata": {},
   "outputs": [
    {
     "name": "stdout",
     "output_type": "stream",
     "text": [
      "[[  0   1   2   3   4 100 101 102 103 104]\n",
      " [  5   6   7   8   9 105 106 107 108 109]]\n",
      "\n",
      "[[  0   1   2   3   4]\n",
      " [  5   6   7   8   9]\n",
      " [100 101 102 103 104]\n",
      " [105 106 107 108 109]]\n"
     ]
    }
   ],
   "source": [
    "a4 = np.hstack((a1, a2))\n",
    "a5 = np.vstack((a1, a2))\n",
    "\n",
    "print(a4)\n",
    "print()\n",
    "print(a5)"
   ]
  },
  {
   "cell_type": "markdown",
   "id": "292e8ec4",
   "metadata": {},
   "source": [
    "## split 자르기\n",
    "\n",
    " - 몇개의 조각으로 나눌 것인가? hsplit - > 세로기준\n",
    " - 몇개의 조각으로 나눌 것인가? vsplit - > 가로기준\n",
    " \n",
    " \n",
    " **반환형이 리스트이다**"
   ]
  },
  {
   "cell_type": "code",
   "execution_count": 65,
   "id": "241bf74f",
   "metadata": {},
   "outputs": [
    {
     "name": "stdout",
     "output_type": "stream",
     "text": [
      "[[  0   1   2   3   4 100 101 102 103 104]\n",
      " [  5   6   7   8   9 105 106 107 108 109]]\n",
      "[array([[0, 1],\n",
      "       [5, 6]]), array([[2, 3],\n",
      "       [7, 8]]), array([[  4, 100],\n",
      "       [  9, 105]]), array([[101, 102],\n",
      "       [106, 107]]), array([[103, 104],\n",
      "       [108, 109]])]\n"
     ]
    }
   ],
   "source": [
    "print(a4)\n",
    "a6 = np.hsplit(a4,5)\n",
    "print(a6)"
   ]
  },
  {
   "cell_type": "code",
   "execution_count": 69,
   "id": "13934eb7",
   "metadata": {},
   "outputs": [
    {
     "name": "stdout",
     "output_type": "stream",
     "text": [
      "[[  0   5]\n",
      " [  1   6]\n",
      " [  2   7]\n",
      " [  3   8]\n",
      " [  4   9]\n",
      " [100 105]\n",
      " [101 106]\n",
      " [102 107]\n",
      " [103 108]\n",
      " [104 109]]\n"
     ]
    },
    {
     "data": {
      "text/plain": [
       "[array([[0, 5],\n",
       "        [1, 6]]),\n",
       " array([[2, 7],\n",
       "        [3, 8]]),\n",
       " array([[  4,   9],\n",
       "        [100, 105]]),\n",
       " array([[101, 106],\n",
       "        [102, 107]]),\n",
       " array([[103, 108],\n",
       "        [104, 109]])]"
      ]
     },
     "execution_count": 69,
     "metadata": {},
     "output_type": "execute_result"
    }
   ],
   "source": [
    "a7 = a4.T\n",
    "print(a7)\n",
    "np.vsplit(a7, 5)"
   ]
  },
  {
   "cell_type": "markdown",
   "id": "06fe1811",
   "metadata": {},
   "source": [
    "## 인덱싱 예제"
   ]
  },
  {
   "cell_type": "code",
   "execution_count": 70,
   "id": "3321e023",
   "metadata": {
    "scrolled": true
   },
   "outputs": [
    {
     "name": "stdout",
     "output_type": "stream",
     "text": [
      "[[ 0  1  2  3  4]\n",
      " [ 5  6  7  8  9]\n",
      " [10 11 12 13 14]\n",
      " [15 16 17 18 19]]\n"
     ]
    }
   ],
   "source": [
    "a2 = np.arange(20).reshape(4, 5)\n",
    "print(a2)"
   ]
  },
  {
   "cell_type": "code",
   "execution_count": 71,
   "id": "da1833c7",
   "metadata": {},
   "outputs": [
    {
     "name": "stdout",
     "output_type": "stream",
     "text": [
      "[[ 5  6  7  8  9]\n",
      " [15 16 17 18 19]]\n"
     ]
    }
   ],
   "source": [
    "filter1 = a2[:,0]%10 == 5\n",
    "print(a2[filter1])"
   ]
  },
  {
   "cell_type": "code",
   "execution_count": null,
   "id": "5174847d",
   "metadata": {},
   "outputs": [],
   "source": []
  }
 ],
 "metadata": {
  "kernelspec": {
   "display_name": "Python 3 (ipykernel)",
   "language": "python",
   "name": "python3"
  },
  "language_info": {
   "codemirror_mode": {
    "name": "ipython",
    "version": 3
   },
   "file_extension": ".py",
   "mimetype": "text/x-python",
   "name": "python",
   "nbconvert_exporter": "python",
   "pygments_lexer": "ipython3",
   "version": "3.11.1"
  }
 },
 "nbformat": 4,
 "nbformat_minor": 5
}
