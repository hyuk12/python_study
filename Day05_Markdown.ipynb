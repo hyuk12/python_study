{
 "cells": [
  {
   "cell_type": "markdown",
   "id": "d478b144",
   "metadata": {},
   "source": [
    "# check list\n",
    "\n",
    "## check list2\n",
    "\n",
    "### check list3\n",
    "\n",
    "|제목|내용|작성자|\n",
    "|----|-------|------|\n",
    "|제목1|안녕하세요|마크다운|\n",
    "\n",
    "문장1 문장2 문장3 <br>\n",
    "문장4\n",
    "\n",
    "문단 x\n",
    "\n",
    "> 안녕하세요\n",
    "\n",
    "------\n",
    "\n",
    "* [ ] check\n",
    "* [x] check2"
   ]
  },
  {
   "cell_type": "code",
   "execution_count": null,
   "id": "2c5824a2",
   "metadata": {},
   "outputs": [],
   "source": []
  },
  {
   "cell_type": "code",
   "execution_count": null,
   "id": "48f0afb9",
   "metadata": {},
   "outputs": [],
   "source": []
  }
 ],
 "metadata": {
  "kernelspec": {
   "display_name": "Python 3 (ipykernel)",
   "language": "python",
   "name": "python3"
  },
  "language_info": {
   "codemirror_mode": {
    "name": "ipython",
    "version": 3
   },
   "file_extension": ".py",
   "mimetype": "text/x-python",
   "name": "python",
   "nbconvert_exporter": "python",
   "pygments_lexer": "ipython3",
   "version": "3.11.1"
  }
 },
 "nbformat": 4,
 "nbformat_minor": 5
}
