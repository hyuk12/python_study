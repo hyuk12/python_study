{
 "cells": [
  {
   "cell_type": "code",
   "execution_count": 1,
   "id": "8a191e5e",
   "metadata": {},
   "outputs": [],
   "source": [
    "import requests\n",
    "import numpy as np\n",
    "import matplotlib.pyplot as plt\n",
    "import math\n",
    "x = requests.get('https://archive.ics.uci.edu/ml/machine-learning-databases/iris/iris.data')\n",
    "\n",
    "raw_data = []\n",
    "for line in x.text.split('\\n'):\n",
    "    raw_data.append(line.split(','))\n",
    "    \n",
    "for sample in raw_data:\n",
    "    if len(sample) < 1 :\n",
    "        continue\n",
    "    for i, value in enumerate(sample[:4]):\n",
    "        try:\n",
    "            sample[i] = float(value)\n",
    "        except:\n",
    "            sample[i] = 0.0\n",
    "            \n",
    "for i in raw_data:\n",
    "    if len(i) < 2:\n",
    "        continue\n",
    "    if i[-1] in 'Iris-setosa':\n",
    "        i[-1] = 0.0\n",
    "    elif i[-1] in 'Iris-versicolor':\n",
    "        i[-1] = 1.0\n",
    "    elif i[-1] in 'Iris-virginica':\n",
    "        i[-1] = 2.0\n",
    "raw_data = raw_data[:150]        \n",
    "np_data = np.array(raw_data)\n",
    "\n",
    "def dist_np(p1, p2):\n",
    "   \n",
    "    return math.sqrt(sum((p2 - p1) ** 2))"
   ]
  },
  {
   "cell_type": "code",
   "execution_count": 16,
   "id": "3239ac35",
   "metadata": {},
   "outputs": [
    {
     "name": "stdout",
     "output_type": "stream",
     "text": [
      "[array([1.41421356, 2.        ]), array([0.41231056, 2.        ]), array([1.08166538, 2.        ]), array([0.67082039, 2.        ]), array([1.06301458, 2.        ]), array([1.70880075, 2.        ]), array([0.53851648, 2.        ]), array([1.33416641, 2.        ]), array([0.85440037, 2.        ]), array([1.48660687, 2.        ])]\n"
     ]
    }
   ],
   "source": [
    "def kNN_predict(np_data, petal_length, petal_width):\n",
    "    \n",
    "    sub_data = np_data[:, 2:4]\n",
    "    target_np = np.array([petal_length, petal_width])\n",
    "\n",
    "#     print(sub_data.shape)\n",
    "#     print(target_np.shape)\n",
    "    \n",
    "    dist = np.sqrt(np.sum(((target_np - sub_data) ** 2), axis = 1))\n",
    "    class_np = np_data[:, -1]\n",
    "#     print(class_np[:3], len(class_np))\n",
    "#     print(len(dist))\n",
    "    \n",
    "    dist_1 = np.expand_dims(dist, 1)\n",
    "    class_np_1 = np.expand_dims(class_np, 1)\n",
    "#     print(dist_1.shape, class_np_1.shape)\n",
    "    r = np.concatenate((dist_1, class_np_1), axis = 1)\n",
    "    r = sorted(r, key = lambda x : x[1], reverse = True)\n",
    "#     print(r.shape)\n",
    "    return r[:10]\n",
    "print(kNN_predict(np_data, 5.0, 1.5)) # 거리가 가장 가까운 5개 샘플기록 반환"
   ]
  },
  {
   "cell_type": "code",
   "execution_count": null,
   "id": "e099b93e",
   "metadata": {},
   "outputs": [],
   "source": []
  }
 ],
 "metadata": {
  "kernelspec": {
   "display_name": "Python 3 (ipykernel)",
   "language": "python",
   "name": "python3"
  },
  "language_info": {
   "codemirror_mode": {
    "name": "ipython",
    "version": 3
   },
   "file_extension": ".py",
   "mimetype": "text/x-python",
   "name": "python",
   "nbconvert_exporter": "python",
   "pygments_lexer": "ipython3",
   "version": "3.11.1"
  }
 },
 "nbformat": 4,
 "nbformat_minor": 5
}
