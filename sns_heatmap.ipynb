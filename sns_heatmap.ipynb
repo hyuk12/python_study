{
 "cells": [
  {
   "cell_type": "code",
   "execution_count": 1,
   "id": "29857690",
   "metadata": {},
   "outputs": [],
   "source": [
    "import numpy as np\n",
    "import pandas as pd\n",
    "import seaborn as sns\n",
    "import matplotlib.pyplot as plt\n",
    "from matplotlib import font_manager, rc\n",
    "\n",
    "font_fname = 'D2Coding-Ver1.3.2-20180524-all.ttc'\n",
    "font_name = font_manager.FontProperties(fname=font_fname).get_name()\n",
    "rc('font', family=font_name)\n",
    "\n",
    "df = sns.load_dataset('glue')"
   ]
  },
  {
   "cell_type": "code",
   "execution_count": 2,
   "id": "92884b2d",
   "metadata": {},
   "outputs": [
    {
     "name": "stdout",
     "output_type": "stream",
     "text": [
      "          Model  Year      Encoder  Task  Score\n",
      "0         ERNIE  2019  Transformer  CoLA   75.5\n",
      "1            T5  2019  Transformer  CoLA   71.6\n",
      "2       RoBERTa  2019  Transformer  CoLA   67.8\n",
      "3          BERT  2018  Transformer  CoLA   60.5\n",
      "4   BiLSTM+ELMo  2018         LSTM  CoLA   32.1\n",
      "..          ...   ...          ...   ...    ...\n",
      "59         BERT  2018  Transformer   RTE   70.1\n",
      "60  BiLSTM+ELMo  2018         LSTM   RTE   57.4\n",
      "61  BiLSTM+CoVe  2017         LSTM   RTE   52.7\n",
      "62  BiLSTM+Attn  2017         LSTM   RTE   58.4\n",
      "63       BiLSTM  2017         LSTM   RTE   57.4\n",
      "\n",
      "[64 rows x 5 columns]\n"
     ]
    }
   ],
   "source": [
    "print(df)"
   ]
  },
  {
   "cell_type": "code",
   "execution_count": 3,
   "id": "1fb88133",
   "metadata": {},
   "outputs": [
    {
     "name": "stdout",
     "output_type": "stream",
     "text": [
      "Task         CoLA  MNLI  MRPC  QNLI   QQP   RTE  SST-2  STS-B\n",
      "Model                                                        \n",
      "BERT         60.5  86.7  89.3  92.7  72.1  70.1   94.9   87.6\n",
      "BiLSTM       11.6  65.6  81.8  74.6  62.5  57.4   82.8   70.3\n",
      "BiLSTM+Attn  18.6  67.6  83.9  74.3  60.1  58.4   83.0   72.8\n",
      "BiLSTM+CoVe  18.5  65.4  78.7  70.8  60.6  52.7   81.9   64.4\n",
      "BiLSTM+ELMo  32.1  67.2  84.7  75.5  61.1  57.4   89.3   70.3\n",
      "ERNIE        75.5  92.3  93.9  97.3  75.2  92.6   97.8   93.0\n",
      "RoBERTa      67.8  90.8  92.3  95.4  74.3  88.2   96.7   92.2\n",
      "T5           71.6  92.2  92.8  96.9  75.1  92.8   97.5   93.1\n"
     ]
    },
    {
     "name": "stderr",
     "output_type": "stream",
     "text": [
      "/var/folders/br/8bbtv7t175s4k3b2shs9n46m0000gn/T/ipykernel_7818/3227465952.py:1: FutureWarning: In a future version of pandas all arguments of DataFrame.pivot will be keyword-only.\n",
      "  print(df.pivot(\"Model\", 'Task', 'Score'))\n"
     ]
    }
   ],
   "source": [
    "print(df.pivot(\"Model\", 'Task', 'Score'))"
   ]
  },
  {
   "cell_type": "code",
   "execution_count": null,
   "id": "acb569b7",
   "metadata": {},
   "outputs": [],
   "source": []
  }
 ],
 "metadata": {
  "kernelspec": {
   "display_name": "Python 3 (ipykernel)",
   "language": "python",
   "name": "python3"
  },
  "language_info": {
   "codemirror_mode": {
    "name": "ipython",
    "version": 3
   },
   "file_extension": ".py",
   "mimetype": "text/x-python",
   "name": "python",
   "nbconvert_exporter": "python",
   "pygments_lexer": "ipython3",
   "version": "3.11.1"
  }
 },
 "nbformat": 4,
 "nbformat_minor": 5
}
