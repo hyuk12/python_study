{
 "cells": [
  {
   "cell_type": "markdown",
   "id": "62a93585",
   "metadata": {},
   "source": [
    "# 데이터 타입\n",
    "\n",
    "- int, float, bool, str\n",
    "- list, tuple, set, dictionary"
   ]
  },
  {
   "cell_type": "markdown",
   "id": "c329d9a2",
   "metadata": {},
   "source": [
    "각각의 데이터 타입은 클래스 형으로 함수를 들고있다.\n",
    "- int()\n",
    "- float()\n",
    "- bool()\n",
    "- str()\n",
    "- list()\n",
    "- tuple()\n",
    "- set()\n",
    "- dict()"
   ]
  },
  {
   "cell_type": "markdown",
   "id": "785c5ef2",
   "metadata": {},
   "source": [
    "위의 함수들은 그 클래스자료형으로 형변환 시켜준다 하지만 \n",
    "가능하지 않은 형변환일 경우 try except를 이용해서 예외처리 해준다.\n",
    "```python\n",
    "try: \n",
    "    a = [20.5, '10.5']\n",
    "    for i in a:\n",
    "        int(i)\n",
    "except:\n",
    "    print(i)\n",
    "```"
   ]
  },
  {
   "cell_type": "markdown",
   "id": "bacb521c",
   "metadata": {},
   "source": [
    "일반적으로 파이썬은 자료형을 변수앞에 명시하지 않는다. <br>\n",
    "하지만 각각의 변수의 자료형을 테스트 하고싶고 추적을 하고싶을때 쓰는 방법은 다음과 같다\n",
    "```python\n",
    "a = [20.5, '10.5']\n",
    "if isinstance(a, type([])):\n",
    "    print('datatype: list')\n",
    "elif isinstance(a, type('')):\n",
    "    print('datatype: str')\n",
    "\n",
    "```"
   ]
  },
  {
   "cell_type": "markdown",
   "id": "ee6167d9",
   "metadata": {},
   "source": [
    "# 조건문\n",
    "\n",
    "- if: - else:\n",
    "- if: - elif: - else:\n",
    "\n",
    "```python\n",
    "if []:\n",
    "    print('True')\n",
    "else: \n",
    "    print('False') # 0, 비어있는 문자열 / list\n",
    "```"
   ]
  },
  {
   "cell_type": "markdown",
   "id": "8100afa0",
   "metadata": {},
   "source": [
    "# 반복문\n",
    "\n",
    "- for - range() / list, enumerate() : list등을 감싸 인덱스와 값을 튜플형식으로 반환한다.\n",
    "\n",
    "\n",
    "for 문 예제\n",
    "\n",
    "```python\n",
    "lista = list('abcde')\n",
    "for i, c in enumerate(lista):\n",
    "    print(i, c)\n",
    "```\n",
    "\n",
    "- while - 조건\n",
    "\n",
    "while 문 예제\n",
    "\n",
    "```python\n",
    "while len(lista) > 1 :\n",
    "    lista.remove(lista[-1])\n",
    "print(lista)\n",
    "```"
   ]
  },
  {
   "cell_type": "markdown",
   "id": "5b1340aa",
   "metadata": {},
   "source": [
    "# 함수 와 클래스\n",
    "\n",
    "- 함수를 쓰는이유는 복잡한 행동을 자주 쓰일때 함수로 만들어서 쓴다.\n",
    "\n",
    "- 함수가 방대해져서 이것을 감싸 안은 것이 클래스이다.\n",
    "- 그리고 함수가 클래스안으로 들어가는 순간 메소드라고 불린다. \n",
    "- 함수가 클래스안에 들어가게되면 self가 무조건 들어가게된다.\n",
    "\n",
    "```python\n",
    "def myfunction1(n):\n",
    "    print('myfunction1', n)\n",
    "          \n",
    "class myclass:\n",
    "    def mymethod1(self):\n",
    "        print('mymethod1')\n",
    "    \n",
    "class myclass2(myclass):\n",
    "    def __init__(self):\n",
    "        pass\n",
    "    def __del__(self):\n",
    "        print('destructor')\n",
    "    def __str__(self):\n",
    "        return 'myclass2'\n",
    "\n",
    "```\n",
    "\n",
    "위의 __init__은 생성자이고, __del__ 는 소멸자이고, __str__은 자바의 toString과 같다.\n"
   ]
  },
  {
   "cell_type": "code",
   "execution_count": null,
   "id": "733d90a0",
   "metadata": {},
   "outputs": [],
   "source": []
  }
 ],
 "metadata": {
  "kernelspec": {
   "display_name": "Python 3 (ipykernel)",
   "language": "python",
   "name": "python3"
  },
  "language_info": {
   "codemirror_mode": {
    "name": "ipython",
    "version": 3
   },
   "file_extension": ".py",
   "mimetype": "text/x-python",
   "name": "python",
   "nbconvert_exporter": "python",
   "pygments_lexer": "ipython3",
   "version": "3.11.1"
  }
 },
 "nbformat": 4,
 "nbformat_minor": 5
}
