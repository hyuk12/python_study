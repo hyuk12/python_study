{
 "cells": [
  {
   "cell_type": "markdown",
   "id": "f2c68046",
   "metadata": {},
   "source": [
    "# Class"
   ]
  },
  {
   "cell_type": "code",
   "execution_count": 6,
   "id": "86b52bf2",
   "metadata": {},
   "outputs": [
    {
     "name": "stdout",
     "output_type": "stream",
     "text": [
      "<class '__main__.myclass'>\n"
     ]
    }
   ],
   "source": [
    "class myclass:\n",
    "    myvar1 = 10\n",
    "    myvar2 = 'abc'\n",
    "    def __init__(self,a = 0, b = 'aaa'):\n",
    "        self.myvar1 = a\n",
    "        self.myvar2 = b\n",
    "        \n",
    "    def mymethod1(self,n):\n",
    "        print(self.myvar1, self.myvar2)\n",
    "        \n",
    "    def __str__(self):\n",
    "        return 'myclass: {} ,{}'.format(self.myvar1, self.myvar2)\n",
    "        \n",
    "a = myclass(100, 'def')\n",
    "print(type(a))"
   ]
  },
  {
   "cell_type": "code",
   "execution_count": 16,
   "id": "5f063f81",
   "metadata": {},
   "outputs": [
    {
     "name": "stdout",
     "output_type": "stream",
     "text": [
      "100 def\n",
      "100 ,def\n"
     ]
    }
   ],
   "source": [
    "a.mymethod1()\n",
    "print(a)"
   ]
  },
  {
   "cell_type": "code",
   "execution_count": 7,
   "id": "35169887",
   "metadata": {},
   "outputs": [
    {
     "name": "stdout",
     "output_type": "stream",
     "text": [
      "0 aaa\n"
     ]
    }
   ],
   "source": [
    "class myclass2(myclass):\n",
    "    pass\n",
    "b = myclass2()\n",
    "b.mymethod1(10)"
   ]
  },
  {
   "cell_type": "code",
   "execution_count": null,
   "id": "0cd0e076",
   "metadata": {},
   "outputs": [],
   "source": []
  }
 ],
 "metadata": {
  "kernelspec": {
   "display_name": "Python 3 (ipykernel)",
   "language": "python",
   "name": "python3"
  },
  "language_info": {
   "codemirror_mode": {
    "name": "ipython",
    "version": 3
   },
   "file_extension": ".py",
   "mimetype": "text/x-python",
   "name": "python",
   "nbconvert_exporter": "python",
   "pygments_lexer": "ipython3",
   "version": "3.11.1"
  }
 },
 "nbformat": 4,
 "nbformat_minor": 5
}
