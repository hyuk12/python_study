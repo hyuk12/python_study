{
 "cells": [
  {
   "cell_type": "markdown",
   "id": "1c1c03cc",
   "metadata": {},
   "source": [
    "# UCI 전복\n",
    "\n",
    "# https://archive.ics.uci.edu/ml/datasets/Abalone\n",
    "\n",
    "# data url: https://archive.ics.uci.edu/ml/machine-learning-databases/abalone/abalone.data"
   ]
  },
  {
   "cell_type": "code",
   "execution_count": 1,
   "id": "34a1a3f4",
   "metadata": {},
   "outputs": [],
   "source": [
    "import requests\n",
    "import numpy as np\n"
   ]
  },
  {
   "cell_type": "code",
   "execution_count": null,
   "id": "dc5e7e41",
   "metadata": {},
   "outputs": [],
   "source": [
    "def fetch_uci_data(url):\n",
    "    d = requests.get(url)\n",
    "    t = []\n",
    "    for line in d.text.split('\\n'):\n",
    "        if len(line) != 0:\n",
    "            t.append(line.split()',')\n",
    "    return np.array(t)\n",
    "\n",
    "def get_corr():\n",
    "    "
   ]
  },
  {
   "cell_type": "code",
   "execution_count": null,
   "id": "4525905e",
   "metadata": {},
   "outputs": [],
   "source": [
    "url('https://archive.ics.uci.edu/ml/machine-learning-databases/abalone/abalone.data')\n",
    "\n",
    "if __name__ == '__main__':\n",
    "    np_data = fetch_uci_data(url)"
   ]
  },
  {
   "cell_type": "code",
   "execution_count": null,
   "id": "43073d65",
   "metadata": {},
   "outputs": [],
   "source": [
    "pip install sqlite3"
   ]
  },
  {
   "cell_type": "code",
   "execution_count": null,
   "id": "fe1db411",
   "metadata": {},
   "outputs": [],
   "source": [
    "import sqlite3\n",
    "\n",
    "con = sqlite3.connect(\"test.db\")\n",
    "cur = con.cursor()\n",
    "cur.execute(\"CREATE TABLE abalone(length real, diameter real)\")\n",
    "cur.execute(\"INSERT INTO abalone(length, diameter) values(10.0, 20.0)\")\n",
    "\n",
    "con.commit()\n",
    "con.close()"
   ]
  },
  {
   "cell_type": "code",
   "execution_count": null,
   "id": "940dc1d7",
   "metadata": {},
   "outputs": [],
   "source": [
    "con = sqlite3.connect(\"test.db\")\n",
    "cur = con.cursor()\n",
    "res = cur.execute(\"SELECT * FROM abalone\")\n",
    "print(res.fetchal())\n",
    "con.close()"
   ]
  },
  {
   "cell_type": "code",
   "execution_count": null,
   "id": "03bac976",
   "metadata": {},
   "outputs": [],
   "source": []
  }
 ],
 "metadata": {
  "kernelspec": {
   "display_name": "Python 3 (ipykernel)",
   "language": "python",
   "name": "python3"
  },
  "language_info": {
   "codemirror_mode": {
    "name": "ipython",
    "version": 3
   },
   "file_extension": ".py",
   "mimetype": "text/x-python",
   "name": "python",
   "nbconvert_exporter": "python",
   "pygments_lexer": "ipython3",
   "version": "3.11.1"
  }
 },
 "nbformat": 4,
 "nbformat_minor": 5
}
