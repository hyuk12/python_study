{
 "cells": [
  {
   "cell_type": "markdown",
   "id": "fba81e5d",
   "metadata": {},
   "source": [
    "# 데이터 타입\n",
    "\n",
    "- int, float, bool, str\n",
    "- list, tuple, set, dictionary"
   ]
  },
  {
   "cell_type": "markdown",
   "id": "e81ebf48",
   "metadata": {},
   "source": [
    "각각의 데이터 타입은 클래스 형으로 함수를 들고있다.\n",
    "- int()\n",
    "- float()\n",
    "- bool()\n",
    "- str()\n",
    "- list()\n",
    "- tuple()\n",
    "- set()\n",
    "- dict()"
   ]
  },
  {
   "cell_type": "markdown",
   "id": "f372530f",
   "metadata": {},
   "source": [
    "위의 함수들은 그 클래스자료형으로 형변환 시켜준다 하지만 \n",
    "가능하지 않은 형변환일 경우 try except를 이용해서 예외처리 해준다.\n",
    "```python\n",
    "try: \n",
    "    a = [20.5, '10.5']\n",
    "    for i in a:\n",
    "        int(i)\n",
    "except:\n",
    "    print(i)\n",
    "```"
   ]
  },
  {
   "cell_type": "markdown",
   "id": "3545ca61",
   "metadata": {},
   "source": [
    "일반적으로 파이썬은 자료형을 변수앞에 명시하지 않는다. <br>\n",
    "하지만 각각의 변수의 자료형을 테스트 하고싶고 추적을 하고싶을때 쓰는 방법은 다음과 같다\n",
    "```python\n",
    "a = [20.5, '10.5']\n",
    "if isinstance(a, type([])):\n",
    "    print('datatype: list')\n",
    "elif isinstance(a, type('')):\n",
    "    print('datatype: str')\n",
    "\n",
    "```"
   ]
  },
  {
   "cell_type": "markdown",
   "id": "89def89e",
   "metadata": {},
   "source": [
    "# 조건문\n",
    "\n",
    "- if: - else:\n",
    "- if: - elif: - else:\n",
    "\n",
    "```python\n",
    "if []:\n",
    "    print('True')\n",
    "else: \n",
    "    print('False') # 0, 비어있는 문자열 / list\n",
    "```"
   ]
  },
  {
   "cell_type": "markdown",
   "id": "27b32806",
   "metadata": {},
   "source": [
    "# 반복문\n",
    "\n",
    "- for - range() / list, enumerate() : list등을 감싸 인덱스와 값을 튜플형식으로 반환한다.\n",
    "\n",
    "\n",
    "for 문 예제\n",
    "\n",
    "```python\n",
    "lista = list('abcde')\n",
    "for i, c in enumerate(lista):\n",
    "    print(i, c)\n",
    "```\n",
    "\n",
    "- while - 조건\n",
    "\n",
    "while 문 예제\n",
    "\n",
    "```python\n",
    "while len(lista) > 1 :\n",
    "    lista.remove(lista[-1])\n",
    "print(lista)\n",
    "```"
   ]
  },
  {
   "cell_type": "code",
   "execution_count": null,
   "id": "04a4bf9f",
   "metadata": {},
   "outputs": [],
   "source": []
  }
 ],
 "metadata": {
  "kernelspec": {
   "display_name": "Python 3 (ipykernel)",
   "language": "python",
   "name": "python3"
  },
  "language_info": {
   "codemirror_mode": {
    "name": "ipython",
    "version": 3
   },
   "file_extension": ".py",
   "mimetype": "text/x-python",
   "name": "python",
   "nbconvert_exporter": "python",
   "pygments_lexer": "ipython3",
   "version": "3.11.1"
  }
 },
 "nbformat": 4,
 "nbformat_minor": 5
}
