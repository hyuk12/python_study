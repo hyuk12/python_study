{
 "cells": [
  {
   "cell_type": "markdown",
   "id": "49853cb9",
   "metadata": {},
   "source": [
    "# 상관도 분석:  UCI Repo Adult 데이터\n",
    "\n",
    "- age / capital gain 상관도\n",
    "- hours-per-week / capital gain 상관도"
   ]
  },
  {
   "cell_type": "code",
   "execution_count": 1,
   "id": "b7af96f1",
   "metadata": {},
   "outputs": [],
   "source": [
    "import math\n",
    "# 평균\n",
    "def mean(num_list):\n",
    "    \n",
    "    return sum(num_list)/ len(num_list)\n",
    "\n",
    "# 편차\n",
    "def dev(num_list):\n",
    "    m = mean(num_list)\n",
    "    return [x-m for x in num_list]\n",
    "\n",
    "# 분산\n",
    "def var(num_list):\n",
    "    n = len(num_list)\n",
    "    d = dev(num_list)\n",
    "    return sum([x * x for x in d])/(n - 1)\n",
    "\n",
    "# 표준편차\n",
    "def stdev(num_list):\n",
    "    return math.sqrt(var(num_list))\n",
    "\n",
    "# 공분산\n",
    "def covar(list_1, list_2):\n",
    "    n = len(list_1)\n",
    "    list_1_dev = dev(list_1)\n",
    "    list_2_dev = dev(list_2)\n",
    "    return sum(x * y for x, y in zip(list_1_dev, list_2_dev)) / (n - 1)\n",
    "\n",
    "# 상관도\n",
    "def corel(list_1, list_2):\n",
    "    return covar(list_1, list_2) / (stdev(list_1) * stdev(list_2))"
   ]
  },
  {
   "cell_type": "code",
   "execution_count": 80,
   "id": "b6c47c49",
   "metadata": {},
   "outputs": [],
   "source": [
    "import requests\n",
    "x = requests.get('https://archive.ics.uci.edu/ml/machine-learning-databases/adult/adult.data')"
   ]
  },
  {
   "cell_type": "code",
   "execution_count": 91,
   "id": "7df4ce35",
   "metadata": {},
   "outputs": [],
   "source": [
    "age_list = []\n",
    "capital_gain_list = []\n",
    "hours_per_week = []\n",
    "\n",
    "for i in x.text.split('\\n'):\n",
    "    \n",
    "    try:\n",
    "        t = i.split(',')\n",
    "        if len(t) < 5:\n",
    "            continue\n",
    "        age_list.append(t[0])\n",
    "        capital_gain_list.append(t[10].strip())\n",
    "        hours_per_week.append(t[12].strip()) \n",
    "    except:\n",
    "        pass"
   ]
  },
  {
   "cell_type": "code",
   "execution_count": 92,
   "id": "374e2467",
   "metadata": {},
   "outputs": [],
   "source": [
    "\n",
    "# for i in no_c_list:\n",
    "#     try:\n",
    "#        age_list.append(i[0].strip()) \n",
    "#        capital_gain_list.append(i[10].strip())\n",
    "#        hours_per_week.append(i[12].strip()) \n",
    "#     except:\n",
    "#         pass\n",
    "    "
   ]
  },
  {
   "cell_type": "code",
   "execution_count": 103,
   "id": "ecb0af10",
   "metadata": {},
   "outputs": [],
   "source": [
    "\n",
    "age_list = [int(i) for i in age_list]    \n",
    "capital_gain_list = [int(i) for i in capital_gain_list]  \n",
    "hours_per_week = [int(i) for i in hours_per_week]  "
   ]
  },
  {
   "cell_type": "code",
   "execution_count": 111,
   "id": "57441bac",
   "metadata": {},
   "outputs": [
    {
     "name": "stdout",
     "output_type": "stream",
     "text": [
      "나이와 capital gain 의 상관도: 0.077674498166006\n",
      "나이와 hours_per_week 의 상관도: 0.06875570750956339\n",
      "capital_gain_list와 hours_per_week 의 상관도: 0.07840861539012314\n"
     ]
    }
   ],
   "source": [
    "print('나이와 capital gain 의 상관도:', corel(age_list, capital_gain_list))\n",
    "print('나이와 hours_per_week 의 상관도:', corel(age_list, hours_per_week))\n",
    "print('capital_gain_list와 hours_per_week 의 상관도:', corel(capital_gain_list, hours_per_week))"
   ]
  }
 ],
 "metadata": {
  "kernelspec": {
   "display_name": "Python 3 (ipykernel)",
   "language": "python",
   "name": "python3"
  },
  "language_info": {
   "codemirror_mode": {
    "name": "ipython",
    "version": 3
   },
   "file_extension": ".py",
   "mimetype": "text/x-python",
   "name": "python",
   "nbconvert_exporter": "python",
   "pygments_lexer": "ipython3",
   "version": "3.11.1"
  }
 },
 "nbformat": 4,
 "nbformat_minor": 5
}
