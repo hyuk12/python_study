{
 "cells": [
  {
   "cell_type": "markdown",
   "id": "da1a6e65",
   "metadata": {},
   "source": [
    "# 데이터 타입\n",
    "\n",
    "- int, float, bool, str\n",
    "- list, tuple, set, dictionary"
   ]
  },
  {
   "cell_type": "markdown",
   "id": "c0903cdb",
   "metadata": {},
   "source": [
    "각각의 데이터 타입은 클래스 형으로 함수를 들고있다.\n",
    "- int()\n",
    "- float()\n",
    "- bool()\n",
    "- str()\n",
    "- list()\n",
    "- tuple()\n",
    "- set()\n",
    "- dict()"
   ]
  },
  {
   "cell_type": "markdown",
   "id": "6a4d2bb5",
   "metadata": {},
   "source": [
    "위의 함수들은 그 클래스자료형으로 형변환 시켜준다 하지만 \n",
    "가능하지 않은 형변환일 경우 try except를 이용해서 예외처리 해준다.\n",
    "```python\n",
    "try: \n",
    "    a = [20.5, '10.5']\n",
    "    for i in a:\n",
    "        int(i)\n",
    "except:\n",
    "    print(i)\n",
    "```"
   ]
  },
  {
   "cell_type": "markdown",
   "id": "922e1a46",
   "metadata": {},
   "source": [
    "일반적으로 파이썬은 자료형을 변수앞에 명시하지 않는다. <br>\n",
    "하지만 각각의 변수의 자료형을 테스트 하고싶고 추적을 하고싶을때 쓰는 방법은 다음과 같다\n",
    "```python\n",
    "a = [20.5, '10.5']\n",
    "if isinstance(a, type([])):\n",
    "    print('datatype: list')\n",
    "elif isinstance(a, type('')):\n",
    "    print('datatype: str')\n",
    "\n",
    "```"
   ]
  }
 ],
 "metadata": {
  "kernelspec": {
   "display_name": "Python 3 (ipykernel)",
   "language": "python",
   "name": "python3"
  },
  "language_info": {
   "codemirror_mode": {
    "name": "ipython",
    "version": 3
   },
   "file_extension": ".py",
   "mimetype": "text/x-python",
   "name": "python",
   "nbconvert_exporter": "python",
   "pygments_lexer": "ipython3",
   "version": "3.11.1"
  }
 },
 "nbformat": 4,
 "nbformat_minor": 5
}
