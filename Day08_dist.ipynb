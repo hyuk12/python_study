{
 "cells": [
  {
   "cell_type": "code",
   "execution_count": 12,
   "id": "ea2ca840",
   "metadata": {},
   "outputs": [
    {
     "name": "stdout",
     "output_type": "stream",
     "text": [
      "15.132745950421556\n",
      "15.132745950421556\n",
      "15.132745950421556\n"
     ]
    }
   ],
   "source": [
    "import numpy as np\n",
    "import math\n",
    "x1 = 3 \n",
    "y1 = 10\n",
    "\n",
    "x2 = 5\n",
    "y2 = 25\n",
    "\n",
    "\n",
    "a = math.sqrt((x2 - x1) ** 2 + (y2-y1) ** 2)\n",
    "print(a)\n",
    "def dist(p1, p2):\n",
    "    return math.sqrt((p2[0] - p1[0]) ** 2 + (p2[1] - p1[1]) ** 2)\n",
    "\n",
    "def dist_np(p1, p2):\n",
    "   \n",
    "    return math.sqrt(sum((p2 - p1) ** 2))\n",
    "\n",
    "b = dist([x1, y1], [x2, y2])\n",
    "print(b)\n",
    "\n",
    "c = dist_np(np.array([x1, y1]), np.array([x2, y2]))\n",
    "print(c)"
   ]
  },
  {
   "cell_type": "code",
   "execution_count": 29,
   "id": "2c5641c5",
   "metadata": {},
   "outputs": [],
   "source": [
    "data_csv = []\n",
    "with open('전국자동차정비업체위도경도.csv') as file:\n",
    "    for line in file:\n",
    "        data_csv.append(line.split(','))"
   ]
  },
  {
   "cell_type": "code",
   "execution_count": 38,
   "id": "c32165dd",
   "metadata": {},
   "outputs": [
    {
     "ename": "AttributeError",
     "evalue": "'float' object has no attribute 'strip'",
     "output_type": "error",
     "traceback": [
      "\u001b[0;31m---------------------------------------------------------------------------\u001b[0m",
      "\u001b[0;31mAttributeError\u001b[0m                            Traceback (most recent call last)",
      "Cell \u001b[0;32mIn[38], line 3\u001b[0m\n\u001b[1;32m      1\u001b[0m \u001b[38;5;28;01mfor\u001b[39;00m n \u001b[38;5;129;01min\u001b[39;00m data_csv[\u001b[38;5;241m1\u001b[39m:]:\n\u001b[1;32m      2\u001b[0m     \u001b[38;5;28;01mfor\u001b[39;00m i ,e \u001b[38;5;129;01min\u001b[39;00m \u001b[38;5;28menumerate\u001b[39m(n):\n\u001b[0;32m----> 3\u001b[0m         n[i] \u001b[38;5;241m=\u001b[39m \u001b[38;5;28mfloat\u001b[39m(\u001b[43me\u001b[49m\u001b[38;5;241;43m.\u001b[39;49m\u001b[43mstrip\u001b[49m(\u001b[38;5;124m'\u001b[39m\u001b[38;5;130;01m\\n\u001b[39;00m\u001b[38;5;124m'\u001b[39m))\n\u001b[1;32m      4\u001b[0m         \u001b[38;5;28mprint\u001b[39m(\u001b[38;5;28mtype\u001b[39m(n[i]))\n",
      "\u001b[0;31mAttributeError\u001b[0m: 'float' object has no attribute 'strip'"
     ]
    }
   ],
   "source": [
    "for n in data_csv[1:]:\n",
    "    for i ,e in enumerate(n):\n",
    "        n[i] = float(e.strip('\\n'))\n",
    "        \n",
    "  "
   ]
  },
  {
   "cell_type": "code",
   "execution_count": 42,
   "id": "520cffff",
   "metadata": {},
   "outputs": [],
   "source": [
    "wi_gyung_list = []\n",
    "\n",
    "for i in data_csv[1:]:\n",
    "    wi_gyung_list.append(i)\n",
    "        "
   ]
  },
  {
   "cell_type": "code",
   "execution_count": null,
   "id": "ba03b955",
   "metadata": {},
   "outputs": [],
   "source": []
  },
  {
   "cell_type": "code",
   "execution_count": 44,
   "id": "5eb11792",
   "metadata": {},
   "outputs": [
    {
     "name": "stdout",
     "output_type": "stream",
     "text": [
      "1.3544411062483257\n"
     ]
    }
   ],
   "source": [
    "print(dist_np(np.array(wi_gyung_list[0]), np.array(wi_gyung_list[2])))"
   ]
  },
  {
   "cell_type": "code",
   "execution_count": 40,
   "id": "d30adb64",
   "metadata": {},
   "outputs": [],
   "source": []
  },
  {
   "cell_type": "code",
   "execution_count": null,
   "id": "75c974f0",
   "metadata": {},
   "outputs": [],
   "source": []
  }
 ],
 "metadata": {
  "kernelspec": {
   "display_name": "Python 3 (ipykernel)",
   "language": "python",
   "name": "python3"
  },
  "language_info": {
   "codemirror_mode": {
    "name": "ipython",
    "version": 3
   },
   "file_extension": ".py",
   "mimetype": "text/x-python",
   "name": "python",
   "nbconvert_exporter": "python",
   "pygments_lexer": "ipython3",
   "version": "3.11.1"
  }
 },
 "nbformat": 4,
 "nbformat_minor": 5
}
