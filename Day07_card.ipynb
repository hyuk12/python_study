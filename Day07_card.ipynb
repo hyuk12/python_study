{
 "cells": [
  {
   "cell_type": "markdown",
   "id": "37080c31",
   "metadata": {},
   "source": [
    "# 카드게임 만들기\n"
   ]
  },
  {
   "cell_type": "code",
   "execution_count": 1,
   "id": "8bf5280f",
   "metadata": {},
   "outputs": [],
   "source": [
    "import random as rd"
   ]
  },
  {
   "cell_type": "code",
   "execution_count": 4,
   "id": "2b90b27a",
   "metadata": {},
   "outputs": [
    {
     "name": "stdout",
     "output_type": "stream",
     "text": [
      "[4, 6, 1, 2, 5, 3]\n"
     ]
    }
   ],
   "source": [
    "lista = [1,2,3,4,5,6]\n",
    "rd.shuffle(lista)\n",
    "print(lista)"
   ]
  },
  {
   "cell_type": "code",
   "execution_count": 20,
   "id": "7f64bff2",
   "metadata": {},
   "outputs": [],
   "source": [
    "suits = ['clover', 'heart', 'diamond', 'spade']\n",
    "rank = ['Ace'] + [str(x) for x in range(2,11)] + ['Jack', 'Queen', 'King']"
   ]
  },
  {
   "cell_type": "code",
   "execution_count": 62,
   "id": "27c6b9b0",
   "metadata": {},
   "outputs": [
    {
     "name": "stdout",
     "output_type": "stream",
     "text": [
      "{'clover-Ace': 1, 'clover-2': 2, 'clover-3': 3, 'clover-4': 4, 'clover-5': 5, 'clover-6': 6, 'clover-7': 7, 'clover-8': 8, 'clover-9': 9, 'clover-10': 10, 'clover-Jack': 10, 'clover-Queen': 10, 'clover-King': 10, 'heart-Ace': 1, 'heart-2': 2, 'heart-3': 3, 'heart-4': 4, 'heart-5': 5, 'heart-6': 6, 'heart-7': 7, 'heart-8': 8, 'heart-9': 9, 'heart-10': 10, 'heart-Jack': 10, 'heart-Queen': 10, 'heart-King': 10, 'diamond-Ace': 1, 'diamond-2': 2, 'diamond-3': 3, 'diamond-4': 4, 'diamond-5': 5, 'diamond-6': 6, 'diamond-7': 7, 'diamond-8': 8, 'diamond-9': 9, 'diamond-10': 10, 'diamond-Jack': 10, 'diamond-Queen': 10, 'diamond-King': 10, 'spade-Ace': 1, 'spade-2': 2, 'spade-3': 3, 'spade-4': 4, 'spade-5': 5, 'spade-6': 6, 'spade-7': 7, 'spade-8': 8, 'spade-9': 9, 'spade-10': 10, 'spade-Jack': 10, 'spade-Queen': 10, 'spade-King': 10}\n"
     ]
    }
   ],
   "source": [
    "deck = []\n",
    "for k in suits:\n",
    "    for i in rank:\n",
    "        deck.append(k + '-' + i)\n",
    "\n",
    "score_list = [i + 1 for i in range(10)] + [10] * 3 \n",
    "\n",
    "score_list = score_list * 4\n",
    "# print(score_list)\n",
    "\n",
    "score_dict = dict(zip(deck, score_list))\n",
    "print(score_dict)\n",
    "\n",
    "def score_hand(hand):\n",
    "    score = 0\n",
    "    for card in hand:\n",
    "        score = score + score_dict[card]\n",
    "    return score"
   ]
  },
  {
   "cell_type": "code",
   "execution_count": 63,
   "id": "1b97c723",
   "metadata": {},
   "outputs": [
    {
     "name": "stdout",
     "output_type": "stream",
     "text": [
      "['spade-Ace', 'clover-7', 'heart-Queen', 'clover-8', 'spade-9', 'diamond-King', 'spade-5', 'spade-6', 'heart-5', 'heart-3', 'heart-2', 'clover-5', 'heart-8', 'heart-Jack', 'spade-3', 'diamond-Ace', 'diamond-Queen', 'diamond-8', 'diamond-10', 'heart-6', 'heart-King', 'diamond-4', 'diamond-2', 'heart-7', 'spade-Queen', 'clover-3', 'heart-9', 'diamond-9', 'clover-6', 'heart-4', 'clover-King', 'clover-9', 'heart-10', 'clover-10', 'spade-7', 'clover-2', 'diamond-6', 'spade-Jack', 'spade-2', 'diamond-Jack', 'spade-10', 'heart-Ace', 'spade-King', 'clover-Queen', 'diamond-5', 'clover-Ace', 'spade-4', 'diamond-3', 'clover-Jack', 'clover-4', 'diamond-7', 'spade-8']\n"
     ]
    }
   ],
   "source": [
    "rd.shuffle(deck)\n",
    "print(deck)"
   ]
  },
  {
   "cell_type": "code",
   "execution_count": 66,
   "id": "2eaec0b4",
   "metadata": {},
   "outputs": [
    {
     "name": "stdout",
     "output_type": "stream",
     "text": [
      "Game Start\n",
      "\n",
      "Dealer Hands\n",
      "['spade-7', 'diamond-Ace'] 8\n",
      "\n",
      "\n",
      "Player Hands\n",
      "['spade-Ace', 'heart-Queen'] 11\n",
      "Deal(1) or Stop(0):1\n",
      "['spade-Ace', 'heart-Queen', 'clover-4'] 15\n",
      "내가이겼다 딜러야\n"
     ]
    }
   ],
   "source": [
    "print('Game Start')\n",
    "\n",
    "rd.shuffle(deck)\n",
    "\n",
    "print('\\nDealer Hands')\n",
    "dealer_hand = [deck.pop() for _ in range(2)]\n",
    "print(dealer_hand, score_hand(dealer_hand))\n",
    "\n",
    "print('\\n\\nPlayer Hands')\n",
    "player_hand = [deck.pop() for _ in range(2)]\n",
    "print(player_hand, score_hand(player_hand))\n",
    "    \n",
    "if score_hand(player_hand) < 21:\n",
    "    ans = int(input('Deal(1) or Stop(0):'))\n",
    "    \n",
    "    if ans == 1:\n",
    "        player_hand.append(deck.pop())\n",
    "        score_hand(player_hand)\n",
    "        print(player_hand, score_hand(player_hand))\n",
    "    elif ans == 0:\n",
    "        print(player_hand, score_hand(player_hand))\n",
    "    else:\n",
    "        print('올바른 값 입력해라 인간!')\n",
    "        \n",
    "# 승부표시\n",
    "if score_hand(player_hand) < 21 and score_hand(dealer_hand) < 21:\n",
    "    \n",
    "    if score_hand(player_hand) == 21 and score_hand(dealer_hand) == 21:\n",
    "        print('아쉽군 비겼어')\n",
    "    \n",
    "    elif score_hand(player_hand) > score_hand(dealer_hand):\n",
    "        print('내가이겼다 딜러야')\n",
    "    \n",
    "    elif score_hand(dealer_hand) > score_hand(player_hand):\n",
    "        print('내가이겼다 플레이어야')\n",
    "        \n",
    "elif score_hand(player_hand) > 21 and score_hand(dealer_hand) > 21:\n",
    "    print('둘다 점수가 초과하여 비겼습니다')\n",
    "\n",
    "elif score_hand(player_hand) > 21 and score_hand(dealer_hand) < 21:\n",
    "    print('플레이어가 졌습니다.') \n",
    "\n",
    "else:\n",
    "    print('플레이어가 이겼습니다')"
   ]
  },
  {
   "cell_type": "code",
   "execution_count": null,
   "id": "1961ecff",
   "metadata": {},
   "outputs": [],
   "source": []
  }
 ],
 "metadata": {
  "kernelspec": {
   "display_name": "Python 3 (ipykernel)",
   "language": "python",
   "name": "python3"
  },
  "language_info": {
   "codemirror_mode": {
    "name": "ipython",
    "version": 3
   },
   "file_extension": ".py",
   "mimetype": "text/x-python",
   "name": "python",
   "nbconvert_exporter": "python",
   "pygments_lexer": "ipython3",
   "version": "3.11.1"
  }
 },
 "nbformat": 4,
 "nbformat_minor": 5
}
