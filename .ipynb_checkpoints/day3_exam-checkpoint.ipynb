{
 "cells": [
  {
   "cell_type": "markdown",
   "id": "b54ff227",
   "metadata": {},
   "source": [
    "# 전국 건강증진센터\n",
    "\n",
    "- 센터 갯수\n",
    "- 의사가 한명도 없는 센터의 수\n",
    "- 종사 의사 명수 (전체 합)"
   ]
  },
  {
   "cell_type": "code",
   "execution_count": 54,
   "id": "1bc0f5d9",
   "metadata": {},
   "outputs": [],
   "source": [
    "data_list = []\n",
    "with open('%EC%A0%84%EA%B5%AD%EA%B1%B4%EA%B0%95%EC%A6%9D%EC%A7%84%EC%84%BC%ED%84%B0%ED%91%9C%EC%A4%80%EB%8D%B0%EC%9D%B4%ED%84%B0.csv', encoding = 'cp949') as file:\n",
    "    for line in file:\n",
    "        data_list.append(line.split(','))\n",
    "       "
   ]
  },
  {
   "cell_type": "code",
   "execution_count": 65,
   "id": "6d5bd1ba",
   "metadata": {},
   "outputs": [
    {
     "name": "stdout",
     "output_type": "stream",
     "text": [
      "270\n",
      "총 센터의 수:  292\n",
      "152\n",
      "의사가 없는 센터의수:  167\n",
      "total doctor count:  156\n"
     ]
    }
   ],
   "source": [
    "list = []\n",
    "list2 = []\n",
    "center_list = []\n",
    "center_list2 = []\n",
    "for i in data_list[1:]:\n",
    "    list.append(i[0])\n",
    "    \n",
    "    if int(i[-13]) == 0:\n",
    "        center_list.append(i[0])\n",
    "        \n",
    "    else:\n",
    "        center_list2.append(int(i[-13])) \n",
    "        \n",
    "        \n",
    "\n",
    "\n",
    "print(len(set(list))) # 센터갯수(중복제거)\n",
    "print('총 센터의 수: ', len(list))# 노제거\n",
    "print(len(set(center_list))) # 의사가 한명도 없는 센터\n",
    "print('의사가 없는 센터의수: ', len(center_list))\n",
    "print('total doctor count: ', sum(center_list2)) # 종사하는 의사 명수\n",
    "   \n"
   ]
  },
  {
   "cell_type": "code",
   "execution_count": null,
   "id": "cc03d89a",
   "metadata": {},
   "outputs": [],
   "source": [
    "\n",
    "\n"
   ]
  },
  {
   "cell_type": "code",
   "execution_count": null,
   "id": "ace8ef51",
   "metadata": {},
   "outputs": [],
   "source": []
  }
 ],
 "metadata": {
  "kernelspec": {
   "display_name": "Python 3 (ipykernel)",
   "language": "python",
   "name": "python3"
  },
  "language_info": {
   "codemirror_mode": {
    "name": "ipython",
    "version": 3
   },
   "file_extension": ".py",
   "mimetype": "text/x-python",
   "name": "python",
   "nbconvert_exporter": "python",
   "pygments_lexer": "ipython3",
   "version": "3.11.1"
  }
 },
 "nbformat": 4,
 "nbformat_minor": 5
}
