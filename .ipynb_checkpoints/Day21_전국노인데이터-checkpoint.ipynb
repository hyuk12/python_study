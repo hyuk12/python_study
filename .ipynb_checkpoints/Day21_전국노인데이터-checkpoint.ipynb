{
 "cells": [
  {
   "cell_type": "code",
   "execution_count": 54,
   "id": "2dd98a42",
   "metadata": {},
   "outputs": [],
   "source": [
    "import numpy as np\n",
    "import pandas as pd\n",
    "\n",
    "url = 'https://www.data.go.kr/download/15034532/standard.do?dataType=csv'\n",
    "raw_df = pd.read_csv(url, encoding='cp949')\n",
    "column_select = ['시도명', '제한속도', 'CCTV설치여부', 'CCTV설치대수', '보호구역도로폭']\n",
    "pd_data = raw_df[column_select]"
   ]
  },
  {
   "cell_type": "code",
   "execution_count": 55,
   "id": "dde61f30",
   "metadata": {},
   "outputs": [
    {
     "name": "stdout",
     "output_type": "stream",
     "text": [
      "(2518, 5)\n",
      "시도명          object\n",
      "제한속도          int64\n",
      "CCTV설치여부     object\n",
      "CCTV설치대수    float64\n",
      "보호구역도로폭      object\n",
      "dtype: object\n"
     ]
    }
   ],
   "source": [
    "print(pd_data.shape)\n",
    "print(pd_data.dtypes)"
   ]
  },
  {
   "cell_type": "code",
   "execution_count": 56,
   "id": "f683296c",
   "metadata": {},
   "outputs": [
    {
     "name": "stdout",
     "output_type": "stream",
     "text": [
      "False\n",
      "['서울특별시' '경상북도' '충청남도' '강원도' '경기도' '전라북도' '대전광역시' '경상남도' '인천광역시' '울산광역시'\n",
      " '부산광역시' '대구광역시' '충청북도' '전라남도' '광주광역시' '세종특별자치시' '제주특별자치도']\n"
     ]
    }
   ],
   "source": [
    "print(pd_data['시도명'].hasnans)\n",
    "print(pd_data['시도명'].unique())\n",
    "# 결측치 / 오류치 / 이상치 없음\n"
   ]
  },
  {
   "cell_type": "code",
   "execution_count": 57,
   "id": "c3ccc72d",
   "metadata": {},
   "outputs": [
    {
     "name": "stdout",
     "output_type": "stream",
     "text": [
      "False\n",
      "[30 50 60 40 38 39 41 42 43 44 45 46 47 48 49 51 52 53 54 55 31 32 33 34\n",
      " 35 36 37 20]\n"
     ]
    }
   ],
   "source": [
    "print(pd_data['제한속도'].hasnans)\n",
    "print(pd_data['제한속도'].unique())\n",
    "# 결측치 /오류치 / 이상치 없음\n"
   ]
  },
  {
   "cell_type": "code",
   "execution_count": 58,
   "id": "30ce8f5c",
   "metadata": {},
   "outputs": [
    {
     "name": "stdout",
     "output_type": "stream",
     "text": [
      "False\n",
      "['Y' 'N']\n"
     ]
    }
   ],
   "source": [
    "print(pd_data['CCTV설치여부'].hasnans)\n",
    "print(pd_data['CCTV설치여부'].unique())\n",
    "# 결측치 /오류치 / 이상치 없음"
   ]
  },
  {
   "cell_type": "code",
   "execution_count": 59,
   "id": "ec3f63af",
   "metadata": {},
   "outputs": [
    {
     "name": "stdout",
     "output_type": "stream",
     "text": [
      "True\n",
      "[ 1. nan  0.  2.  4.  3.  5.  8.  9.]\n",
      "False\n",
      "[1. 0. 2. 4. 3. 5. 8. 9.]\n"
     ]
    }
   ],
   "source": [
    "print(pd_data['CCTV설치대수'].hasnans)\n",
    "print(pd_data['CCTV설치대수'].unique())\n",
    "\n",
    "filter1 = (pd_data['CCTV설치여부'] == 'Y') & (pd_data['CCTV설치대수'].isna())\n",
    "filter2 = (pd_data['CCTV설치여부'] == 'N') & (pd_data['CCTV설치대수'].isna())\n",
    "\n",
    "pd_data.loc[filter1, 'CCTV설치대수'] = 1.0\n",
    "pd_data.loc[filter2, 'CCTV설치대수'] = 0.0\n",
    "# 결측치 : 설치대수가 nan 값이고 설치여부가 y , n으로 해서 1, 0으로 수정\n",
    "#/오류치 / 이상치 없음\n",
    "\n",
    "print(pd_data['CCTV설치대수'].hasnans)\n",
    "print(pd_data['CCTV설치대수'].unique())"
   ]
  },
  {
   "cell_type": "code",
   "execution_count": 60,
   "id": "f92f2243",
   "metadata": {},
   "outputs": [
    {
     "name": "stdout",
     "output_type": "stream",
     "text": [
      "True\n",
      "['3' '6' '7' '8' '9' nan '7.5' '6.5' '15' '11' '4' '20' '12' '13' '28'\n",
      " '20~34' '10' '15~20' '24' '25' '5' '14' '6~12' '16' '17~22' '4.5~5' '4.5'\n",
      " '20~23' '6~8' '33' '30' '12~13' '10~12' '8~9' '9~10' '4~30' '7~12' '35'\n",
      " '9.6~14.6' '14~25' '12~20' '21' '5~20' '1' '6~14' '5~7' '5~6' '7~11'\n",
      " '8~20' '4~8' '4~7' '18' '16~20' '5.5' '23' '6~10' '10~30' '6~7' '8~10'\n",
      " '36' '6~25' '22' '5.2' '10~15' '8.5' '6.5~12' '5~10' '0' '29' '5~8' '5~9'\n",
      " '33~35' '8 ~25' '7~9' '13~14' '5~11' '5~30' '5~15' '10~14' '26' '7~8'\n",
      " '4.5~6.5' '18~36' '5~16' '17' '10~35' '19' '8~12' '6~9' '7.5~12' '4~8.5'\n",
      " '5.0~11' '7.5~8' '8.5~25' '8.5~11' '6~13' '7~10' '40' '8~14' '20~30'\n",
      " '3~5' '8~35' '12~16' '13~15' '7~15' '5.7' '8.4' '3~4' '6.3~14.8' '2']\n",
      "False    1484\n",
      "True     1034\n",
      "Name: 보호구역도로폭, dtype: int64\n",
      "False\n",
      "[10.00570866 27.         17.5         9.         19.5         4.75\n",
      " 21.5         7.         12.5        11.          8.5         9.5\n",
      " 17.         12.1        16.         10.          6.          5.5\n",
      " 14.         18.          8.         20.          6.5        15.5\n",
      "  9.25        7.5        34.         16.5        13.5        12.\n",
      " 10.5        22.5         9.75        6.25        7.75       16.75\n",
      " 25.          4.          3.5        10.55      ]\n",
      "False    2518\n",
      "Name: 보호구역도로폭, dtype: int64\n",
      "10.005708661417323\n"
     ]
    },
    {
     "name": "stderr",
     "output_type": "stream",
     "text": [
      "/var/folders/br/8bbtv7t175s4k3b2shs9n46m0000gn/T/ipykernel_49977/2941980533.py:12: SettingWithCopyWarning: \n",
      "A value is trying to be set on a copy of a slice from a DataFrame.\n",
      "Try using .loc[row_indexer,col_indexer] = value instead\n",
      "\n",
      "See the caveats in the documentation: https://pandas.pydata.org/pandas-docs/stable/user_guide/indexing.html#returning-a-view-versus-a-copy\n",
      "  pd_data.loc[:, '보호구역도로폭'] = y\n",
      "/var/folders/br/8bbtv7t175s4k3b2shs9n46m0000gn/T/ipykernel_49977/2941980533.py:12: DeprecationWarning: In a future version, `df.iloc[:, i] = newvals` will attempt to set the values inplace instead of always setting a new array. To retain the old behavior, use either `df[df.columns[i]] = newvals` or, if columns are non-unique, `df.isetitem(i, newvals)`\n",
      "  pd_data.loc[:, '보호구역도로폭'] = y\n"
     ]
    }
   ],
   "source": [
    "print(pd_data['보호구역도로폭'].hasnans)\n",
    "print(pd_data['보호구역도로폭'].unique())\n",
    "print(pd_data['보호구역도로폭'].isna().value_counts())\n",
    "\n",
    "def myfn1(x):\n",
    "    if type(x) == type(''):\n",
    "        if '~' in x:\n",
    "            m = np.array(x.split('~')).astype(np.float64).mean()\n",
    "            return str(m)\n",
    "        \n",
    "y = pd_data.loc[:, '보호구역도로폭'].apply(myfn1).astype(np.float64)\n",
    "pd_data.loc[:, '보호구역도로폭'] = y\n",
    "pd_data.loc[pd_data['보호구역도로폭'].isna(), '보호구역도로폭'] = y.mean()\n",
    "\n",
    "\n",
    "print(pd_data['보호구역도로폭'].hasnans)\n",
    "print(pd_data['보호구역도로폭'].unique())\n",
    "print(pd_data['보호구역도로폭'].isna().value_counts())\n",
    "print(y.mean())"
   ]
  },
  {
   "cell_type": "code",
   "execution_count": 61,
   "id": "35038120",
   "metadata": {},
   "outputs": [
    {
     "name": "stdout",
     "output_type": "stream",
     "text": [
      "10.005708661417323 10.005708661417323\n"
     ]
    }
   ],
   "source": [
    "q1, q3 = pd_data['보호구역도로폭'].quantile([0.25, 0.75])\n",
    "iqr = q3 - q1\n",
    "upper = q3 + 1.5*iqr\n",
    "lower = q1 - 1.5*iqr\n",
    "print(lower, upper)\n",
    "# filter1 = pd_data['보호구역도로폭'] > upper\n",
    "# print(filter1.value_counts())\n",
    "# select_df.loc[filter1, '보호구역도로폭'] = np.nan\n",
    "\n",
    "# print(select_df['보호구역도로폭'].unique())\n",
    "# print(select_df['보호구역도로폭'].hasnans)"
   ]
  },
  {
   "cell_type": "code",
   "execution_count": 62,
   "id": "76881967",
   "metadata": {},
   "outputs": [],
   "source": [
    "pd_data.to_csv('전국노인장애인도로표준데이터', encoding='cp949')"
   ]
  },
  {
   "cell_type": "code",
   "execution_count": null,
   "id": "201804ee",
   "metadata": {},
   "outputs": [],
   "source": []
  }
 ],
 "metadata": {
  "kernelspec": {
   "display_name": "Python 3 (ipykernel)",
   "language": "python",
   "name": "python3"
  },
  "language_info": {
   "codemirror_mode": {
    "name": "ipython",
    "version": 3
   },
   "file_extension": ".py",
   "mimetype": "text/x-python",
   "name": "python",
   "nbconvert_exporter": "python",
   "pygments_lexer": "ipython3",
   "version": "3.11.1"
  }
 },
 "nbformat": 4,
 "nbformat_minor": 5
}
