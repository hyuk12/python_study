{
 "cells": [
  {
   "cell_type": "markdown",
   "id": "337c0cc6",
   "metadata": {},
   "source": [
    "# 전국어린이보호구역표준데이터\n",
    "\n",
    "- 시설종류별 cctv 설치 여부 카운트 /대수\n",
    "- 광역시도별, 시설종류별 카운트\n",
    "- 관할경찰서별 CCTV 설치대수\n",
    "- CCTV 평균 설치대수\n",
    "- 도로폭 / CCTV 설치대수 상관도"
   ]
  },
  {
   "cell_type": "code",
   "execution_count": 142,
   "id": "0640aad6",
   "metadata": {},
   "outputs": [],
   "source": [
    "import pandas as pd\n",
    "import numpy as np\n",
    "\n",
    "\n",
    "url = 'https://www.data.go.kr/download/15012891/standard.do?dataType=csv'\n",
    "raw_df = pd.read_csv(url, encoding= 'cp949')"
   ]
  },
  {
   "cell_type": "code",
   "execution_count": 143,
   "id": "a0321f48",
   "metadata": {},
   "outputs": [
    {
     "data": {
      "text/html": [
       "<div>\n",
       "<style scoped>\n",
       "    .dataframe tbody tr th:only-of-type {\n",
       "        vertical-align: middle;\n",
       "    }\n",
       "\n",
       "    .dataframe tbody tr th {\n",
       "        vertical-align: top;\n",
       "    }\n",
       "\n",
       "    .dataframe thead th {\n",
       "        text-align: right;\n",
       "    }\n",
       "</style>\n",
       "<table border=\"1\" class=\"dataframe\">\n",
       "  <thead>\n",
       "    <tr style=\"text-align: right;\">\n",
       "      <th></th>\n",
       "      <th>위도</th>\n",
       "      <th>경도</th>\n",
       "      <th>CCTV설치대수</th>\n",
       "      <th>제공기관코드</th>\n",
       "    </tr>\n",
       "  </thead>\n",
       "  <tbody>\n",
       "    <tr>\n",
       "      <th>count</th>\n",
       "      <td>15053.000000</td>\n",
       "      <td>15051.000000</td>\n",
       "      <td>11682.000000</td>\n",
       "      <td>1.505600e+04</td>\n",
       "    </tr>\n",
       "    <tr>\n",
       "      <th>mean</th>\n",
       "      <td>36.376821</td>\n",
       "      <td>127.594198</td>\n",
       "      <td>2.586543</td>\n",
       "      <td>4.378967e+06</td>\n",
       "    </tr>\n",
       "    <tr>\n",
       "      <th>std</th>\n",
       "      <td>1.093878</td>\n",
       "      <td>0.871786</td>\n",
       "      <td>2.937831</td>\n",
       "      <td>9.926488e+05</td>\n",
       "    </tr>\n",
       "    <tr>\n",
       "      <th>min</th>\n",
       "      <td>33.169167</td>\n",
       "      <td>124.661632</td>\n",
       "      <td>0.000000</td>\n",
       "      <td>3.000000e+06</td>\n",
       "    </tr>\n",
       "    <tr>\n",
       "      <th>25%</th>\n",
       "      <td>35.340634</td>\n",
       "      <td>126.921993</td>\n",
       "      <td>1.000000</td>\n",
       "      <td>3.560000e+06</td>\n",
       "    </tr>\n",
       "    <tr>\n",
       "      <th>50%</th>\n",
       "      <td>36.366198</td>\n",
       "      <td>127.198870</td>\n",
       "      <td>2.000000</td>\n",
       "      <td>4.090000e+06</td>\n",
       "    </tr>\n",
       "    <tr>\n",
       "      <th>75%</th>\n",
       "      <td>37.448215</td>\n",
       "      <td>128.453699</td>\n",
       "      <td>3.000000</td>\n",
       "      <td>5.060000e+06</td>\n",
       "    </tr>\n",
       "    <tr>\n",
       "      <th>max</th>\n",
       "      <td>38.542101</td>\n",
       "      <td>130.902799</td>\n",
       "      <td>46.000000</td>\n",
       "      <td>6.500000e+06</td>\n",
       "    </tr>\n",
       "  </tbody>\n",
       "</table>\n",
       "</div>"
      ],
      "text/plain": [
       "                 위도            경도      CCTV설치대수        제공기관코드\n",
       "count  15053.000000  15051.000000  11682.000000  1.505600e+04\n",
       "mean      36.376821    127.594198      2.586543  4.378967e+06\n",
       "std        1.093878      0.871786      2.937831  9.926488e+05\n",
       "min       33.169167    124.661632      0.000000  3.000000e+06\n",
       "25%       35.340634    126.921993      1.000000  3.560000e+06\n",
       "50%       36.366198    127.198870      2.000000  4.090000e+06\n",
       "75%       37.448215    128.453699      3.000000  5.060000e+06\n",
       "max       38.542101    130.902799     46.000000  6.500000e+06"
      ]
     },
     "execution_count": 143,
     "metadata": {},
     "output_type": "execute_result"
    }
   ],
   "source": [
    "raw_df.describe()"
   ]
  },
  {
   "cell_type": "code",
   "execution_count": 144,
   "id": "f5c3e648",
   "metadata": {},
   "outputs": [
    {
     "data": {
      "text/html": [
       "<div>\n",
       "<style scoped>\n",
       "    .dataframe tbody tr th:only-of-type {\n",
       "        vertical-align: middle;\n",
       "    }\n",
       "\n",
       "    .dataframe tbody tr th {\n",
       "        vertical-align: top;\n",
       "    }\n",
       "\n",
       "    .dataframe thead th {\n",
       "        text-align: right;\n",
       "    }\n",
       "</style>\n",
       "<table border=\"1\" class=\"dataframe\">\n",
       "  <thead>\n",
       "    <tr style=\"text-align: right;\">\n",
       "      <th></th>\n",
       "      <th>시설종류</th>\n",
       "      <th>대상시설명</th>\n",
       "      <th>소재지도로명주소</th>\n",
       "      <th>소재지지번주소</th>\n",
       "      <th>위도</th>\n",
       "      <th>경도</th>\n",
       "      <th>관리기관명</th>\n",
       "      <th>관할경찰서명</th>\n",
       "      <th>CCTV설치여부</th>\n",
       "      <th>CCTV설치대수</th>\n",
       "      <th>보호구역도로폭</th>\n",
       "      <th>데이터기준일자</th>\n",
       "      <th>제공기관코드</th>\n",
       "      <th>제공기관명</th>\n",
       "    </tr>\n",
       "  </thead>\n",
       "  <tbody>\n",
       "    <tr>\n",
       "      <th>0</th>\n",
       "      <td>유치원</td>\n",
       "      <td>성송초등학교병설유치원</td>\n",
       "      <td>전라북도 고창군 성송면 백토1길 10</td>\n",
       "      <td>전라북도 고창군 성송면 판정리 725</td>\n",
       "      <td>35.356252</td>\n",
       "      <td>126.643542</td>\n",
       "      <td>전라북도 고창군</td>\n",
       "      <td>고창경찰서</td>\n",
       "      <td>Y</td>\n",
       "      <td>NaN</td>\n",
       "      <td>9</td>\n",
       "      <td>2022-12-29</td>\n",
       "      <td>4780000</td>\n",
       "      <td>전라북도 고창군</td>\n",
       "    </tr>\n",
       "    <tr>\n",
       "      <th>1</th>\n",
       "      <td>초등학교</td>\n",
       "      <td>성송초등학교</td>\n",
       "      <td>전라북도 고창군 성송면 백토1길 10</td>\n",
       "      <td>전라북도 고창군 성송면 판정리 725</td>\n",
       "      <td>35.356252</td>\n",
       "      <td>126.643542</td>\n",
       "      <td>전라북도 고창군</td>\n",
       "      <td>고창경찰서</td>\n",
       "      <td>Y</td>\n",
       "      <td>2.0</td>\n",
       "      <td>9</td>\n",
       "      <td>2022-12-29</td>\n",
       "      <td>4780000</td>\n",
       "      <td>전라북도 고창군</td>\n",
       "    </tr>\n",
       "    <tr>\n",
       "      <th>2</th>\n",
       "      <td>유치원</td>\n",
       "      <td>신림초등학교병설유치원</td>\n",
       "      <td>전라북도 고창군 신림면 동법지길 61</td>\n",
       "      <td>전라북도 고창군 신림면 법지리 산31</td>\n",
       "      <td>35.494235</td>\n",
       "      <td>126.700198</td>\n",
       "      <td>전라북도 고창군</td>\n",
       "      <td>고창경찰서</td>\n",
       "      <td>Y</td>\n",
       "      <td>NaN</td>\n",
       "      <td>18</td>\n",
       "      <td>2022-12-29</td>\n",
       "      <td>4780000</td>\n",
       "      <td>전라북도 고창군</td>\n",
       "    </tr>\n",
       "    <tr>\n",
       "      <th>3</th>\n",
       "      <td>초등학교</td>\n",
       "      <td>신림초등학교</td>\n",
       "      <td>전라북도 고창군 신림면 동법지길 61</td>\n",
       "      <td>전라북도 고창군 신림면 법지리 산31</td>\n",
       "      <td>35.494235</td>\n",
       "      <td>126.700198</td>\n",
       "      <td>전라북도 고창군</td>\n",
       "      <td>고창경찰서</td>\n",
       "      <td>Y</td>\n",
       "      <td>2.0</td>\n",
       "      <td>18</td>\n",
       "      <td>2022-12-29</td>\n",
       "      <td>4780000</td>\n",
       "      <td>전라북도 고창군</td>\n",
       "    </tr>\n",
       "    <tr>\n",
       "      <th>4</th>\n",
       "      <td>유치원</td>\n",
       "      <td>심원초등학교병설유치원</td>\n",
       "      <td>전라북도 고창군 심원면 심원로 229</td>\n",
       "      <td>전라북도 고창군 심원면 월산리 725</td>\n",
       "      <td>35.525712</td>\n",
       "      <td>126.552392</td>\n",
       "      <td>전라북도 고창군</td>\n",
       "      <td>고창경찰서</td>\n",
       "      <td>Y</td>\n",
       "      <td>NaN</td>\n",
       "      <td>9</td>\n",
       "      <td>2022-12-29</td>\n",
       "      <td>4780000</td>\n",
       "      <td>전라북도 고창군</td>\n",
       "    </tr>\n",
       "  </tbody>\n",
       "</table>\n",
       "</div>"
      ],
      "text/plain": [
       "   시설종류        대상시설명              소재지도로명주소               소재지지번주소         위도  \\\n",
       "0   유치원  성송초등학교병설유치원  전라북도 고창군 성송면 백토1길 10  전라북도 고창군 성송면 판정리 725  35.356252   \n",
       "1  초등학교       성송초등학교  전라북도 고창군 성송면 백토1길 10  전라북도 고창군 성송면 판정리 725  35.356252   \n",
       "2   유치원  신림초등학교병설유치원  전라북도 고창군 신림면 동법지길 61  전라북도 고창군 신림면 법지리 산31  35.494235   \n",
       "3  초등학교       신림초등학교  전라북도 고창군 신림면 동법지길 61  전라북도 고창군 신림면 법지리 산31  35.494235   \n",
       "4   유치원  심원초등학교병설유치원  전라북도 고창군 심원면 심원로 229  전라북도 고창군 심원면 월산리 725  35.525712   \n",
       "\n",
       "           경도     관리기관명 관할경찰서명 CCTV설치여부  CCTV설치대수 보호구역도로폭     데이터기준일자  \\\n",
       "0  126.643542  전라북도 고창군  고창경찰서        Y       NaN       9  2022-12-29   \n",
       "1  126.643542  전라북도 고창군  고창경찰서        Y       2.0       9  2022-12-29   \n",
       "2  126.700198  전라북도 고창군  고창경찰서        Y       NaN      18  2022-12-29   \n",
       "3  126.700198  전라북도 고창군  고창경찰서        Y       2.0      18  2022-12-29   \n",
       "4  126.552392  전라북도 고창군  고창경찰서        Y       NaN       9  2022-12-29   \n",
       "\n",
       "    제공기관코드     제공기관명  \n",
       "0  4780000  전라북도 고창군  \n",
       "1  4780000  전라북도 고창군  \n",
       "2  4780000  전라북도 고창군  \n",
       "3  4780000  전라북도 고창군  \n",
       "4  4780000  전라북도 고창군  "
      ]
     },
     "execution_count": 144,
     "metadata": {},
     "output_type": "execute_result"
    }
   ],
   "source": [
    "raw_df.head()"
   ]
  },
  {
   "cell_type": "code",
   "execution_count": 145,
   "id": "c754213a",
   "metadata": {},
   "outputs": [],
   "source": [
    "raw_df.dtypes\n",
    "raw_df['시설종류'] = raw_df['시설종류'].astype('category')\n",
    "raw_df['CCTV설치여부'] = raw_df['CCTV설치여부'].astype('category')"
   ]
  },
  {
   "cell_type": "code",
   "execution_count": 146,
   "id": "e07dfa95",
   "metadata": {},
   "outputs": [
    {
     "name": "stdout",
     "output_type": "stream",
     "text": [
      "시설종류           0\n",
      "대상시설명          0\n",
      "소재지도로명주소     225\n",
      "소재지지번주소     2913\n",
      "위도             3\n",
      "경도             5\n",
      "관리기관명          0\n",
      "관할경찰서명         0\n",
      "CCTV설치여부       0\n",
      "CCTV설치대수       0\n",
      "보호구역도로폭     4372\n",
      "데이터기준일자        0\n",
      "제공기관코드         0\n",
      "제공기관명          0\n",
      "dtype: int64\n"
     ]
    }
   ],
   "source": [
    "raw_df.loc[(raw_df['CCTV설치여부'] == 'Y') & (raw_df['CCTV설치대수'].isnull()), 'CCTV설치대수'] = 1.0\n",
    "raw_df.loc[(raw_df['CCTV설치여부'] == 'N') & (raw_df['CCTV설치대수'].isnull()), 'CCTV설치대수'] = 0.0\n",
    "print(raw_df.isnull().sum())"
   ]
  },
  {
   "cell_type": "code",
   "execution_count": 147,
   "id": "ec021e2b",
   "metadata": {},
   "outputs": [],
   "source": [
    "sub_df1 = raw_df[['시설종류', 'CCTV설치여부' ]]\n",
    "sub_df2 = raw_df[['시설종류', 'CCTV설치대수' ]]\n",
    "sub_df3 = raw_df[['제공기관명', '시설종류' ]]\n",
    "sub_df4 = raw_df[['관할경찰서명', 'CCTV설치대수' ]]\n",
    "\n",
    "\n"
   ]
  },
  {
   "cell_type": "code",
   "execution_count": 148,
   "id": "265330d8",
   "metadata": {},
   "outputs": [],
   "source": [
    "a1 = sub_df1.groupby('시설종류').value_counts()\n",
    "a2 = sub_df2.groupby('시설종류').value_counts()\n",
    "a3 = sub_df3.groupby('제공기관명').value_counts()\n",
    "a4 = sub_df4.groupby('관할경찰서명').value_counts()"
   ]
  },
  {
   "cell_type": "code",
   "execution_count": 149,
   "id": "50921f98",
   "metadata": {},
   "outputs": [
    {
     "name": "stdout",
     "output_type": "stream",
     "text": [
      "시설종류에 따른 설치여부 시설종류       CCTV설치여부\n",
      "국제학교       Y              7\n",
      "           N              0\n",
      "대안학교       N              6\n",
      "           Y              1\n",
      "어린이집       Y           2216\n",
      "           N           1062\n",
      "외국인교육기관    Y              1\n",
      "           N              0\n",
      "외국인학교      Y              7\n",
      "           N              3\n",
      "유치원        Y           3202\n",
      "           N           1347\n",
      "초등학교       Y           6079\n",
      "           N            886\n",
      "초등학교+어린이집  Y              3\n",
      "           N              0\n",
      "특수학교       Y            122\n",
      "           N             40\n",
      "학원         Y             49\n",
      "           N             25\n",
      "dtype: int64\n"
     ]
    }
   ],
   "source": [
    "print(\"시설종류에 따른 설치여부\", a1)\n"
   ]
  },
  {
   "cell_type": "code",
   "execution_count": 150,
   "id": "71045ef3",
   "metadata": {},
   "outputs": [
    {
     "name": "stdout",
     "output_type": "stream",
     "text": [
      "시설종류에 따른 설치대수 시설종류  CCTV설치대수\n",
      "국제학교  1.0         6\n",
      "      2.0         1\n",
      "      0.0         0\n",
      "      10.0        0\n",
      "      16.0        0\n",
      "                 ..\n",
      "학원    17.0        0\n",
      "      16.0        0\n",
      "      15.0        0\n",
      "      14.0        0\n",
      "      46.0        0\n",
      "Length: 330, dtype: int64\n"
     ]
    }
   ],
   "source": [
    "print(\"시설종류에 따른 설치대수\", a2)"
   ]
  },
  {
   "cell_type": "code",
   "execution_count": 151,
   "id": "2a791b78",
   "metadata": {},
   "outputs": [
    {
     "name": "stdout",
     "output_type": "stream",
     "text": [
      "제공기관명     시설종류     \n",
      "강원도 강릉시   초등학교         36\n",
      "          유치원          30\n",
      "          어린이집          6\n",
      "          특수학교          1\n",
      "          국제학교          0\n",
      "                       ..\n",
      "충청북도 충주시  초등학교+어린이집     0\n",
      "          대안학교          0\n",
      "          국제학교          0\n",
      "          외국인교육기관       0\n",
      "          학원            0\n",
      "Length: 2250, dtype: int64\n"
     ]
    }
   ],
   "source": [
    "print(a3)"
   ]
  },
  {
   "cell_type": "code",
   "execution_count": 152,
   "id": "51acb321",
   "metadata": {},
   "outputs": [
    {
     "data": {
      "text/plain": [
       "관할경찰서명  CCTV설치대수\n",
       "가평경찰서   1.0         15\n",
       "        0.0          4\n",
       "        2.0          1\n",
       "강남경찰서   1.0         12\n",
       "        2.0          7\n",
       "                    ..\n",
       "흥덕      16.0         1\n",
       "        13.0         1\n",
       "        9.0          1\n",
       "        6.0          1\n",
       "        19.0         1\n",
       "Length: 1657, dtype: int64"
      ]
     },
     "execution_count": 152,
     "metadata": {},
     "output_type": "execute_result"
    }
   ],
   "source": [
    "a4"
   ]
  },
  {
   "cell_type": "code",
   "execution_count": 153,
   "id": "85ff20d2",
   "metadata": {},
   "outputs": [
    {
     "name": "stdout",
     "output_type": "stream",
     "text": [
      "CCTV 설치 평균:  2.118026036131775\n"
     ]
    }
   ],
   "source": [
    "print(\"CCTV 설치 평균: \" ,raw_df['CCTV설치대수'].mean())"
   ]
  },
  {
   "cell_type": "code",
   "execution_count": 162,
   "id": "a6abf156",
   "metadata": {},
   "outputs": [],
   "source": [
    "raw_df.dropna(subset=['보호구역도로폭'], inplace=True)"
   ]
  },
  {
   "cell_type": "code",
   "execution_count": 163,
   "id": "2468552a",
   "metadata": {},
   "outputs": [],
   "source": [
    "\n",
    "def process_road_width(width_str):\n",
    "    # 범위 구분자인 '~' 으로 분할\n",
    "    width_range = width_str.split('~')\n",
    "    \n",
    "    # 범위가 2개의 숫자로 구성되어 있는지 확인\n",
    "    if len(width_range) != 2:\n",
    "        try:\n",
    "            return float(width_str)\n",
    "        except ValueError:\n",
    "            return None;\n",
    "        \n",
    "    # 범위의 최솟값, 최댓값 구하기\n",
    "    try:\n",
    "        min_width = float(width_range[0].strip())\n",
    "        max_width = float(width_range[1].strip())\n",
    "    except ValueError:\n",
    "        return None\n",
    "    # 범위의 평균값 리턴\n",
    "    return (min_width + max_width) / 2\n",
    "\n",
    "raw_df['보호구역도로폭'] = raw_df['보호구역도로폭'].apply(process_road_width)\n",
    "\n"
   ]
  },
  {
   "cell_type": "code",
   "execution_count": 164,
   "id": "8398909e",
   "metadata": {},
   "outputs": [
    {
     "data": {
      "text/plain": [
       "0         9.0\n",
       "1         9.0\n",
       "2        18.0\n",
       "3        18.0\n",
       "4         9.0\n",
       "         ... \n",
       "15050     6.0\n",
       "15051     6.0\n",
       "15052     6.0\n",
       "15053     6.0\n",
       "15054     6.0\n",
       "Name: 보호구역도로폭, Length: 10684, dtype: float64"
      ]
     },
     "execution_count": 164,
     "metadata": {},
     "output_type": "execute_result"
    }
   ],
   "source": [
    "raw_df['보호구역도로폭']"
   ]
  },
  {
   "cell_type": "code",
   "execution_count": 97,
   "id": "2d18bc04",
   "metadata": {},
   "outputs": [
    {
     "name": "stdout",
     "output_type": "stream",
     "text": [
      "도로폭에 대한 CCTV 설치대수와의 상관도: -0.017998420915560514\n"
     ]
    }
   ],
   "source": [
    "correlation = raw_df['보호구역도로폭'].corr(raw_df['CCTV설치대수'])\n",
    "print(\"도로폭에 대한 CCTV 설치대수와의 상관도:\", correlation)"
   ]
  },
  {
   "cell_type": "code",
   "execution_count": 98,
   "id": "e67a5a5c",
   "metadata": {},
   "outputs": [
    {
     "name": "stderr",
     "output_type": "stream",
     "text": [
      "/opt/homebrew/opt/ipython/libexec/lib/python3.11/site-packages/IPython/core/pylabtools.py:152: UserWarning: Glyph 48372 (\\N{HANGUL SYLLABLE BO}) missing from current font.\n",
      "  fig.canvas.print_figure(bytes_io, **kw)\n",
      "/opt/homebrew/opt/ipython/libexec/lib/python3.11/site-packages/IPython/core/pylabtools.py:152: UserWarning: Glyph 54840 (\\N{HANGUL SYLLABLE HO}) missing from current font.\n",
      "  fig.canvas.print_figure(bytes_io, **kw)\n",
      "/opt/homebrew/opt/ipython/libexec/lib/python3.11/site-packages/IPython/core/pylabtools.py:152: UserWarning: Glyph 44396 (\\N{HANGUL SYLLABLE GU}) missing from current font.\n",
      "  fig.canvas.print_figure(bytes_io, **kw)\n",
      "/opt/homebrew/opt/ipython/libexec/lib/python3.11/site-packages/IPython/core/pylabtools.py:152: UserWarning: Glyph 50669 (\\N{HANGUL SYLLABLE YEOG}) missing from current font.\n",
      "  fig.canvas.print_figure(bytes_io, **kw)\n",
      "/opt/homebrew/opt/ipython/libexec/lib/python3.11/site-packages/IPython/core/pylabtools.py:152: UserWarning: Glyph 46020 (\\N{HANGUL SYLLABLE DO}) missing from current font.\n",
      "  fig.canvas.print_figure(bytes_io, **kw)\n",
      "/opt/homebrew/opt/ipython/libexec/lib/python3.11/site-packages/IPython/core/pylabtools.py:152: UserWarning: Glyph 47196 (\\N{HANGUL SYLLABLE RO}) missing from current font.\n",
      "  fig.canvas.print_figure(bytes_io, **kw)\n",
      "/opt/homebrew/opt/ipython/libexec/lib/python3.11/site-packages/IPython/core/pylabtools.py:152: UserWarning: Glyph 54253 (\\N{HANGUL SYLLABLE POG}) missing from current font.\n",
      "  fig.canvas.print_figure(bytes_io, **kw)\n",
      "/opt/homebrew/opt/ipython/libexec/lib/python3.11/site-packages/IPython/core/pylabtools.py:152: UserWarning: Glyph 49444 (\\N{HANGUL SYLLABLE SEOL}) missing from current font.\n",
      "  fig.canvas.print_figure(bytes_io, **kw)\n",
      "/opt/homebrew/opt/ipython/libexec/lib/python3.11/site-packages/IPython/core/pylabtools.py:152: UserWarning: Glyph 52824 (\\N{HANGUL SYLLABLE CI}) missing from current font.\n",
      "  fig.canvas.print_figure(bytes_io, **kw)\n",
      "/opt/homebrew/opt/ipython/libexec/lib/python3.11/site-packages/IPython/core/pylabtools.py:152: UserWarning: Glyph 45824 (\\N{HANGUL SYLLABLE DAE}) missing from current font.\n",
      "  fig.canvas.print_figure(bytes_io, **kw)\n",
      "/opt/homebrew/opt/ipython/libexec/lib/python3.11/site-packages/IPython/core/pylabtools.py:152: UserWarning: Glyph 49688 (\\N{HANGUL SYLLABLE SU}) missing from current font.\n",
      "  fig.canvas.print_figure(bytes_io, **kw)\n"
     ]
    },
    {
     "data": {
      "image/png": "[encoded data removed]",
      "text/plain": [
       "<Figure size 640x480 with 1 Axes>"
      ]
     },
     "metadata": {},
     "output_type": "display_data"
    }
   ],
   "source": [
    "import matplotlib.pyplot as plt\n",
    "\n",
    "plt.scatter(raw_df['보호구역도로폭'], raw_df['CCTV설치대수'])\n",
    "plt.xlabel(\"보호구역도로폭\")\n",
    "plt.ylabel(\"CCTV설치대수\")\n",
    "plt.show()"
   ]
  },
  {
   "cell_type": "code",
   "execution_count": 99,
   "id": "e42ddbe4",
   "metadata": {},
   "outputs": [
    {
     "name": "stdout",
     "output_type": "stream",
     "text": [
      "Outlier indices in '보호구역도로폭': (array([   70,    74,    76,    85,   207,   237,   284,   307,   407,\n",
      "         547,   588,   603,   704,   713,   730,   739,   754,  1179,\n",
      "        1486,  1502,  1539,  1827,  1855,  1971,  2014,  2060,  2105,\n",
      "        2170,  2260,  2309,  2431,  2453,  2461,  2462,  2463,  2650,\n",
      "        2675,  2676,  2717,  2732,  2807,  3317,  3718,  3882,  3934,\n",
      "        4126,  4127,  4266,  4267,  4319,  4381,  4516,  4528,  4541,\n",
      "        4613,  4619,  4620,  4622,  4633,  4713,  4959,  4962,  4984,\n",
      "        5131,  5189,  5248,  5316,  5541,  5782,  5789,  5822,  5830,\n",
      "        5882,  5885,  5894,  5900,  5927,  5928,  5930,  5961,  5965,\n",
      "        5978,  5983,  5992,  6040,  6052,  6053,  6066,  6068,  6183,\n",
      "        6214,  6306,  6373,  6379,  6380,  6381,  6382,  6631,  6748,\n",
      "        6847,  6907,  6913,  6938,  7011,  7015,  7159,  7190,  7206,\n",
      "        7211,  7213,  7467,  7472,  7565,  7610,  7622,  7625,  7632,\n",
      "        7673,  7675,  7676,  7679,  7695,  7701,  7715,  7725,  7887,\n",
      "        7893,  7894,  7929,  8038,  8123,  8197,  8221,  8223,  8232,\n",
      "        8236,  8238,  8257,  8371,  8415,  8421,  8422,  8480,  8481,\n",
      "        8498,  8758,  8759,  8870,  8960,  8963,  8964,  8971,  8983,\n",
      "        8993,  9000,  9008,  9009,  9021,  9023,  9050,  9195,  9391,\n",
      "        9395,  9419,  9438,  9449,  9450,  9452,  9518,  9607,  9620,\n",
      "        9622,  9641,  9648,  9649,  9653,  9659,  9681,  9694,  9700,\n",
      "        9702,  9726,  9750, 10022, 10034, 10430, 10460, 10554, 10572,\n",
      "       10583, 10585, 10590, 10591, 10593, 10596, 10599, 10600, 10629,\n",
      "       10639, 10643, 10670]),)\n"
     ]
    }
   ],
   "source": [
    "def detect_outliers_z_score(data):\n",
    "    threshold = 3\n",
    "    mean = np.mean(data)\n",
    "    std = np.std(data)\n",
    "    z_scores = [(y - mean) / std for y in data]\n",
    "    return np.where(np.abs(z_scores) > threshold)\n",
    "\n",
    "outlier_indices = detect_outliers_z_score(raw_df['보호구역도로폭'])\n",
    "print(\"Outlier indices in '보호구역도로폭':\", outlier_indices)"
   ]
  },
  {
   "cell_type": "code",
   "execution_count": 100,
   "id": "c1bd122c",
   "metadata": {},
   "outputs": [
    {
     "name": "stdout",
     "output_type": "stream",
     "text": [
      "Outlier indices in 'CCTV설치대수': (array([  299,   324,   390,   397,   409,   410,   451,   452,   453,\n",
      "         454,   464,   723,  1019,  1020,  1021,  1022,  1023,  1024,\n",
      "        1025,  1035,  1038,  1039,  1043,  1047,  1048,  1050,  1052,\n",
      "        1053,  1054,  1058,  1060,  1062,  1063,  1069,  1072,  1073,\n",
      "        1333,  1334,  1345,  1497,  1655,  1913,  1914,  1915,  1916,\n",
      "        1922,  1968,  2102,  2164,  2223,  2422,  2489,  2615,  2645,\n",
      "        2647,  2653,  2654,  2655,  2842,  2843,  2845,  2879,  2880,\n",
      "        2882,  3030,  3031,  3034,  3036,  3037,  3064,  3067,  3068,\n",
      "        3069,  3071,  3074,  3075,  3105,  3106,  3187,  3189,  3572,\n",
      "        3575,  3608,  3611,  3721,  3728,  3740,  3774,  3837,  3839,\n",
      "        3890,  4522,  4543,  4885,  5002,  5010,  5011,  5036,  5127,\n",
      "        5161,  5164,  5174,  5176,  5421,  5438,  5457,  5479,  5480,\n",
      "        5482,  5509,  6105,  6601,  6604,  6686,  6692,  6716,  6722,\n",
      "        6730,  6744,  6745,  6835,  6937,  7027,  7281,  7282,  7283,\n",
      "        7284,  7285,  7286,  7287,  7288,  7289,  7290,  7291,  7292,\n",
      "        7293,  7295,  7296,  7298,  7300,  7301,  7305,  7790,  7796,\n",
      "        7858,  7862,  8071,  8089,  8095,  8098,  8279,  8280,  8312,\n",
      "        8313,  8317,  8318,  8324,  8325,  8326,  8327,  8557,  8565,\n",
      "        8566,  8589,  8595,  8601,  8602,  8619,  8620,  8621,  8622,\n",
      "        8623,  8624,  8625,  8627,  8628,  8635,  8636,  8637,  8638,\n",
      "        8641,  8643,  8646,  8651,  8654,  8655,  8661,  8662,  8916,\n",
      "        9327,  9330,  9354,  9355,  9356,  9357,  9358,  9359,  9361,\n",
      "        9362,  9363,  9364,  9365,  9366,  9368,  9369,  9372,  9374,\n",
      "        9375,  9376,  9377,  9378,  9380,  9381,  9382,  9383,  9986,\n",
      "        9987, 10074, 10144, 10151, 10162, 10181, 10194, 10201, 10230,\n",
      "       10234, 10241, 10264, 10274, 10331, 10607]),)\n"
     ]
    }
   ],
   "source": [
    "outlier_indices = detect_outliers_z_score(raw_df['CCTV설치대수'])\n",
    "print(\"Outlier indices in 'CCTV설치대수':\", outlier_indices)"
   ]
  },
  {
   "cell_type": "code",
   "execution_count": 101,
   "id": "a771c5c3",
   "metadata": {},
   "outputs": [
    {
     "name": "stdout",
     "output_type": "stream",
     "text": [
      "도로폭에 대한 CCTV 설치대수와의 상관도: -0.018627644508830688\n"
     ]
    },
    {
     "data": {
      "image/png": "[encoded data removed]",
      "text/plain": [
       "<Figure size 640x480 with 1 Axes>"
      ]
     },
     "metadata": {},
     "output_type": "display_data"
    }
   ],
   "source": [
    "# 이상치 제거\n",
    "df = raw_df[(raw_df['보호구역도로폭'] < 50) & (raw_df['CCTV설치대수'] < 40)]\n",
    "\n",
    "# 상관도 구하기\n",
    "correlation = df['보호구역도로폭'].corr(df['CCTV설치대수'])\n",
    "print(\"도로폭에 대한 CCTV 설치대수와의 상관도:\", correlation)\n",
    "\n",
    "# 그래프 그리기\n",
    "plt.scatter(df['보호구역도로폭'], df['CCTV설치대수'])\n",
    "plt.xlabel('보호구역도로폭')\n",
    "plt.ylabel('CCTV설치대수')\n",
    "plt.show()"
   ]
  },
  {
   "cell_type": "code",
   "execution_count": 102,
   "id": "907bce4a",
   "metadata": {},
   "outputs": [
    {
     "data": {
      "image/png": "[encoded data removed]",
      "text/plain": [
       "<Figure size 640x480 with 1 Axes>"
      ]
     },
     "metadata": {},
     "output_type": "display_data"
    }
   ],
   "source": [
    "outlier_indices1 = detect_outliers_z_score(raw_df['보호구역도로폭'])\n",
    "cleaned_df = raw_df.drop(raw_df.index[outlier_indices1])\n",
    "\n",
    "outlier_indices2 = detect_outliers_z_score(raw_df['CCTV설치대수'])\n",
    "cleaned_df = raw_df.drop(raw_df.index[outlier_indices2])\n",
    "\n",
    "# Plot the scatter plot\n",
    "plt.scatter(cleaned_df['보호구역도로폭'], cleaned_df['CCTV설치대수'])\n",
    "plt.xlabel('Road Width')\n",
    "plt.ylabel('Number of CCTV installations')\n",
    "plt.show()"
   ]
  },
  {
   "cell_type": "code",
   "execution_count": 165,
   "id": "de3f039b",
   "metadata": {},
   "outputs": [
    {
     "name": "stdout",
     "output_type": "stream",
     "text": [
      "Collecting sklearn\n",
      "  Downloading sklearn-0.0.post1.tar.gz (3.6 kB)\n",
      "  Preparing metadata (setup.py) ... \u001b[?25ldone\n",
      "\u001b[?25hBuilding wheels for collected packages: sklearn\n",
      "  Building wheel for sklearn (setup.py) ... \u001b[?25ldone\n",
      "\u001b[?25h  Created wheel for sklearn: filename=sklearn-0.0.post1-py3-none-any.whl size=2935 sha256=e606eb452590938d1463f515f3b0645e052962cc5cd5188414caa0206650149a\n",
      "  Stored in directory: /Users/choehaehyeog/Library/Caches/pip/wheels/6f/25/c5/e20b5ae82502257329c72904a6507fe4cfb6fd1cfbcb4c4420\n",
      "Successfully built sklearn\n",
      "Installing collected packages: sklearn\n",
      "Successfully installed sklearn-0.0.post1\n",
      "\n",
      "\u001b[1m[\u001b[0m\u001b[34;49mnotice\u001b[0m\u001b[1;39;49m]\u001b[0m\u001b[39;49m A new release of pip available: \u001b[0m\u001b[31;49m22.3.1\u001b[0m\u001b[39;49m -> \u001b[0m\u001b[32;49m23.0.1\u001b[0m\n",
      "\u001b[1m[\u001b[0m\u001b[34;49mnotice\u001b[0m\u001b[1;39;49m]\u001b[0m\u001b[39;49m To update, run: \u001b[0m\u001b[32;49mpython3.11 -m pip install --upgrade pip\u001b[0m\n",
      "Note: you may need to restart the kernel to use updated packages.\n"
     ]
    }
   ],
   "source": [
    "pip install sklearn"
   ]
  },
  {
   "cell_type": "code",
   "execution_count": 166,
   "id": "fa7621ca",
   "metadata": {},
   "outputs": [
    {
     "ename": "ModuleNotFoundError",
     "evalue": "No module named 'sklearn'",
     "output_type": "error",
     "traceback": [
      "\u001b[0;31m---------------------------------------------------------------------------\u001b[0m",
      "\u001b[0;31mModuleNotFoundError\u001b[0m                       Traceback (most recent call last)",
      "Cell \u001b[0;32mIn[166], line 1\u001b[0m\n\u001b[0;32m----> 1\u001b[0m \u001b[38;5;28;01mimport\u001b[39;00m \u001b[38;5;21;01msklearn\u001b[39;00m\n\u001b[1;32m      2\u001b[0m \u001b[38;5;28;01mfrom\u001b[39;00m \u001b[38;5;21;01msklearn\u001b[39;00m \u001b[38;5;28;01mimport\u001b[39;00m datasets\n\u001b[1;32m      4\u001b[0m x \u001b[38;5;241m=\u001b[39m datasets\u001b[38;5;241m.\u001b[39mload_diabetes()\n",
      "\u001b[0;31mModuleNotFoundError\u001b[0m: No module named 'sklearn'"
     ]
    }
   ],
   "source": [
    "import sklearn\n",
    "from sklearn import datasets\n",
    "\n",
    "x = datasets.load_diabetes()\n",
    "print(x)"
   ]
  },
  {
   "cell_type": "code",
   "execution_count": null,
   "id": "6aeaf7ce",
   "metadata": {},
   "outputs": [],
   "source": []
  }
 ],
 "metadata": {
  "kernelspec": {
   "display_name": "Python 3 (ipykernel)",
   "language": "python",
   "name": "python3"
  },
  "language_info": {
   "codemirror_mode": {
    "name": "ipython",
    "version": 3
   },
   "file_extension": ".py",
   "mimetype": "text/x-python",
   "name": "python",
   "nbconvert_exporter": "python",
   "pygments_lexer": "ipython3",
   "version": "3.11.1"
  }
 },
 "nbformat": 4,
 "nbformat_minor": 5
}
