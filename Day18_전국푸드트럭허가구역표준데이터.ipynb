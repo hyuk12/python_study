{
 "cells": [
  {
   "cell_type": "code",
   "execution_count": 19,
   "id": "bf796ea7",
   "metadata": {},
   "outputs": [
    {
     "name": "stdout",
     "output_type": "stream",
     "text": [
      "444.0\n"
     ]
    }
   ],
   "source": [
    "import numpy as np\n",
    "import pandas as pd\n",
    "\n",
    "url = 'https://www.data.go.kr/download/15028208/standard.do?dataType=csv'\n",
    "truck_df = pd.read_csv(url,encoding='cp949')\n",
    "print(np.sum(truck_df['푸드트럭운영대수']))"
   ]
  },
  {
   "cell_type": "code",
   "execution_count": 20,
   "id": "db31f272",
   "metadata": {},
   "outputs": [
    {
     "data": {
      "text/plain": [
       "Index(['허가구역명', '장소유형', '시도명', '시군구명', '소재지도로명주소', '소재지지번주소', '위도', '경도',\n",
       "       '푸드트럭운영대수', '허가구역사용료', '허가구역운영시작일자', '허가구역운영종료일자', '허가구역휴무일',\n",
       "       '허가구역평일운영시작시각', '허가구역평일운영종료시각', '허가구역주말운영시작시각', '허가구역주말운영종료시각',\n",
       "       '1월운영시작시각', '1월운영종료시각', '2월운영시작시각', '2월운영종료시각', '3월운영시작시각', '3월운영종료시각',\n",
       "       '4월운영시작시각', '4월운영종료시각', '5월운영시작시각', '5월운영종료시각', '6월운영시작시각', '6월운영종료시각',\n",
       "       '7월운영시작시각', '7월운영종료시각', '8월운영시작시각', '8월운영종료시각', '9월운영시작시각', '9월운영종료시각',\n",
       "       '10월운영시작시각', '10월운영종료시각', '11월운영시작시각', '11월운영종료시각', '12월운영시작시각',\n",
       "       '12월운영종료시각', '판매제한품목', '관리기관명', '관리기관전화번호', '데이터기준일자', '제공기관코드',\n",
       "       '제공기관명'],\n",
       "      dtype='object')"
      ]
     },
     "execution_count": 20,
     "metadata": {},
     "output_type": "execute_result"
    }
   ],
   "source": [
    "truck_df.columns"
   ]
  },
  {
   "cell_type": "code",
   "execution_count": 21,
   "id": "16b67fd8",
   "metadata": {},
   "outputs": [],
   "source": [
    "truck_df_d = truck_df[['허가구역명', '시도명', '푸드트럭운영대수']]"
   ]
  },
  {
   "cell_type": "code",
   "execution_count": 29,
   "id": "a3ad9198",
   "metadata": {},
   "outputs": [
    {
     "data": {
      "text/plain": [
       "경기도        80\n",
       "경상남도       48\n",
       "충청북도       41\n",
       "강원도        34\n",
       "충청남도       24\n",
       "서울특별시      17\n",
       "제주특별자치도    17\n",
       "광주광역시      14\n",
       "전라남도       13\n",
       "대구광역시      12\n",
       "경상북도       11\n",
       "부산광역시       9\n",
       "인천광역시       8\n",
       "전라북도        7\n",
       "대전광역시       6\n",
       "울산광역시       1\n",
       "Name: 시도명, dtype: int64"
      ]
     },
     "execution_count": 29,
     "metadata": {},
     "output_type": "execute_result"
    }
   ],
   "source": [
    "truck_df_d['시도명'].value_counts()"
   ]
  },
  {
   "cell_type": "code",
   "execution_count": 28,
   "id": "cdf63ae0",
   "metadata": {},
   "outputs": [
    {
     "data": {
      "text/html": [
       "<div>\n",
       "<style scoped>\n",
       "    .dataframe tbody tr th:only-of-type {\n",
       "        vertical-align: middle;\n",
       "    }\n",
       "\n",
       "    .dataframe tbody tr th {\n",
       "        vertical-align: top;\n",
       "    }\n",
       "\n",
       "    .dataframe thead th {\n",
       "        text-align: right;\n",
       "    }\n",
       "</style>\n",
       "<table border=\"1\" class=\"dataframe\">\n",
       "  <thead>\n",
       "    <tr style=\"text-align: right;\">\n",
       "      <th></th>\n",
       "      <th>허가구역명</th>\n",
       "      <th>시도명</th>\n",
       "      <th>지자체별 허가구역수</th>\n",
       "      <th>푸드트럭운영대수</th>\n",
       "    </tr>\n",
       "  </thead>\n",
       "  <tbody>\n",
       "    <tr>\n",
       "      <th>0</th>\n",
       "      <td>부산대학교내 장승터</td>\n",
       "      <td>부산광역시</td>\n",
       "      <td>NaN</td>\n",
       "      <td>1.0</td>\n",
       "    </tr>\n",
       "    <tr>\n",
       "      <th>1</th>\n",
       "      <td>금양초등학교</td>\n",
       "      <td>부산광역시</td>\n",
       "      <td>NaN</td>\n",
       "      <td>1.0</td>\n",
       "    </tr>\n",
       "    <tr>\n",
       "      <th>2</th>\n",
       "      <td>부산가톨릭대학교 로사리오광장</td>\n",
       "      <td>부산광역시</td>\n",
       "      <td>NaN</td>\n",
       "      <td>1.0</td>\n",
       "    </tr>\n",
       "    <tr>\n",
       "      <th>3</th>\n",
       "      <td>호계2차현대홈타운</td>\n",
       "      <td>경기도</td>\n",
       "      <td>NaN</td>\n",
       "      <td>NaN</td>\n",
       "    </tr>\n",
       "    <tr>\n",
       "      <th>4</th>\n",
       "      <td>안양종합운동장</td>\n",
       "      <td>경기도</td>\n",
       "      <td>NaN</td>\n",
       "      <td>NaN</td>\n",
       "    </tr>\n",
       "    <tr>\n",
       "      <th>...</th>\n",
       "      <td>...</td>\n",
       "      <td>...</td>\n",
       "      <td>...</td>\n",
       "      <td>...</td>\n",
       "    </tr>\n",
       "    <tr>\n",
       "      <th>337</th>\n",
       "      <td>정이네뜰</td>\n",
       "      <td>경기도</td>\n",
       "      <td>NaN</td>\n",
       "      <td>1.0</td>\n",
       "    </tr>\n",
       "    <tr>\n",
       "      <th>338</th>\n",
       "      <td>美, cafe</td>\n",
       "      <td>경기도</td>\n",
       "      <td>NaN</td>\n",
       "      <td>1.0</td>\n",
       "    </tr>\n",
       "    <tr>\n",
       "      <th>339</th>\n",
       "      <td>주영카페</td>\n",
       "      <td>경기도</td>\n",
       "      <td>NaN</td>\n",
       "      <td>1.0</td>\n",
       "    </tr>\n",
       "    <tr>\n",
       "      <th>340</th>\n",
       "      <td>동막골 유원지 협동조합</td>\n",
       "      <td>경기도</td>\n",
       "      <td>NaN</td>\n",
       "      <td>1.0</td>\n",
       "    </tr>\n",
       "    <tr>\n",
       "      <th>341</th>\n",
       "      <td>동막골 유원지 협동조합</td>\n",
       "      <td>경기도</td>\n",
       "      <td>NaN</td>\n",
       "      <td>1.0</td>\n",
       "    </tr>\n",
       "  </tbody>\n",
       "</table>\n",
       "<p>342 rows × 4 columns</p>\n",
       "</div>"
      ],
      "text/plain": [
       "               허가구역명    시도명  지자체별 허가구역수  푸드트럭운영대수\n",
       "0         부산대학교내 장승터  부산광역시         NaN       1.0\n",
       "1             금양초등학교  부산광역시         NaN       1.0\n",
       "2    부산가톨릭대학교 로사리오광장  부산광역시         NaN       1.0\n",
       "3          호계2차현대홈타운    경기도         NaN       NaN\n",
       "4            안양종합운동장    경기도         NaN       NaN\n",
       "..               ...    ...         ...       ...\n",
       "337             정이네뜰    경기도         NaN       1.0\n",
       "338          美, cafe    경기도         NaN       1.0\n",
       "339             주영카페    경기도         NaN       1.0\n",
       "340     동막골 유원지 협동조합    경기도         NaN       1.0\n",
       "341     동막골 유원지 협동조합    경기도         NaN       1.0\n",
       "\n",
       "[342 rows x 4 columns]"
      ]
     },
     "execution_count": 28,
     "metadata": {},
     "output_type": "execute_result"
    }
   ],
   "source": [
    "truck_df_d"
   ]
  },
  {
   "cell_type": "code",
   "execution_count": null,
   "id": "a08e8815",
   "metadata": {},
   "outputs": [],
   "source": []
  }
 ],
 "metadata": {
  "kernelspec": {
   "display_name": "Python 3 (ipykernel)",
   "language": "python",
   "name": "python3"
  },
  "language_info": {
   "codemirror_mode": {
    "name": "ipython",
    "version": 3
   },
   "file_extension": ".py",
   "mimetype": "text/x-python",
   "name": "python",
   "nbconvert_exporter": "python",
   "pygments_lexer": "ipython3",
   "version": "3.11.1"
  }
 },
 "nbformat": 4,
 "nbformat_minor": 5
}
