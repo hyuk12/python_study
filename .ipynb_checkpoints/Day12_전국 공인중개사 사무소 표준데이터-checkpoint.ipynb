{
 "cells": [
  {
   "cell_type": "markdown",
   "id": "e82cf9ef",
   "metadata": {},
   "source": [
    "# 전국 공인 중개사 사무소 표준 데이터\n",
    "https://www.data.go.kr/data/15107745/standard.do\n",
    "\n",
    "- 공인중개사 / 개업공인중개사 비율\n",
    "- 공제 미가입 중개사 count, 전체 대비 비율\n",
    "- oo공인중개... 중 흔한 상호명\n",
    "  oo공인중개... 가 아닌 것은 따로 저장"
   ]
  },
  {
   "cell_type": "code",
   "execution_count": 13,
   "id": "ed441590",
   "metadata": {},
   "outputs": [],
   "source": [
    "import numpy as np\n",
    "\n",
    "def my_split(s):\n",
    "    block_start = False\n",
    "    start_index = 0\n",
    "    ret_list=[]\n",
    "    for i, c in enumerate(s):\n",
    "        if block_start==False:\n",
    "            if c==',':\n",
    "                ret_list.append(s[start_index:i])\n",
    "                start_index=i+1\n",
    "            elif c=='\"':\n",
    "                block_start=True\n",
    "                start_index = i\n",
    "        else:\n",
    "            if c=='\"':\n",
    "                block_start=False\n",
    "    if s[-1]!=',':\n",
    "        ret_list.append(s[start_index:])\n",
    "    return ret_list\n",
    "\n",
    "def split_len(data_list):\n",
    "    len_list=[]\n",
    "    for e in data_list:\n",
    "        len_list.append(len(e))\n",
    "    print(set(len_list))\n",
    "    if len(set(len_list))>1:\n",
    "        for i in set(len_list):\n",
    "            print(i, len_list.count(i))\n",
    "\n",
    "raw_data = []\n",
    "with open('전국공인중개사사무소표준데이터.csv') as f:\n",
    "    for line in f:\n",
    "        raw_data.append(my_split(line))\n"
   ]
  },
  {
   "cell_type": "code",
   "execution_count": 32,
   "id": "41f5b1f9",
   "metadata": {},
   "outputs": [
    {
     "name": "stdout",
     "output_type": "stream",
     "text": [
      "['중개사무소명', '개설등록번호', '개업공인중개사종별구분', '소재지도로명주소', '소재지지번주소', '전화번호', '개설등록일자', '공제가입유무', '대표자명', '위도', '경도', '중개보조원수', '소속공인중개사수', '홈페이지주소', '데이터기준일자', '제공기관코드', '제공기관명']\n",
      "{17}\n",
      "['중개사무소명', '개설등록번호', '개업공인중개사종별구분', '소재지도로명주소', '소재지지번주소', '전화번호', '개설등록일자', '공제가입유무', '대표자명', '위도', '경도', '중개보조원수', '소속공인중개사수', '홈페이지주소', '데이터기준일자', '제공기관코드', '제공기관명']\n",
      "{17}\n"
     ]
    }
   ],
   "source": [
    "print(raw_data[0])\n",
    "split_len(raw_data)\n",
    "\n",
    "for i in raw_data:\n",
    "    i[0] = i[0].lstrip('\\ufeff')\n",
    "    i[-1] = i[-1].rstrip('\\n')\n",
    "        \n",
    "print(raw_data[0])   \n",
    "split_len(raw_data)"
   ]
  },
  {
   "cell_type": "code",
   "execution_count": 39,
   "id": "b6138541",
   "metadata": {},
   "outputs": [
    {
     "name": "stdout",
     "output_type": "stream",
     "text": [
      "(29370, 17)\n",
      "['중개사무소명' '개설등록번호' '개업공인중개사종별구분' '소재지도로명주소' '소재지지번주소' '전화번호' '개설등록일자'\n",
      " '공제가입유무']\n"
     ]
    }
   ],
   "source": [
    "np_data = np.array(raw_data)\n",
    "print(np_data.shape) \n",
    "np_data = np_data[:, 0:8]\n",
    "print(np_data[0])\n"
   ]
  },
  {
   "cell_type": "code",
   "execution_count": 78,
   "id": "a557840d",
   "metadata": {},
   "outputs": [],
   "source": [
    "broker_type = []\n",
    "p_list = []\n",
    "c_list = []\n",
    "license_p_list = []\n",
    "for i in np_data[1:]:\n",
    "    if '개업공인중개사'in i[2]:\n",
    "        license_p_list.append(i[2])\n",
    "    elif '법인' in i[2]:\n",
    "        c_list.append(i[2])\n",
    "    else:\n",
    "        p_list.append(i[2])\n",
    "        \n"
   ]
  },
  {
   "cell_type": "code",
   "execution_count": 106,
   "id": "7ac74513",
   "metadata": {},
   "outputs": [
    {
     "name": "stdout",
     "output_type": "stream",
     "text": [
      "23757\n",
      "527\n",
      "5085\n"
     ]
    }
   ],
   "source": [
    "print(p_list.count('공인중개사'))\n",
    "print(c_list.count('법인'))\n",
    "print(license_p_list.count('개업공인중개사'))\n",
    "\n",
    "def percent_count(list_a, b):\n",
    "    count_number = 0\n",
    "    p_count = 0.0\n",
    "    \n",
    "    if b == '개업공인중개사':\n",
    "        count_number = list_a.count(b)\n",
    "    if b == '법인':\n",
    "        count_number = list_a.count(b)\n",
    "    if b == '공인중개사':\n",
    "        count_number = list_a.count(b)\n",
    "    if b == 'Y':\n",
    "        count_number = list_a.count(b)    \n",
    "    if b == 'N':\n",
    "        count_number = list_a.count(b)\n",
    "        \n",
    "    p_count = float(100 * (count_number / 29370))\n",
    "    return p_count"
   ]
  },
  {
   "cell_type": "code",
   "execution_count": 110,
   "id": "82ea9277",
   "metadata": {},
   "outputs": [
    {
     "name": "stdout",
     "output_type": "stream",
     "text": [
      "공인중개사 비율: 80.88866189989785 %\n",
      "법인 비율: 1.7943479741232549 %\n",
      "개업공인중개사 비율: 17.31358529111338 %\n"
     ]
    }
   ],
   "source": [
    "print('공인중개사 비율:', percent_count(p_list, '공인중개사'), '%')\n",
    "print('법인 비율:', percent_count(c_list, '법인'), '%')\n",
    "print('개업공인중개사 비율:', percent_count(license_p_list, '개업공인중개사'), '%')"
   ]
  },
  {
   "cell_type": "code",
   "execution_count": 104,
   "id": "f642a755",
   "metadata": {},
   "outputs": [],
   "source": [
    "y_list = []\n",
    "n_list = []\n",
    "for i in np_data[1:]:\n",
    "    if 'Y' in i[-1]:\n",
    "        y_list.append(i[-1])\n",
    "    else:\n",
    "        n_list.append(i[-1])"
   ]
  },
  {
   "cell_type": "code",
   "execution_count": 111,
   "id": "ad4eaec4",
   "metadata": {},
   "outputs": [
    {
     "name": "stdout",
     "output_type": "stream",
     "text": [
      "공제가입유: 99.89445011916922 %\n",
      "공제가입무: 0.10214504596527069 %\n"
     ]
    }
   ],
   "source": [
    "print('공제가입유:', percent_count(y_list, 'Y'), '%')\n",
    "print('공제가입무:' ,percent_count(n_list, 'N'), '%')"
   ]
  },
  {
   "cell_type": "code",
   "execution_count": 126,
   "id": "eb068a39",
   "metadata": {},
   "outputs": [
    {
     "name": "stdout",
     "output_type": "stream",
     "text": [
      "중개사무소명\n"
     ]
    }
   ],
   "source": [
    "print(np_data[0][0])\n",
    "brokerage_office = []\n",
    "\n",
    "for i in np_data[1:]:\n",
    "    if '공인중개사사무소' in i[0]:\n",
    "        brokerage_office.append(i[0].strip('공인중개사사무소'))\n",
    "for n in brokerage_office:\n",
    "    \n",
    "    n = n.strip('부동산')\n",
    "\n"
   ]
  },
  {
   "cell_type": "code",
   "execution_count": 127,
   "id": "b7fc3660",
   "metadata": {},
   "outputs": [
    {
     "name": "stdout",
     "output_type": "stream",
     "text": [
      "공인중개사사무소 흔한이름 top10:  [('삼성', 116), ('현대', 110), ('우리', 97), ('하나', 85), ('행운', 83), ('미래', 83), ('태양', 75), ('황금', 75), ('제일', 68), ('에이스', 67)]\n"
     ]
    }
   ],
   "source": [
    "count_list = []\n",
    "p_set = set(brokerage_office[1:])\n",
    "for v in p_set:\n",
    "    count_list.append((v, brokerage_office.count(v)))\n",
    "x = sorted(count_list, key = lambda x: x[1], reverse = True)\n",
    "print('공인중개사사무소 흔한이름 top10: ', x[:10])"
   ]
  },
  {
   "cell_type": "code",
   "execution_count": null,
   "id": "cc684136",
   "metadata": {},
   "outputs": [],
   "source": []
  }
 ],
 "metadata": {
  "kernelspec": {
   "display_name": "Python 3 (ipykernel)",
   "language": "python",
   "name": "python3"
  },
  "language_info": {
   "codemirror_mode": {
    "name": "ipython",
    "version": 3
   },
   "file_extension": ".py",
   "mimetype": "text/x-python",
   "name": "python",
   "nbconvert_exporter": "python",
   "pygments_lexer": "ipython3",
   "version": "3.11.1"
  }
 },
 "nbformat": 4,
 "nbformat_minor": 5
}
